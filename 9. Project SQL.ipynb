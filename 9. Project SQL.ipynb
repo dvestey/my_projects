{
  "cells": [
    {
      "cell_type": "markdown",
      "metadata": {
        "id": "CWiC_19Wquvq"
      },
      "source": [
        "# SQL-анализ базы данных сервиса для чтения книг по подписке"
      ]
    },
    {
      "cell_type": "markdown",
      "metadata": {
        "id": "cnyjnxPyquvr"
      },
      "source": [
        "**Описание проекта:** Коронавирус застал мир врасплох, изменив привычный порядок вещей. На какое-то время жители городов перестали выходить на улицу, посещать кафе и торговые центры. Зато стало больше времени для книг. Это заметили стартаперы — и бросились создавать приложения для тех, кто любит читать.\n",
        "\n",
        "**Структура исследования:**\n",
        "- опишем цели исследования\n",
        "- исследуем таблицы — выведем первые строки\n",
        "- сделаем по одному SQL-запросу для решения каждого задания\n",
        "- выведем результаты каждого запроса в тетрадке\n",
        "- опишем выводы по каждой из решённых задач\n",
        "\n",
        "**Описание данных:**\n",
        "\n",
        "Таблица `books`\n",
        "\n",
        "Содержит данные о книгах:\n",
        "- `book_id` — идентификатор книги;\n",
        "- `author_id` — идентификатор автора;\n",
        "- `title` — название книги;\n",
        "- `num_pages` — количество страниц;\n",
        "- `publication_date` — дата публикации книги;\n",
        "- `publisher_id` — идентификатор издателя.\n",
        "\n",
        "Таблица `authors`\n",
        "\n",
        "Содержит данные об авторах:\n",
        "- `author_id` — идентификатор автора;\n",
        "- `author` — имя автора.\n",
        "\n",
        "Таблица `publishers`\n",
        "\n",
        "Содержит данные об издательствах:\n",
        "- `publisher_id` — идентификатор издательства;\n",
        "- `publisher` — название издательства;\n",
        "\n",
        "Таблица `ratings`\n",
        "\n",
        "Содержит данные о пользовательских оценках книг:\n",
        "- `rating_id` — идентификатор оценки;\n",
        "- `book_id` — идентификатор книги;\n",
        "- `username` — имя пользователя, оставившего оценку;\n",
        "- `rating` — оценка книги.\n",
        "\n",
        "Таблица reviews\n",
        "\n",
        "Содержит данные о пользовательских обзорах:\n",
        "- `review_id` — идентификатор обзора;\n",
        "- `book_id` — идентификатор книги;\n",
        "- `username` — имя автора обзора;\n",
        "- `text` — текст обзора."
      ]
    },
    {
      "cell_type": "markdown",
      "metadata": {
        "id": "GTr05kUfquvr"
      },
      "source": [
        "## Цель исследования и задачи"
      ]
    },
    {
      "cell_type": "markdown",
      "metadata": {
        "id": "MEdzqpItquvr"
      },
      "source": [
        "**Цель исследования:** Наша компания решила быть на волне и купила крупный сервис для чтения книг по подписке. Наша первая задача как аналитика — проанализировать базу данных. В ней — информация о книгах, издательствах, авторах, а также пользовательские обзоры книг. Эти данные помогут сформулировать ценностное предложение для нового продукта.\n",
        "\n",
        "**Задачи:**\n",
        "- посчитать, сколько книг вышло после 1 января 2000 года\n",
        "- для каждой книги посчитать количество обзоров и среднюю оценку\n",
        "- определить издательство, которое выпустило наибольшее число книг толще 50 страниц — так мы исключим из анализа брошюры\n",
        "- определить автора с самой высокой средней оценкой книг — учитываем только книги с 50 и более оценками\n",
        "- посчитать среднее количество обзоров от пользователей, которые поставили больше 48 оценок"
      ]
    },
    {
      "cell_type": "markdown",
      "metadata": {
        "id": "4h52-SLmquvr"
      },
      "source": [
        "## Подключение к базе данных"
      ]
    },
    {
      "cell_type": "code",
      "execution_count": null,
      "metadata": {
        "id": "_BR7MFH0quvr"
      },
      "outputs": [],
      "source": [
        "# импортируем библиотеки\n",
        "import pandas as pd\n",
        "from sqlalchemy import text, create_engine"
      ]
    },
    {
      "cell_type": "code",
      "execution_count": null,
      "metadata": {
        "id": "KcXtIo5Mquvs"
      },
      "outputs": [],
      "source": [
        "# устанавливаем параметры\n",
        "db_config = {'user': 'praktikum_student', # имя пользователя\n",
        "'pwd': 'Sdf4$2;d-d30pp', # пароль\n",
        "'host': 'rc1b-wcoijxj3yxfsf3fs.mdb.yandexcloud.net',\n",
        "'port': 6432, # порт подключения\n",
        "'db': 'data-analyst-final-project-db'} # название базы данных\n",
        "connection_string = 'postgresql://{user}:{pwd}@{host}:{port}/{db}'.format(**db_config)"
      ]
    },
    {
      "cell_type": "code",
      "execution_count": null,
      "metadata": {
        "id": "98skAVQpquvs"
      },
      "outputs": [],
      "source": [
        "# сохраняем коннектор\n",
        "engine = create_engine(connection_string, connect_args={'sslmode':'require'})\n",
        "con = engine.connect()"
      ]
    },
    {
      "cell_type": "markdown",
      "metadata": {
        "id": "JkYJkYaOquvs"
      },
      "source": [
        "## Получение общей информации о данных в таблицах"
      ]
    },
    {
      "cell_type": "code",
      "execution_count": null,
      "metadata": {
        "id": "UijE3oL5quvs"
      },
      "outputs": [],
      "source": [
        "# Напишем функцию для выполнения запросов\n",
        "def display(query):\n",
        "    return pd.io.sql.read_sql(sql=text(query), con=con)"
      ]
    },
    {
      "cell_type": "markdown",
      "metadata": {
        "id": "Nkdfl0nTquvt"
      },
      "source": [
        "Выведем первые строки таблицы `books`"
      ]
    },
    {
      "cell_type": "code",
      "execution_count": null,
      "metadata": {
        "id": "sael3bx-quvt",
        "outputId": "2bd94309-b707-4791-e5ef-874dc4eedf93"
      },
      "outputs": [
        {
          "data": {
            "text/html": [
              "<div>\n",
              "<style scoped>\n",
              "    .dataframe tbody tr th:only-of-type {\n",
              "        vertical-align: middle;\n",
              "    }\n",
              "\n",
              "    .dataframe tbody tr th {\n",
              "        vertical-align: top;\n",
              "    }\n",
              "\n",
              "    .dataframe thead th {\n",
              "        text-align: right;\n",
              "    }\n",
              "</style>\n",
              "<table border=\"1\" class=\"dataframe\">\n",
              "  <thead>\n",
              "    <tr style=\"text-align: right;\">\n",
              "      <th></th>\n",
              "      <th>book_id</th>\n",
              "      <th>author_id</th>\n",
              "      <th>title</th>\n",
              "      <th>num_pages</th>\n",
              "      <th>publication_date</th>\n",
              "      <th>publisher_id</th>\n",
              "    </tr>\n",
              "  </thead>\n",
              "  <tbody>\n",
              "    <tr>\n",
              "      <th>0</th>\n",
              "      <td>1</td>\n",
              "      <td>546</td>\n",
              "      <td>'Salem's Lot</td>\n",
              "      <td>594</td>\n",
              "      <td>2005-11-01</td>\n",
              "      <td>93</td>\n",
              "    </tr>\n",
              "    <tr>\n",
              "      <th>1</th>\n",
              "      <td>2</td>\n",
              "      <td>465</td>\n",
              "      <td>1 000 Places to See Before You Die</td>\n",
              "      <td>992</td>\n",
              "      <td>2003-05-22</td>\n",
              "      <td>336</td>\n",
              "    </tr>\n",
              "    <tr>\n",
              "      <th>2</th>\n",
              "      <td>3</td>\n",
              "      <td>407</td>\n",
              "      <td>13 Little Blue Envelopes (Little Blue Envelope...</td>\n",
              "      <td>322</td>\n",
              "      <td>2010-12-21</td>\n",
              "      <td>135</td>\n",
              "    </tr>\n",
              "    <tr>\n",
              "      <th>3</th>\n",
              "      <td>4</td>\n",
              "      <td>82</td>\n",
              "      <td>1491: New Revelations of the Americas Before C...</td>\n",
              "      <td>541</td>\n",
              "      <td>2006-10-10</td>\n",
              "      <td>309</td>\n",
              "    </tr>\n",
              "    <tr>\n",
              "      <th>4</th>\n",
              "      <td>5</td>\n",
              "      <td>125</td>\n",
              "      <td>1776</td>\n",
              "      <td>386</td>\n",
              "      <td>2006-07-04</td>\n",
              "      <td>268</td>\n",
              "    </tr>\n",
              "  </tbody>\n",
              "</table>\n",
              "</div>"
            ],
            "text/plain": [
              "   book_id  author_id                                              title  \\\n",
              "0        1        546                                       'Salem's Lot   \n",
              "1        2        465                 1 000 Places to See Before You Die   \n",
              "2        3        407  13 Little Blue Envelopes (Little Blue Envelope...   \n",
              "3        4         82  1491: New Revelations of the Americas Before C...   \n",
              "4        5        125                                               1776   \n",
              "\n",
              "   num_pages publication_date  publisher_id  \n",
              "0        594       2005-11-01            93  \n",
              "1        992       2003-05-22           336  \n",
              "2        322       2010-12-21           135  \n",
              "3        541       2006-10-10           309  \n",
              "4        386       2006-07-04           268  "
            ]
          },
          "execution_count": 5,
          "metadata": {},
          "output_type": "execute_result"
        }
      ],
      "source": [
        "books = '''\n",
        "\n",
        "SELECT *\n",
        "FROM books\n",
        "LIMIT 5;\n",
        "\n",
        "'''\n",
        "\n",
        "display(books)"
      ]
    },
    {
      "cell_type": "markdown",
      "metadata": {
        "id": "6Jh3lWQCquvt"
      },
      "source": [
        "Выведем первые строки таблицы `authors`"
      ]
    },
    {
      "cell_type": "code",
      "execution_count": null,
      "metadata": {
        "id": "azJjmqBlquvt",
        "outputId": "d6656193-f944-40c6-9e48-dd85a384d264"
      },
      "outputs": [
        {
          "data": {
            "text/html": [
              "<div>\n",
              "<style scoped>\n",
              "    .dataframe tbody tr th:only-of-type {\n",
              "        vertical-align: middle;\n",
              "    }\n",
              "\n",
              "    .dataframe tbody tr th {\n",
              "        vertical-align: top;\n",
              "    }\n",
              "\n",
              "    .dataframe thead th {\n",
              "        text-align: right;\n",
              "    }\n",
              "</style>\n",
              "<table border=\"1\" class=\"dataframe\">\n",
              "  <thead>\n",
              "    <tr style=\"text-align: right;\">\n",
              "      <th></th>\n",
              "      <th>author_id</th>\n",
              "      <th>author</th>\n",
              "    </tr>\n",
              "  </thead>\n",
              "  <tbody>\n",
              "    <tr>\n",
              "      <th>0</th>\n",
              "      <td>1</td>\n",
              "      <td>A.S. Byatt</td>\n",
              "    </tr>\n",
              "    <tr>\n",
              "      <th>1</th>\n",
              "      <td>2</td>\n",
              "      <td>Aesop/Laura Harris/Laura Gibbs</td>\n",
              "    </tr>\n",
              "    <tr>\n",
              "      <th>2</th>\n",
              "      <td>3</td>\n",
              "      <td>Agatha Christie</td>\n",
              "    </tr>\n",
              "    <tr>\n",
              "      <th>3</th>\n",
              "      <td>4</td>\n",
              "      <td>Alan Brennert</td>\n",
              "    </tr>\n",
              "    <tr>\n",
              "      <th>4</th>\n",
              "      <td>5</td>\n",
              "      <td>Alan Moore/David   Lloyd</td>\n",
              "    </tr>\n",
              "  </tbody>\n",
              "</table>\n",
              "</div>"
            ],
            "text/plain": [
              "   author_id                          author\n",
              "0          1                      A.S. Byatt\n",
              "1          2  Aesop/Laura Harris/Laura Gibbs\n",
              "2          3                 Agatha Christie\n",
              "3          4                   Alan Brennert\n",
              "4          5        Alan Moore/David   Lloyd"
            ]
          },
          "execution_count": 6,
          "metadata": {},
          "output_type": "execute_result"
        }
      ],
      "source": [
        "authors = '''\n",
        "\n",
        "SELECT *\n",
        "FROM authors\n",
        "LIMIT 5;\n",
        "\n",
        "'''\n",
        "\n",
        "display(authors)"
      ]
    },
    {
      "cell_type": "markdown",
      "metadata": {
        "id": "g88AtweOquvt"
      },
      "source": [
        "Выведем первые строки таблицы `publishers`"
      ]
    },
    {
      "cell_type": "code",
      "execution_count": null,
      "metadata": {
        "id": "hQR1LzJKquvt",
        "outputId": "487ff6d3-d7e4-44d5-9ca3-38b4b3e102ab"
      },
      "outputs": [
        {
          "data": {
            "text/html": [
              "<div>\n",
              "<style scoped>\n",
              "    .dataframe tbody tr th:only-of-type {\n",
              "        vertical-align: middle;\n",
              "    }\n",
              "\n",
              "    .dataframe tbody tr th {\n",
              "        vertical-align: top;\n",
              "    }\n",
              "\n",
              "    .dataframe thead th {\n",
              "        text-align: right;\n",
              "    }\n",
              "</style>\n",
              "<table border=\"1\" class=\"dataframe\">\n",
              "  <thead>\n",
              "    <tr style=\"text-align: right;\">\n",
              "      <th></th>\n",
              "      <th>publisher_id</th>\n",
              "      <th>publisher</th>\n",
              "    </tr>\n",
              "  </thead>\n",
              "  <tbody>\n",
              "    <tr>\n",
              "      <th>0</th>\n",
              "      <td>1</td>\n",
              "      <td>Ace</td>\n",
              "    </tr>\n",
              "    <tr>\n",
              "      <th>1</th>\n",
              "      <td>2</td>\n",
              "      <td>Ace Book</td>\n",
              "    </tr>\n",
              "    <tr>\n",
              "      <th>2</th>\n",
              "      <td>3</td>\n",
              "      <td>Ace Books</td>\n",
              "    </tr>\n",
              "    <tr>\n",
              "      <th>3</th>\n",
              "      <td>4</td>\n",
              "      <td>Ace Hardcover</td>\n",
              "    </tr>\n",
              "    <tr>\n",
              "      <th>4</th>\n",
              "      <td>5</td>\n",
              "      <td>Addison Wesley Publishing Company</td>\n",
              "    </tr>\n",
              "  </tbody>\n",
              "</table>\n",
              "</div>"
            ],
            "text/plain": [
              "   publisher_id                          publisher\n",
              "0             1                                Ace\n",
              "1             2                           Ace Book\n",
              "2             3                          Ace Books\n",
              "3             4                      Ace Hardcover\n",
              "4             5  Addison Wesley Publishing Company"
            ]
          },
          "execution_count": 7,
          "metadata": {},
          "output_type": "execute_result"
        }
      ],
      "source": [
        "publishers = '''\n",
        "\n",
        "SELECT *\n",
        "FROM publishers\n",
        "LIMIT 5;\n",
        "\n",
        "'''\n",
        "\n",
        "display(publishers)"
      ]
    },
    {
      "cell_type": "markdown",
      "metadata": {
        "id": "gd8BNMF9quvu"
      },
      "source": [
        "Выведем первые строки таблицы `ratings`"
      ]
    },
    {
      "cell_type": "code",
      "execution_count": null,
      "metadata": {
        "id": "-NkF9APUquvu",
        "outputId": "b1d28a78-64ad-4464-da80-0b695708fda9"
      },
      "outputs": [
        {
          "data": {
            "text/html": [
              "<div>\n",
              "<style scoped>\n",
              "    .dataframe tbody tr th:only-of-type {\n",
              "        vertical-align: middle;\n",
              "    }\n",
              "\n",
              "    .dataframe tbody tr th {\n",
              "        vertical-align: top;\n",
              "    }\n",
              "\n",
              "    .dataframe thead th {\n",
              "        text-align: right;\n",
              "    }\n",
              "</style>\n",
              "<table border=\"1\" class=\"dataframe\">\n",
              "  <thead>\n",
              "    <tr style=\"text-align: right;\">\n",
              "      <th></th>\n",
              "      <th>rating_id</th>\n",
              "      <th>book_id</th>\n",
              "      <th>username</th>\n",
              "      <th>rating</th>\n",
              "    </tr>\n",
              "  </thead>\n",
              "  <tbody>\n",
              "    <tr>\n",
              "      <th>0</th>\n",
              "      <td>1</td>\n",
              "      <td>1</td>\n",
              "      <td>ryanfranco</td>\n",
              "      <td>4</td>\n",
              "    </tr>\n",
              "    <tr>\n",
              "      <th>1</th>\n",
              "      <td>2</td>\n",
              "      <td>1</td>\n",
              "      <td>grantpatricia</td>\n",
              "      <td>2</td>\n",
              "    </tr>\n",
              "    <tr>\n",
              "      <th>2</th>\n",
              "      <td>3</td>\n",
              "      <td>1</td>\n",
              "      <td>brandtandrea</td>\n",
              "      <td>5</td>\n",
              "    </tr>\n",
              "    <tr>\n",
              "      <th>3</th>\n",
              "      <td>4</td>\n",
              "      <td>2</td>\n",
              "      <td>lorichen</td>\n",
              "      <td>3</td>\n",
              "    </tr>\n",
              "    <tr>\n",
              "      <th>4</th>\n",
              "      <td>5</td>\n",
              "      <td>2</td>\n",
              "      <td>mariokeller</td>\n",
              "      <td>2</td>\n",
              "    </tr>\n",
              "  </tbody>\n",
              "</table>\n",
              "</div>"
            ],
            "text/plain": [
              "   rating_id  book_id       username  rating\n",
              "0          1        1     ryanfranco       4\n",
              "1          2        1  grantpatricia       2\n",
              "2          3        1   brandtandrea       5\n",
              "3          4        2       lorichen       3\n",
              "4          5        2    mariokeller       2"
            ]
          },
          "execution_count": 8,
          "metadata": {},
          "output_type": "execute_result"
        }
      ],
      "source": [
        "ratings = '''\n",
        "\n",
        "SELECT *\n",
        "FROM ratings\n",
        "LIMIT 5;\n",
        "\n",
        "'''\n",
        "\n",
        "display(ratings)"
      ]
    },
    {
      "cell_type": "markdown",
      "metadata": {
        "id": "uWHdiBeIquvu"
      },
      "source": [
        "Выведем первые строки таблицы `reviews`"
      ]
    },
    {
      "cell_type": "code",
      "execution_count": null,
      "metadata": {
        "id": "YjfKBaxPquvu",
        "outputId": "31776964-6b63-4397-e669-7ef5f574796b"
      },
      "outputs": [
        {
          "data": {
            "text/html": [
              "<div>\n",
              "<style scoped>\n",
              "    .dataframe tbody tr th:only-of-type {\n",
              "        vertical-align: middle;\n",
              "    }\n",
              "\n",
              "    .dataframe tbody tr th {\n",
              "        vertical-align: top;\n",
              "    }\n",
              "\n",
              "    .dataframe thead th {\n",
              "        text-align: right;\n",
              "    }\n",
              "</style>\n",
              "<table border=\"1\" class=\"dataframe\">\n",
              "  <thead>\n",
              "    <tr style=\"text-align: right;\">\n",
              "      <th></th>\n",
              "      <th>review_id</th>\n",
              "      <th>book_id</th>\n",
              "      <th>username</th>\n",
              "      <th>text</th>\n",
              "    </tr>\n",
              "  </thead>\n",
              "  <tbody>\n",
              "    <tr>\n",
              "      <th>0</th>\n",
              "      <td>1</td>\n",
              "      <td>1</td>\n",
              "      <td>brandtandrea</td>\n",
              "      <td>Mention society tell send professor analysis. ...</td>\n",
              "    </tr>\n",
              "    <tr>\n",
              "      <th>1</th>\n",
              "      <td>2</td>\n",
              "      <td>1</td>\n",
              "      <td>ryanfranco</td>\n",
              "      <td>Foot glass pretty audience hit themselves. Amo...</td>\n",
              "    </tr>\n",
              "    <tr>\n",
              "      <th>2</th>\n",
              "      <td>3</td>\n",
              "      <td>2</td>\n",
              "      <td>lorichen</td>\n",
              "      <td>Listen treat keep worry. Miss husband tax but ...</td>\n",
              "    </tr>\n",
              "    <tr>\n",
              "      <th>3</th>\n",
              "      <td>4</td>\n",
              "      <td>3</td>\n",
              "      <td>johnsonamanda</td>\n",
              "      <td>Finally month interesting blue could nature cu...</td>\n",
              "    </tr>\n",
              "    <tr>\n",
              "      <th>4</th>\n",
              "      <td>5</td>\n",
              "      <td>3</td>\n",
              "      <td>scotttamara</td>\n",
              "      <td>Nation purpose heavy give wait song will. List...</td>\n",
              "    </tr>\n",
              "  </tbody>\n",
              "</table>\n",
              "</div>"
            ],
            "text/plain": [
              "   review_id  book_id       username  \\\n",
              "0          1        1   brandtandrea   \n",
              "1          2        1     ryanfranco   \n",
              "2          3        2       lorichen   \n",
              "3          4        3  johnsonamanda   \n",
              "4          5        3    scotttamara   \n",
              "\n",
              "                                                text  \n",
              "0  Mention society tell send professor analysis. ...  \n",
              "1  Foot glass pretty audience hit themselves. Amo...  \n",
              "2  Listen treat keep worry. Miss husband tax but ...  \n",
              "3  Finally month interesting blue could nature cu...  \n",
              "4  Nation purpose heavy give wait song will. List...  "
            ]
          },
          "execution_count": 9,
          "metadata": {},
          "output_type": "execute_result"
        }
      ],
      "source": [
        "reviews = '''\n",
        "\n",
        "SELECT *\n",
        "FROM reviews\n",
        "LIMIT 5;\n",
        "\n",
        "'''\n",
        "\n",
        "display(reviews)"
      ]
    },
    {
      "cell_type": "markdown",
      "metadata": {
        "id": "bAkqJ6hzquvu"
      },
      "source": [
        "Мы изучили общую информацию о данных, теперь можем приступать к исследовательскому анализу."
      ]
    },
    {
      "cell_type": "markdown",
      "metadata": {
        "id": "-T5QbWNtquvu"
      },
      "source": [
        "## Исследовательский анализ данных"
      ]
    },
    {
      "cell_type": "markdown",
      "metadata": {
        "id": "0FTovFzaquvu"
      },
      "source": [
        "### Посчитаем, сколько книг вышло после 1 января 2000 года"
      ]
    },
    {
      "cell_type": "code",
      "execution_count": null,
      "metadata": {
        "id": "UoJrEca4quvu",
        "outputId": "137df992-d453-45dd-9fda-f331e0906842"
      },
      "outputs": [
        {
          "data": {
            "text/html": [
              "<div>\n",
              "<style scoped>\n",
              "    .dataframe tbody tr th:only-of-type {\n",
              "        vertical-align: middle;\n",
              "    }\n",
              "\n",
              "    .dataframe tbody tr th {\n",
              "        vertical-align: top;\n",
              "    }\n",
              "\n",
              "    .dataframe thead th {\n",
              "        text-align: right;\n",
              "    }\n",
              "</style>\n",
              "<table border=\"1\" class=\"dataframe\">\n",
              "  <thead>\n",
              "    <tr style=\"text-align: right;\">\n",
              "      <th></th>\n",
              "      <th>books_count</th>\n",
              "    </tr>\n",
              "  </thead>\n",
              "  <tbody>\n",
              "    <tr>\n",
              "      <th>0</th>\n",
              "      <td>819</td>\n",
              "    </tr>\n",
              "  </tbody>\n",
              "</table>\n",
              "</div>"
            ],
            "text/plain": [
              "   books_count\n",
              "0          819"
            ]
          },
          "execution_count": 10,
          "metadata": {},
          "output_type": "execute_result"
        }
      ],
      "source": [
        "books_count = '''\n",
        "\n",
        "SELECT COUNT(*) AS books_count\n",
        "FROM books\n",
        "WHERE publication_date > '2000-01-01';\n",
        "\n",
        "'''\n",
        "\n",
        "display(books_count)"
      ]
    },
    {
      "cell_type": "markdown",
      "metadata": {
        "id": "RLLL4_Igquvu"
      },
      "source": [
        "После 1 января 2000 года вышло **819 книг.**"
      ]
    },
    {
      "cell_type": "code",
      "execution_count": null,
      "metadata": {
        "id": "F90EamVlquvu",
        "outputId": "6262f80a-daec-4816-e1e4-b0cbd69210df"
      },
      "outputs": [
        {
          "data": {
            "text/html": [
              "<div>\n",
              "<style scoped>\n",
              "    .dataframe tbody tr th:only-of-type {\n",
              "        vertical-align: middle;\n",
              "    }\n",
              "\n",
              "    .dataframe tbody tr th {\n",
              "        vertical-align: top;\n",
              "    }\n",
              "\n",
              "    .dataframe thead th {\n",
              "        text-align: right;\n",
              "    }\n",
              "</style>\n",
              "<table border=\"1\" class=\"dataframe\">\n",
              "  <thead>\n",
              "    <tr style=\"text-align: right;\">\n",
              "      <th></th>\n",
              "      <th>books_count</th>\n",
              "    </tr>\n",
              "  </thead>\n",
              "  <tbody>\n",
              "    <tr>\n",
              "      <th>0</th>\n",
              "      <td>1000</td>\n",
              "    </tr>\n",
              "  </tbody>\n",
              "</table>\n",
              "</div>"
            ],
            "text/plain": [
              "   books_count\n",
              "0         1000"
            ]
          },
          "execution_count": 11,
          "metadata": {},
          "output_type": "execute_result"
        }
      ],
      "source": [
        "all_books = '''\n",
        "\n",
        "SELECT COUNT(*) AS books_count\n",
        "FROM books;\n",
        "\n",
        "'''\n",
        "\n",
        "display(all_books)"
      ]
    },
    {
      "cell_type": "markdown",
      "metadata": {
        "id": "FRIXnfroquvv"
      },
      "source": [
        "Всего имеются данные о **1000 книгах.**"
      ]
    },
    {
      "cell_type": "markdown",
      "metadata": {
        "id": "q7GtJoipquvv"
      },
      "source": [
        "### Для каждой книги посчитаем количество обзоров и среднюю оценку"
      ]
    },
    {
      "cell_type": "code",
      "execution_count": null,
      "metadata": {
        "id": "vc_lODwBquvv",
        "outputId": "b0c0ac13-c756-4082-8f84-8199f0a05fb5"
      },
      "outputs": [
        {
          "data": {
            "text/html": [
              "<div>\n",
              "<style scoped>\n",
              "    .dataframe tbody tr th:only-of-type {\n",
              "        vertical-align: middle;\n",
              "    }\n",
              "\n",
              "    .dataframe tbody tr th {\n",
              "        vertical-align: top;\n",
              "    }\n",
              "\n",
              "    .dataframe thead th {\n",
              "        text-align: right;\n",
              "    }\n",
              "</style>\n",
              "<table border=\"1\" class=\"dataframe\">\n",
              "  <thead>\n",
              "    <tr style=\"text-align: right;\">\n",
              "      <th></th>\n",
              "      <th>title</th>\n",
              "      <th>avg_rating</th>\n",
              "      <th>total_reviews</th>\n",
              "    </tr>\n",
              "  </thead>\n",
              "  <tbody>\n",
              "    <tr>\n",
              "      <th>0</th>\n",
              "      <td>Twilight (Twilight  #1)</td>\n",
              "      <td>3.66</td>\n",
              "      <td>7</td>\n",
              "    </tr>\n",
              "    <tr>\n",
              "      <th>1</th>\n",
              "      <td>Water for Elephants</td>\n",
              "      <td>3.98</td>\n",
              "      <td>6</td>\n",
              "    </tr>\n",
              "    <tr>\n",
              "      <th>2</th>\n",
              "      <td>The Glass Castle</td>\n",
              "      <td>4.21</td>\n",
              "      <td>6</td>\n",
              "    </tr>\n",
              "    <tr>\n",
              "      <th>3</th>\n",
              "      <td>Harry Potter and the Prisoner of Azkaban (Harr...</td>\n",
              "      <td>4.41</td>\n",
              "      <td>6</td>\n",
              "    </tr>\n",
              "    <tr>\n",
              "      <th>4</th>\n",
              "      <td>The Curious Incident of the Dog in the Night-Time</td>\n",
              "      <td>4.08</td>\n",
              "      <td>6</td>\n",
              "    </tr>\n",
              "    <tr>\n",
              "      <th>...</th>\n",
              "      <td>...</td>\n",
              "      <td>...</td>\n",
              "      <td>...</td>\n",
              "    </tr>\n",
              "    <tr>\n",
              "      <th>995</th>\n",
              "      <td>Anne Rice's The Vampire Lestat: A Graphic Novel</td>\n",
              "      <td>3.67</td>\n",
              "      <td>0</td>\n",
              "    </tr>\n",
              "    <tr>\n",
              "      <th>996</th>\n",
              "      <td>The Natural Way to Draw</td>\n",
              "      <td>3.00</td>\n",
              "      <td>0</td>\n",
              "    </tr>\n",
              "    <tr>\n",
              "      <th>997</th>\n",
              "      <td>The Cat in the Hat and Other Dr. Seuss Favorites</td>\n",
              "      <td>5.00</td>\n",
              "      <td>0</td>\n",
              "    </tr>\n",
              "    <tr>\n",
              "      <th>998</th>\n",
              "      <td>Essential Tales and Poems</td>\n",
              "      <td>4.00</td>\n",
              "      <td>0</td>\n",
              "    </tr>\n",
              "    <tr>\n",
              "      <th>999</th>\n",
              "      <td>Disney's Beauty and the Beast (A Little Golden...</td>\n",
              "      <td>4.00</td>\n",
              "      <td>0</td>\n",
              "    </tr>\n",
              "  </tbody>\n",
              "</table>\n",
              "<p>1000 rows × 3 columns</p>\n",
              "</div>"
            ],
            "text/plain": [
              "                                                 title  avg_rating  \\\n",
              "0                              Twilight (Twilight  #1)        3.66   \n",
              "1                                  Water for Elephants        3.98   \n",
              "2                                     The Glass Castle        4.21   \n",
              "3    Harry Potter and the Prisoner of Azkaban (Harr...        4.41   \n",
              "4    The Curious Incident of the Dog in the Night-Time        4.08   \n",
              "..                                                 ...         ...   \n",
              "995    Anne Rice's The Vampire Lestat: A Graphic Novel        3.67   \n",
              "996                            The Natural Way to Draw        3.00   \n",
              "997   The Cat in the Hat and Other Dr. Seuss Favorites        5.00   \n",
              "998                          Essential Tales and Poems        4.00   \n",
              "999  Disney's Beauty and the Beast (A Little Golden...        4.00   \n",
              "\n",
              "     total_reviews  \n",
              "0                7  \n",
              "1                6  \n",
              "2                6  \n",
              "3                6  \n",
              "4                6  \n",
              "..             ...  \n",
              "995              0  \n",
              "996              0  \n",
              "997              0  \n",
              "998              0  \n",
              "999              0  \n",
              "\n",
              "[1000 rows x 3 columns]"
            ]
          },
          "execution_count": 12,
          "metadata": {},
          "output_type": "execute_result"
        }
      ],
      "source": [
        "rating_reviews = '''\n",
        "\n",
        "SELECT b.title,\n",
        "       ROUND(AVG(ra.rating), 2) AS avg_rating,\n",
        "       COUNT(DISTINCT re.review_id) AS total_reviews\n",
        "FROM books AS b\n",
        "INNER JOIN ratings AS ra ON ra.book_id = b.book_id\n",
        "LEFT JOIN reviews AS re ON re.book_id = b.book_id\n",
        "GROUP BY b.title,\n",
        "         b.book_id\n",
        "ORDER BY total_reviews DESC;\n",
        "\n",
        "'''\n",
        "\n",
        "display(rating_reviews)"
      ]
    },
    {
      "cell_type": "markdown",
      "metadata": {
        "id": "tIa8Sebsquvv"
      },
      "source": [
        "Для каждой книги было посчитано количество обзоров, и средняя оценка. Топ-5 книг по количеству обзоров:\n",
        "- *Twilight (Twilight #1)* - **7** обзоров со средней оценкой **3.66**\n",
        "- *Water for Elephants* - **6** обзоров со средней оценкой **3.98**\n",
        "- *The Glass Castle* - **6** обзоров со средней оценкой **4.21**\n",
        "- *Harry Potter and the Prisoner of Azkaban* - **6** обзоров со средней оценкой **4.41**\n",
        "- *The Curious Incident of the Dog in the Night-Time* - **6** обзоров со средней оценкой **4.08**"
      ]
    },
    {
      "cell_type": "markdown",
      "metadata": {
        "id": "bWI7DFqnquvv"
      },
      "source": [
        "### Определим издательство, которое выпустило наибольшее число книг толще 50 страниц"
      ]
    },
    {
      "cell_type": "code",
      "execution_count": null,
      "metadata": {
        "id": "Gb_kinQrquvv",
        "outputId": "3f6aa480-dcf5-4eb4-8603-750b0155c97d"
      },
      "outputs": [
        {
          "data": {
            "text/html": [
              "<div>\n",
              "<style scoped>\n",
              "    .dataframe tbody tr th:only-of-type {\n",
              "        vertical-align: middle;\n",
              "    }\n",
              "\n",
              "    .dataframe tbody tr th {\n",
              "        vertical-align: top;\n",
              "    }\n",
              "\n",
              "    .dataframe thead th {\n",
              "        text-align: right;\n",
              "    }\n",
              "</style>\n",
              "<table border=\"1\" class=\"dataframe\">\n",
              "  <thead>\n",
              "    <tr style=\"text-align: right;\">\n",
              "      <th></th>\n",
              "      <th>publisher</th>\n",
              "      <th>books</th>\n",
              "    </tr>\n",
              "  </thead>\n",
              "  <tbody>\n",
              "    <tr>\n",
              "      <th>0</th>\n",
              "      <td>Penguin Books</td>\n",
              "      <td>42</td>\n",
              "    </tr>\n",
              "  </tbody>\n",
              "</table>\n",
              "</div>"
            ],
            "text/plain": [
              "       publisher  books\n",
              "0  Penguin Books     42"
            ]
          },
          "execution_count": 13,
          "metadata": {},
          "output_type": "execute_result"
        }
      ],
      "source": [
        "books_publisher = '''\n",
        "\n",
        "SELECT p.publisher,\n",
        "       COUNT(b.book_id) AS books\n",
        "FROM publishers AS p\n",
        "JOIN books AS b ON p.publisher_id = b.publisher_id\n",
        "WHERE b.num_pages > 50\n",
        "GROUP BY p.publisher_id\n",
        "ORDER BY books DESC\n",
        "LIMIT 1;\n",
        "\n",
        "'''\n",
        "\n",
        "display(books_publisher)"
      ]
    },
    {
      "cell_type": "markdown",
      "metadata": {
        "id": "-6mWFLa1quvv"
      },
      "source": [
        "Издательство, которое выпустило наибольшее число книг толще 50 страниц - *Penguin Books* **(42 книги).**"
      ]
    },
    {
      "cell_type": "markdown",
      "metadata": {
        "id": "c21rHrhzquvw"
      },
      "source": [
        "### Определим автора с самой высокой средней оценкой книг, учитывая только книги с 50 и более оценками"
      ]
    },
    {
      "cell_type": "code",
      "execution_count": null,
      "metadata": {
        "id": "bRuEhNN2quvw",
        "outputId": "499d7d43-0970-4a41-b77a-fd7cbd0e29ad"
      },
      "outputs": [
        {
          "data": {
            "text/html": [
              "<div>\n",
              "<style scoped>\n",
              "    .dataframe tbody tr th:only-of-type {\n",
              "        vertical-align: middle;\n",
              "    }\n",
              "\n",
              "    .dataframe tbody tr th {\n",
              "        vertical-align: top;\n",
              "    }\n",
              "\n",
              "    .dataframe thead th {\n",
              "        text-align: right;\n",
              "    }\n",
              "</style>\n",
              "<table border=\"1\" class=\"dataframe\">\n",
              "  <thead>\n",
              "    <tr style=\"text-align: right;\">\n",
              "      <th></th>\n",
              "      <th>author</th>\n",
              "      <th>average_rating</th>\n",
              "    </tr>\n",
              "  </thead>\n",
              "  <tbody>\n",
              "    <tr>\n",
              "      <th>0</th>\n",
              "      <td>J.K. Rowling/Mary GrandPré</td>\n",
              "      <td>4.283844</td>\n",
              "    </tr>\n",
              "  </tbody>\n",
              "</table>\n",
              "</div>"
            ],
            "text/plain": [
              "                       author  average_rating\n",
              "0  J.K. Rowling/Mary GrandPré        4.283844"
            ]
          },
          "execution_count": 14,
          "metadata": {},
          "output_type": "execute_result"
        }
      ],
      "source": [
        "rating_author = '''\n",
        "\n",
        "SELECT author,\n",
        "       AVG(avg_rating) AS average_rating\n",
        "FROM (SELECT author_id,\n",
        "             title,\n",
        "             AVG(rating) AS avg_rating\n",
        "     FROM books AS b\n",
        "     LEFT JOIN ratings AS r ON b.book_id = r.book_id\n",
        "     GROUP BY title, author_id\n",
        "     HAVING COUNT(rating_id) >= 50) AS query\n",
        "LEFT JOIN authors AS a ON query.author_id = a.author_id\n",
        "GROUP BY author\n",
        "ORDER BY average_rating DESC\n",
        "LIMIT 1;\n",
        "\n",
        "'''\n",
        "\n",
        "display(rating_author)"
      ]
    },
    {
      "cell_type": "markdown",
      "metadata": {
        "id": "008OS9UPquvw"
      },
      "source": [
        "Автор с самой высокой средней оценкой книг (учитывались только книги с 50 и более оценками) - *J.K. Rowling/Mary GrandPré* **(средняя оценка 4.28).**"
      ]
    },
    {
      "cell_type": "markdown",
      "metadata": {
        "id": "pIzTN9tLquvw"
      },
      "source": [
        "### Посчитаем среднее количество обзоров от пользователей, которые поставили больше 48 оценок"
      ]
    },
    {
      "cell_type": "code",
      "execution_count": null,
      "metadata": {
        "id": "ifxCk_CKquvw",
        "outputId": "ff6e6730-bdd8-43c0-bb17-ec4dd85b897c"
      },
      "outputs": [
        {
          "data": {
            "text/html": [
              "<div>\n",
              "<style scoped>\n",
              "    .dataframe tbody tr th:only-of-type {\n",
              "        vertical-align: middle;\n",
              "    }\n",
              "\n",
              "    .dataframe tbody tr th {\n",
              "        vertical-align: top;\n",
              "    }\n",
              "\n",
              "    .dataframe thead th {\n",
              "        text-align: right;\n",
              "    }\n",
              "</style>\n",
              "<table border=\"1\" class=\"dataframe\">\n",
              "  <thead>\n",
              "    <tr style=\"text-align: right;\">\n",
              "      <th></th>\n",
              "      <th>reviews_avg_count</th>\n",
              "    </tr>\n",
              "  </thead>\n",
              "  <tbody>\n",
              "    <tr>\n",
              "      <th>0</th>\n",
              "      <td>24.0</td>\n",
              "    </tr>\n",
              "  </tbody>\n",
              "</table>\n",
              "</div>"
            ],
            "text/plain": [
              "   reviews_avg_count\n",
              "0               24.0"
            ]
          },
          "execution_count": 15,
          "metadata": {},
          "output_type": "execute_result"
        }
      ],
      "source": [
        "reviews_avg = '''\n",
        "\n",
        "SELECT ROUND(AVG(count)) AS reviews_avg_count\n",
        "FROM (SELECT COUNT(text)\n",
        "     FROM reviews\n",
        "     FULL OUTER JOIN (SELECT username,\n",
        "                             COUNT(rating_id) as cnt\n",
        "                             FROM ratings\n",
        "                             GROUP BY username) AS cnt_rating\n",
        "     ON cnt_rating.username = reviews.username\n",
        "     WHERE cnt > 48\n",
        "     GROUP BY reviews.username) as count;\n",
        "\n",
        "'''\n",
        "\n",
        "display(reviews_avg)"
      ]
    },
    {
      "cell_type": "markdown",
      "metadata": {
        "id": "pRUx-wpMquvw"
      },
      "source": [
        "Среднее количество обзоров от пользователей, которые поставили больше 48 оценок - **24 обзора в среднем.**"
      ]
    },
    {
      "cell_type": "markdown",
      "metadata": {
        "id": "zhq8XooVquvx"
      },
      "source": [
        "## Общие выводы и рекомендации"
      ]
    },
    {
      "cell_type": "markdown",
      "metadata": {
        "id": "WOo1R8xjquvx"
      },
      "source": [
        "По результатам проведенного анализа базы данных сервиса для чтения книг по подписке, можно сделать следующие выводы:\n",
        "1. После 1 января 2000 года вышло **819 книг.** Так как это большинство **(82%),** можно предлагать пользователям эти книги.\n",
        "2. Для каждой книги было посчитано количество обзоров, и средняя оценка. Топ-5 книг по количеству обзоров:\n",
        "- *Twilight (Twilight #1)* - **7** обзоров со средней оценкой **3.66**\n",
        "- *Water for Elephants* - **6** обзоров со средней оценкой **3.98**\n",
        "- *The Glass Castle* - **6** обзоров со средней оценкой **4.21**\n",
        "- *Harry Potter and the Prisoner of Azkaban* - **6** обзоров со средней оценкой **4.41**\n",
        "- *The Curious Incident of the Dog in the Night-Time* - **6** обзоров со средней оценкой **4.08**\n",
        "\n",
        "Также, наверняка имеются книги с малым количеством обзоров, но с высокой оценкой. Можно рекомендовать их пользователям.\n",
        "\n",
        "3. Издательство, которое выпустило наибольшее число книг толще 50 страниц - *Penguin Books* **(42 книги).** Можно поощрять такие активные издательства, и рекомендовать их книги.\n",
        "4. Автор с самой высокой средней оценкой книг (учитывались только книги с 50 и более оценками) - *J.K. Rowling/Mary GrandPré* **(средняя оценка 4.28).** Можно рекомендовать пользователям этого автора, и других популярных авторов.\n",
        "5. Среднее количество обзоров от пользователей, которые поставили больше 48 оценок - **24 обзора в среднем.** Можно попробовать вовлечь больше пользователей в оценку книг для формирования более точных данных с целью их последующего анализа."
      ]
    }
  ],
  "metadata": {
    "ExecuteTimeLog": [
      {
        "duration": 10021,
        "start_time": "2025-03-02T18:35:36.885Z"
      },
      {
        "duration": 52,
        "start_time": "2025-03-02T18:35:46.908Z"
      },
      {
        "duration": 31,
        "start_time": "2025-03-02T18:35:46.961Z"
      },
      {
        "duration": 30,
        "start_time": "2025-03-02T18:35:46.993Z"
      },
      {
        "duration": 31,
        "start_time": "2025-03-02T18:35:47.025Z"
      },
      {
        "duration": 32,
        "start_time": "2025-03-02T18:35:47.057Z"
      },
      {
        "duration": 9524,
        "start_time": "2025-03-02T18:46:17.343Z"
      },
      {
        "duration": 2,
        "start_time": "2025-03-02T18:46:26.869Z"
      },
      {
        "duration": 101,
        "start_time": "2025-03-02T18:46:26.872Z"
      },
      {
        "duration": 31,
        "start_time": "2025-03-02T18:46:26.975Z"
      },
      {
        "duration": 31,
        "start_time": "2025-03-02T18:46:27.008Z"
      },
      {
        "duration": 32,
        "start_time": "2025-03-02T18:46:27.041Z"
      },
      {
        "duration": 32,
        "start_time": "2025-03-02T18:46:27.075Z"
      },
      {
        "duration": 9914,
        "start_time": "2025-03-02T18:53:40.684Z"
      },
      {
        "duration": 3,
        "start_time": "2025-03-02T18:53:50.600Z"
      },
      {
        "duration": 49,
        "start_time": "2025-03-02T18:53:50.604Z"
      },
      {
        "duration": 28,
        "start_time": "2025-03-02T18:53:50.654Z"
      },
      {
        "duration": 28,
        "start_time": "2025-03-02T18:53:50.684Z"
      },
      {
        "duration": 29,
        "start_time": "2025-03-02T18:53:50.713Z"
      },
      {
        "duration": 29,
        "start_time": "2025-03-02T18:53:50.744Z"
      },
      {
        "duration": 10457,
        "start_time": "2025-03-02T19:23:10.826Z"
      },
      {
        "duration": 3,
        "start_time": "2025-03-02T19:23:21.285Z"
      },
      {
        "duration": 56,
        "start_time": "2025-03-02T19:23:21.290Z"
      },
      {
        "duration": 31,
        "start_time": "2025-03-02T19:23:21.347Z"
      },
      {
        "duration": 30,
        "start_time": "2025-03-02T19:23:21.380Z"
      },
      {
        "duration": 31,
        "start_time": "2025-03-02T19:23:21.411Z"
      },
      {
        "duration": 31,
        "start_time": "2025-03-02T19:23:21.444Z"
      },
      {
        "duration": 31,
        "start_time": "2025-03-02T19:23:21.478Z"
      },
      {
        "duration": 70,
        "start_time": "2025-03-02T19:23:21.510Z"
      },
      {
        "duration": 32,
        "start_time": "2025-03-02T19:23:21.582Z"
      },
      {
        "duration": 37,
        "start_time": "2025-03-02T19:23:21.616Z"
      },
      {
        "duration": 33,
        "start_time": "2025-03-02T19:23:21.655Z"
      },
      {
        "duration": 9147,
        "start_time": "2025-03-02T19:34:40.696Z"
      },
      {
        "duration": 3,
        "start_time": "2025-03-02T19:34:49.845Z"
      },
      {
        "duration": 54,
        "start_time": "2025-03-02T19:34:49.849Z"
      },
      {
        "duration": 31,
        "start_time": "2025-03-02T19:34:49.904Z"
      },
      {
        "duration": 30,
        "start_time": "2025-03-02T19:34:49.937Z"
      },
      {
        "duration": 30,
        "start_time": "2025-03-02T19:34:49.969Z"
      },
      {
        "duration": 31,
        "start_time": "2025-03-02T19:34:50.001Z"
      },
      {
        "duration": 30,
        "start_time": "2025-03-02T19:34:50.034Z"
      },
      {
        "duration": 69,
        "start_time": "2025-03-02T19:34:50.066Z"
      },
      {
        "duration": 32,
        "start_time": "2025-03-02T19:34:50.136Z"
      },
      {
        "duration": 34,
        "start_time": "2025-03-02T19:34:50.170Z"
      },
      {
        "duration": 33,
        "start_time": "2025-03-02T19:34:50.206Z"
      },
      {
        "duration": 7213,
        "start_time": "2025-03-03T14:12:12.829Z"
      },
      {
        "duration": 3,
        "start_time": "2025-03-03T14:12:20.044Z"
      },
      {
        "duration": 83,
        "start_time": "2025-03-03T14:12:20.048Z"
      },
      {
        "duration": 13,
        "start_time": "2025-03-03T14:12:20.133Z"
      },
      {
        "duration": 38,
        "start_time": "2025-03-03T14:12:20.147Z"
      },
      {
        "duration": 33,
        "start_time": "2025-03-03T14:12:20.186Z"
      },
      {
        "duration": 27,
        "start_time": "2025-03-03T14:12:20.221Z"
      },
      {
        "duration": 11,
        "start_time": "2025-03-03T14:12:20.249Z"
      },
      {
        "duration": 31,
        "start_time": "2025-03-03T14:12:20.261Z"
      },
      {
        "duration": 12,
        "start_time": "2025-03-03T14:12:20.294Z"
      },
      {
        "duration": 21,
        "start_time": "2025-03-03T14:12:20.307Z"
      },
      {
        "duration": 36,
        "start_time": "2025-03-03T14:12:20.330Z"
      },
      {
        "duration": 15,
        "start_time": "2025-03-03T14:31:55.502Z"
      },
      {
        "duration": 17,
        "start_time": "2025-03-03T14:32:19.269Z"
      },
      {
        "duration": 15,
        "start_time": "2025-03-03T14:32:35.105Z"
      },
      {
        "duration": 556,
        "start_time": "2025-03-03T15:56:20.758Z"
      },
      {
        "duration": 4,
        "start_time": "2025-03-03T15:56:21.316Z"
      },
      {
        "duration": 8785,
        "start_time": "2025-03-03T15:56:21.322Z"
      },
      {
        "duration": 3,
        "start_time": "2025-03-03T15:56:30.108Z"
      },
      {
        "duration": 339,
        "start_time": "2025-03-03T15:56:30.113Z"
      },
      {
        "duration": 164,
        "start_time": "2025-03-03T15:56:30.454Z"
      },
      {
        "duration": 339,
        "start_time": "2025-03-03T15:56:30.619Z"
      },
      {
        "duration": 34,
        "start_time": "2025-03-03T15:56:30.959Z"
      },
      {
        "duration": 32,
        "start_time": "2025-03-03T15:56:30.995Z"
      },
      {
        "duration": 30,
        "start_time": "2025-03-03T15:56:31.029Z"
      },
      {
        "duration": 35,
        "start_time": "2025-03-03T15:56:31.060Z"
      },
      {
        "duration": 69,
        "start_time": "2025-03-03T15:56:31.097Z"
      },
      {
        "duration": 31,
        "start_time": "2025-03-03T15:56:31.168Z"
      },
      {
        "duration": 49,
        "start_time": "2025-03-03T15:56:31.202Z"
      },
      {
        "duration": 53,
        "start_time": "2025-03-03T15:56:31.252Z"
      },
      {
        "duration": 506,
        "start_time": "2025-03-03T15:58:53.887Z"
      },
      {
        "duration": 2,
        "start_time": "2025-03-03T15:58:54.395Z"
      },
      {
        "duration": 9236,
        "start_time": "2025-03-03T15:58:54.399Z"
      },
      {
        "duration": 3,
        "start_time": "2025-03-03T15:59:03.637Z"
      },
      {
        "duration": 104,
        "start_time": "2025-03-03T15:59:03.642Z"
      },
      {
        "duration": 154,
        "start_time": "2025-03-03T15:59:03.748Z"
      },
      {
        "duration": 189,
        "start_time": "2025-03-03T15:59:03.904Z"
      },
      {
        "duration": 245,
        "start_time": "2025-03-03T15:59:04.095Z"
      },
      {
        "duration": 31,
        "start_time": "2025-03-03T15:59:04.342Z"
      },
      {
        "duration": 30,
        "start_time": "2025-03-03T15:59:04.375Z"
      },
      {
        "duration": 31,
        "start_time": "2025-03-03T15:59:04.407Z"
      },
      {
        "duration": 106,
        "start_time": "2025-03-03T15:59:04.440Z"
      },
      {
        "duration": 34,
        "start_time": "2025-03-03T15:59:04.547Z"
      },
      {
        "duration": 35,
        "start_time": "2025-03-03T15:59:04.583Z"
      },
      {
        "duration": 33,
        "start_time": "2025-03-03T15:59:04.620Z"
      }
    ],
    "kernelspec": {
      "display_name": "Python 3 (ipykernel)",
      "language": "python",
      "name": "python3"
    },
    "language_info": {
      "codemirror_mode": {
        "name": "ipython",
        "version": 3
      },
      "file_extension": ".py",
      "mimetype": "text/x-python",
      "name": "python",
      "nbconvert_exporter": "python",
      "pygments_lexer": "ipython3",
      "version": "3.9.5"
    },
    "toc": {
      "base_numbering": 1,
      "nav_menu": {},
      "number_sections": true,
      "sideBar": true,
      "skip_h1_title": true,
      "title_cell": "Table of Contents",
      "title_sidebar": "Contents",
      "toc_cell": false,
      "toc_position": {},
      "toc_section_display": true,
      "toc_window_display": false
    },
    "colab": {
      "provenance": []
    }
  },
  "nbformat": 4,
  "nbformat_minor": 0
}