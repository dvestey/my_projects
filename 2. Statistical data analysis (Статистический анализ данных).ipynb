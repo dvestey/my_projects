{
  "cells": [
    {
      "cell_type": "markdown",
      "id": "bad5036c",
      "metadata": {
        "id": "bad5036c"
      },
      "source": [
        "# Исследование о пользователях и их поездках сервиса аренды самокатов"
      ]
    },
    {
      "cell_type": "markdown",
      "id": "e7c56711",
      "metadata": {
        "id": "e7c56711"
      },
      "source": [
        "В нашем распоряжении сведения о некоторых пользователях и их поездках популярного сервиса аренды самокатов GoFast. Необходимо проанализировать эти данные и проверить несколько гипотез с целью помощи для роста бизнеса.\n",
        "У сервиса GoFast есть мобильное приложение, через которое можно совершать поездки. Сервисом можно пользоваться с подпиской и без. Для анализа у нас есть данные о пользователях, информация об их поездках, а также вид подписки каждого пользователя.\n",
        "\n",
        "Перед тем, как проводить исследование, выведем первые строки датафрейма, и изучим общую информацию. Затем изменим тип данных там, где это необходимо, и проверим данные на наличие пропусков и дубликатов. При необходимости, обработаем их. После этого, добавим в датафреймы новые столбцы, которые пригодятся нам для расчетов и построения графиков. После чего приступим к исследовательскому анализу данных и проверке гипотез. В конце составим общий вывод, где будут отражены основные результаты исследования."
      ]
    },
    {
      "cell_type": "code",
      "execution_count": null,
      "id": "1b942d73",
      "metadata": {
        "id": "1b942d73"
      },
      "outputs": [],
      "source": [
        "import pandas as pd\n",
        "import matplotlib.pyplot as plt\n",
        "import seaborn as sns\n",
        "import numpy as np\n",
        "from scipy import stats as st"
      ]
    },
    {
      "cell_type": "markdown",
      "id": "dc5778bc",
      "metadata": {
        "id": "dc5778bc"
      },
      "source": [
        "## Шаг 1. Загрузка данных"
      ]
    },
    {
      "cell_type": "markdown",
      "id": "c6b37b97",
      "metadata": {
        "id": "c6b37b97"
      },
      "source": [
        "В нашем распоряжении 3 файла с данными. Прочтем их, для этого создадим 3 переменные, для каждого файла, и сохраним их. Затем выведем первые строки и изучим общую информацию о каждом датафрейме."
      ]
    },
    {
      "cell_type": "code",
      "execution_count": null,
      "id": "e579f6d6",
      "metadata": {
        "id": "e579f6d6"
      },
      "outputs": [],
      "source": [
        "data_users = pd.read_csv('/datasets/users_go.csv')\n",
        "data_rides = pd.read_csv('/datasets/rides_go.csv')\n",
        "data_subs = pd.read_csv('/datasets/subscriptions_go.csv')"
      ]
    },
    {
      "cell_type": "code",
      "execution_count": null,
      "id": "17e377c4",
      "metadata": {
        "id": "17e377c4",
        "outputId": "8b84d128-282f-49e6-a9fe-336a44cdda06"
      },
      "outputs": [
        {
          "name": "stdout",
          "output_type": "stream",
          "text": [
            "<class 'pandas.core.frame.DataFrame'>\n",
            "RangeIndex: 1565 entries, 0 to 1564\n",
            "Data columns (total 5 columns):\n",
            " #   Column             Non-Null Count  Dtype \n",
            "---  ------             --------------  ----- \n",
            " 0   user_id            1565 non-null   int64 \n",
            " 1   name               1565 non-null   object\n",
            " 2   age                1565 non-null   int64 \n",
            " 3   city               1565 non-null   object\n",
            " 4   subscription_type  1565 non-null   object\n",
            "dtypes: int64(2), object(3)\n",
            "memory usage: 61.3+ KB\n",
            "None\n"
          ]
        },
        {
          "data": {
            "text/html": [
              "<div>\n",
              "<style scoped>\n",
              "    .dataframe tbody tr th:only-of-type {\n",
              "        vertical-align: middle;\n",
              "    }\n",
              "\n",
              "    .dataframe tbody tr th {\n",
              "        vertical-align: top;\n",
              "    }\n",
              "\n",
              "    .dataframe thead th {\n",
              "        text-align: right;\n",
              "    }\n",
              "</style>\n",
              "<table border=\"1\" class=\"dataframe\">\n",
              "  <thead>\n",
              "    <tr style=\"text-align: right;\">\n",
              "      <th></th>\n",
              "      <th>user_id</th>\n",
              "      <th>name</th>\n",
              "      <th>age</th>\n",
              "      <th>city</th>\n",
              "      <th>subscription_type</th>\n",
              "    </tr>\n",
              "  </thead>\n",
              "  <tbody>\n",
              "    <tr>\n",
              "      <th>0</th>\n",
              "      <td>1</td>\n",
              "      <td>Кира</td>\n",
              "      <td>22</td>\n",
              "      <td>Тюмень</td>\n",
              "      <td>ultra</td>\n",
              "    </tr>\n",
              "    <tr>\n",
              "      <th>1</th>\n",
              "      <td>2</td>\n",
              "      <td>Станислав</td>\n",
              "      <td>31</td>\n",
              "      <td>Омск</td>\n",
              "      <td>ultra</td>\n",
              "    </tr>\n",
              "    <tr>\n",
              "      <th>2</th>\n",
              "      <td>3</td>\n",
              "      <td>Алексей</td>\n",
              "      <td>20</td>\n",
              "      <td>Москва</td>\n",
              "      <td>ultra</td>\n",
              "    </tr>\n",
              "    <tr>\n",
              "      <th>3</th>\n",
              "      <td>4</td>\n",
              "      <td>Константин</td>\n",
              "      <td>26</td>\n",
              "      <td>Ростов-на-Дону</td>\n",
              "      <td>ultra</td>\n",
              "    </tr>\n",
              "    <tr>\n",
              "      <th>4</th>\n",
              "      <td>5</td>\n",
              "      <td>Адель</td>\n",
              "      <td>28</td>\n",
              "      <td>Омск</td>\n",
              "      <td>ultra</td>\n",
              "    </tr>\n",
              "  </tbody>\n",
              "</table>\n",
              "</div>"
            ],
            "text/plain": [
              "   user_id        name  age            city subscription_type\n",
              "0        1        Кира   22          Тюмень             ultra\n",
              "1        2   Станислав   31            Омск             ultra\n",
              "2        3     Алексей   20          Москва             ultra\n",
              "3        4  Константин   26  Ростов-на-Дону             ultra\n",
              "4        5       Адель   28            Омск             ultra"
            ]
          },
          "execution_count": 3,
          "metadata": {},
          "output_type": "execute_result"
        }
      ],
      "source": [
        "print(data_users.info())\n",
        "data_users.head()"
      ]
    },
    {
      "cell_type": "code",
      "execution_count": null,
      "id": "6a674c80",
      "metadata": {
        "id": "6a674c80",
        "outputId": "1ba6ee56-45a3-43ec-fc8e-98b2072af1bc"
      },
      "outputs": [
        {
          "name": "stdout",
          "output_type": "stream",
          "text": [
            "<class 'pandas.core.frame.DataFrame'>\n",
            "RangeIndex: 18068 entries, 0 to 18067\n",
            "Data columns (total 4 columns):\n",
            " #   Column    Non-Null Count  Dtype  \n",
            "---  ------    --------------  -----  \n",
            " 0   user_id   18068 non-null  int64  \n",
            " 1   distance  18068 non-null  float64\n",
            " 2   duration  18068 non-null  float64\n",
            " 3   date      18068 non-null  object \n",
            "dtypes: float64(2), int64(1), object(1)\n",
            "memory usage: 564.8+ KB\n",
            "None\n"
          ]
        },
        {
          "data": {
            "text/html": [
              "<div>\n",
              "<style scoped>\n",
              "    .dataframe tbody tr th:only-of-type {\n",
              "        vertical-align: middle;\n",
              "    }\n",
              "\n",
              "    .dataframe tbody tr th {\n",
              "        vertical-align: top;\n",
              "    }\n",
              "\n",
              "    .dataframe thead th {\n",
              "        text-align: right;\n",
              "    }\n",
              "</style>\n",
              "<table border=\"1\" class=\"dataframe\">\n",
              "  <thead>\n",
              "    <tr style=\"text-align: right;\">\n",
              "      <th></th>\n",
              "      <th>user_id</th>\n",
              "      <th>distance</th>\n",
              "      <th>duration</th>\n",
              "      <th>date</th>\n",
              "    </tr>\n",
              "  </thead>\n",
              "  <tbody>\n",
              "    <tr>\n",
              "      <th>0</th>\n",
              "      <td>1</td>\n",
              "      <td>4409.919140</td>\n",
              "      <td>25.599769</td>\n",
              "      <td>2021-01-01</td>\n",
              "    </tr>\n",
              "    <tr>\n",
              "      <th>1</th>\n",
              "      <td>1</td>\n",
              "      <td>2617.592153</td>\n",
              "      <td>15.816871</td>\n",
              "      <td>2021-01-18</td>\n",
              "    </tr>\n",
              "    <tr>\n",
              "      <th>2</th>\n",
              "      <td>1</td>\n",
              "      <td>754.159807</td>\n",
              "      <td>6.232113</td>\n",
              "      <td>2021-04-20</td>\n",
              "    </tr>\n",
              "    <tr>\n",
              "      <th>3</th>\n",
              "      <td>1</td>\n",
              "      <td>2694.783254</td>\n",
              "      <td>18.511000</td>\n",
              "      <td>2021-08-11</td>\n",
              "    </tr>\n",
              "    <tr>\n",
              "      <th>4</th>\n",
              "      <td>1</td>\n",
              "      <td>4028.687306</td>\n",
              "      <td>26.265803</td>\n",
              "      <td>2021-08-28</td>\n",
              "    </tr>\n",
              "  </tbody>\n",
              "</table>\n",
              "</div>"
            ],
            "text/plain": [
              "   user_id     distance   duration        date\n",
              "0        1  4409.919140  25.599769  2021-01-01\n",
              "1        1  2617.592153  15.816871  2021-01-18\n",
              "2        1   754.159807   6.232113  2021-04-20\n",
              "3        1  2694.783254  18.511000  2021-08-11\n",
              "4        1  4028.687306  26.265803  2021-08-28"
            ]
          },
          "execution_count": 4,
          "metadata": {},
          "output_type": "execute_result"
        }
      ],
      "source": [
        "print(data_rides.info())\n",
        "data_rides.head()"
      ]
    },
    {
      "cell_type": "code",
      "execution_count": null,
      "id": "a56fbb65",
      "metadata": {
        "id": "a56fbb65",
        "outputId": "2b2782df-d2ad-4e02-a1c2-d2950ece141c"
      },
      "outputs": [
        {
          "name": "stdout",
          "output_type": "stream",
          "text": [
            "<class 'pandas.core.frame.DataFrame'>\n",
            "RangeIndex: 2 entries, 0 to 1\n",
            "Data columns (total 4 columns):\n",
            " #   Column             Non-Null Count  Dtype \n",
            "---  ------             --------------  ----- \n",
            " 0   subscription_type  2 non-null      object\n",
            " 1   minute_price       2 non-null      int64 \n",
            " 2   start_ride_price   2 non-null      int64 \n",
            " 3   subscription_fee   2 non-null      int64 \n",
            "dtypes: int64(3), object(1)\n",
            "memory usage: 192.0+ bytes\n",
            "None\n"
          ]
        },
        {
          "data": {
            "text/html": [
              "<div>\n",
              "<style scoped>\n",
              "    .dataframe tbody tr th:only-of-type {\n",
              "        vertical-align: middle;\n",
              "    }\n",
              "\n",
              "    .dataframe tbody tr th {\n",
              "        vertical-align: top;\n",
              "    }\n",
              "\n",
              "    .dataframe thead th {\n",
              "        text-align: right;\n",
              "    }\n",
              "</style>\n",
              "<table border=\"1\" class=\"dataframe\">\n",
              "  <thead>\n",
              "    <tr style=\"text-align: right;\">\n",
              "      <th></th>\n",
              "      <th>subscription_type</th>\n",
              "      <th>minute_price</th>\n",
              "      <th>start_ride_price</th>\n",
              "      <th>subscription_fee</th>\n",
              "    </tr>\n",
              "  </thead>\n",
              "  <tbody>\n",
              "    <tr>\n",
              "      <th>0</th>\n",
              "      <td>free</td>\n",
              "      <td>8</td>\n",
              "      <td>50</td>\n",
              "      <td>0</td>\n",
              "    </tr>\n",
              "    <tr>\n",
              "      <th>1</th>\n",
              "      <td>ultra</td>\n",
              "      <td>6</td>\n",
              "      <td>0</td>\n",
              "      <td>199</td>\n",
              "    </tr>\n",
              "  </tbody>\n",
              "</table>\n",
              "</div>"
            ],
            "text/plain": [
              "  subscription_type  minute_price  start_ride_price  subscription_fee\n",
              "0              free             8                50                 0\n",
              "1             ultra             6                 0               199"
            ]
          },
          "execution_count": 5,
          "metadata": {},
          "output_type": "execute_result"
        }
      ],
      "source": [
        "print(data_subs.info())\n",
        "data_subs.head()"
      ]
    },
    {
      "cell_type": "markdown",
      "id": "df458cae",
      "metadata": {
        "id": "df458cae"
      },
      "source": [
        "Таким образом, мы увидели, что в первом датафрейме хранятся данные о пользователях, во втором датафрейме - об их поездках, в третьем - сведения о подписках. Данные выглядят корректными, за исключением столбца с датами во втором датафрейме, там указан некорректный тип данных. Мы изменим его дальше, а именно в следующем шаге - предобработке данных."
      ]
    },
    {
      "cell_type": "markdown",
      "id": "3e0e799b",
      "metadata": {
        "id": "3e0e799b"
      },
      "source": [
        "## Шаг 2. Предобработка данных"
      ]
    },
    {
      "cell_type": "markdown",
      "id": "d6b3303c",
      "metadata": {
        "id": "d6b3303c"
      },
      "source": [
        "Так как в столбце *date* второго датафрейма указан некорректный тип данных, приведем этот столбец к типу данных *Pandas.* Затем снова выведем общую информацию, чтобы проверить корректность смены типа данных."
      ]
    },
    {
      "cell_type": "code",
      "execution_count": null,
      "id": "c7cf88f7",
      "metadata": {
        "id": "c7cf88f7",
        "outputId": "41c8ea2b-6728-4e89-8685-e4e0f7964625"
      },
      "outputs": [
        {
          "name": "stdout",
          "output_type": "stream",
          "text": [
            "<class 'pandas.core.frame.DataFrame'>\n",
            "RangeIndex: 18068 entries, 0 to 18067\n",
            "Data columns (total 4 columns):\n",
            " #   Column    Non-Null Count  Dtype         \n",
            "---  ------    --------------  -----         \n",
            " 0   user_id   18068 non-null  int64         \n",
            " 1   distance  18068 non-null  float64       \n",
            " 2   duration  18068 non-null  float64       \n",
            " 3   date      18068 non-null  datetime64[ns]\n",
            "dtypes: datetime64[ns](1), float64(2), int64(1)\n",
            "memory usage: 564.8 KB\n"
          ]
        }
      ],
      "source": [
        "data_rides['date'] = pd.to_datetime(data_rides['date'], format='%Y-%m-%d')\n",
        "data_rides.info()"
      ]
    },
    {
      "cell_type": "markdown",
      "id": "996f8347",
      "metadata": {
        "id": "996f8347"
      },
      "source": [
        "Теперь, на основе столбца *date* создадим новый столбец с номером месяца во втором датафрейме. Затем снова выведем первые строки, чтобы удостовериться, что новый столбец был создан корректно."
      ]
    },
    {
      "cell_type": "code",
      "execution_count": null,
      "id": "522afa59",
      "metadata": {
        "id": "522afa59",
        "outputId": "b9eb4aaf-2138-435b-eb5f-0967548ba518"
      },
      "outputs": [
        {
          "data": {
            "text/html": [
              "<div>\n",
              "<style scoped>\n",
              "    .dataframe tbody tr th:only-of-type {\n",
              "        vertical-align: middle;\n",
              "    }\n",
              "\n",
              "    .dataframe tbody tr th {\n",
              "        vertical-align: top;\n",
              "    }\n",
              "\n",
              "    .dataframe thead th {\n",
              "        text-align: right;\n",
              "    }\n",
              "</style>\n",
              "<table border=\"1\" class=\"dataframe\">\n",
              "  <thead>\n",
              "    <tr style=\"text-align: right;\">\n",
              "      <th></th>\n",
              "      <th>user_id</th>\n",
              "      <th>distance</th>\n",
              "      <th>duration</th>\n",
              "      <th>date</th>\n",
              "      <th>month</th>\n",
              "    </tr>\n",
              "  </thead>\n",
              "  <tbody>\n",
              "    <tr>\n",
              "      <th>0</th>\n",
              "      <td>1</td>\n",
              "      <td>4409.919140</td>\n",
              "      <td>25.599769</td>\n",
              "      <td>2021-01-01</td>\n",
              "      <td>1</td>\n",
              "    </tr>\n",
              "    <tr>\n",
              "      <th>1</th>\n",
              "      <td>1</td>\n",
              "      <td>2617.592153</td>\n",
              "      <td>15.816871</td>\n",
              "      <td>2021-01-18</td>\n",
              "      <td>1</td>\n",
              "    </tr>\n",
              "    <tr>\n",
              "      <th>2</th>\n",
              "      <td>1</td>\n",
              "      <td>754.159807</td>\n",
              "      <td>6.232113</td>\n",
              "      <td>2021-04-20</td>\n",
              "      <td>4</td>\n",
              "    </tr>\n",
              "    <tr>\n",
              "      <th>3</th>\n",
              "      <td>1</td>\n",
              "      <td>2694.783254</td>\n",
              "      <td>18.511000</td>\n",
              "      <td>2021-08-11</td>\n",
              "      <td>8</td>\n",
              "    </tr>\n",
              "    <tr>\n",
              "      <th>4</th>\n",
              "      <td>1</td>\n",
              "      <td>4028.687306</td>\n",
              "      <td>26.265803</td>\n",
              "      <td>2021-08-28</td>\n",
              "      <td>8</td>\n",
              "    </tr>\n",
              "    <tr>\n",
              "      <th>...</th>\n",
              "      <td>...</td>\n",
              "      <td>...</td>\n",
              "      <td>...</td>\n",
              "      <td>...</td>\n",
              "      <td>...</td>\n",
              "    </tr>\n",
              "    <tr>\n",
              "      <th>18063</th>\n",
              "      <td>1534</td>\n",
              "      <td>3781.098080</td>\n",
              "      <td>19.822962</td>\n",
              "      <td>2021-11-04</td>\n",
              "      <td>11</td>\n",
              "    </tr>\n",
              "    <tr>\n",
              "      <th>18064</th>\n",
              "      <td>1534</td>\n",
              "      <td>2840.423057</td>\n",
              "      <td>21.409799</td>\n",
              "      <td>2021-11-16</td>\n",
              "      <td>11</td>\n",
              "    </tr>\n",
              "    <tr>\n",
              "      <th>18065</th>\n",
              "      <td>1534</td>\n",
              "      <td>3826.185507</td>\n",
              "      <td>18.435051</td>\n",
              "      <td>2021-11-18</td>\n",
              "      <td>11</td>\n",
              "    </tr>\n",
              "    <tr>\n",
              "      <th>18066</th>\n",
              "      <td>1534</td>\n",
              "      <td>2902.308661</td>\n",
              "      <td>16.674362</td>\n",
              "      <td>2021-11-27</td>\n",
              "      <td>11</td>\n",
              "    </tr>\n",
              "    <tr>\n",
              "      <th>18067</th>\n",
              "      <td>1534</td>\n",
              "      <td>2371.711192</td>\n",
              "      <td>15.893917</td>\n",
              "      <td>2021-12-29</td>\n",
              "      <td>12</td>\n",
              "    </tr>\n",
              "  </tbody>\n",
              "</table>\n",
              "<p>18068 rows × 5 columns</p>\n",
              "</div>"
            ],
            "text/plain": [
              "       user_id     distance   duration       date  month\n",
              "0            1  4409.919140  25.599769 2021-01-01      1\n",
              "1            1  2617.592153  15.816871 2021-01-18      1\n",
              "2            1   754.159807   6.232113 2021-04-20      4\n",
              "3            1  2694.783254  18.511000 2021-08-11      8\n",
              "4            1  4028.687306  26.265803 2021-08-28      8\n",
              "...        ...          ...        ...        ...    ...\n",
              "18063     1534  3781.098080  19.822962 2021-11-04     11\n",
              "18064     1534  2840.423057  21.409799 2021-11-16     11\n",
              "18065     1534  3826.185507  18.435051 2021-11-18     11\n",
              "18066     1534  2902.308661  16.674362 2021-11-27     11\n",
              "18067     1534  2371.711192  15.893917 2021-12-29     12\n",
              "\n",
              "[18068 rows x 5 columns]"
            ]
          },
          "execution_count": 7,
          "metadata": {},
          "output_type": "execute_result"
        }
      ],
      "source": [
        "data_rides['month'] = data_rides['date'].dt.month\n",
        "data_rides"
      ]
    },
    {
      "cell_type": "markdown",
      "id": "dce02269",
      "metadata": {
        "id": "dce02269"
      },
      "source": [
        "Проверим, за какой период у нас имеются данные."
      ]
    },
    {
      "cell_type": "code",
      "execution_count": null,
      "id": "658322a0",
      "metadata": {
        "id": "658322a0",
        "outputId": "d7cbc59d-a813-4faa-9e9c-38abd707e2f7"
      },
      "outputs": [
        {
          "name": "stdout",
          "output_type": "stream",
          "text": [
            "2021-01-01 00:00:00\n",
            "2021-12-30 00:00:00\n"
          ]
        },
        {
          "data": {
            "text/plain": [
              "1     1585\n",
              "5     1560\n",
              "6     1553\n",
              "3     1544\n",
              "7     1529\n",
              "12    1527\n",
              "8     1518\n",
              "9     1517\n",
              "4     1506\n",
              "10    1475\n",
              "11    1418\n",
              "2     1336\n",
              "Name: month, dtype: int64"
            ]
          },
          "execution_count": 8,
          "metadata": {},
          "output_type": "execute_result"
        }
      ],
      "source": [
        "print(data_rides['date'].min())\n",
        "print(data_rides['date'].max())\n",
        "data_rides['month'].value_counts()"
      ]
    },
    {
      "cell_type": "markdown",
      "id": "a67f1b66",
      "metadata": {
        "id": "a67f1b66"
      },
      "source": [
        "Таким образом, данные есть по всем 12 месяцам 2021 года. Больше всего поездок в январе (1585), меньше всего - в феврале (1336)."
      ]
    },
    {
      "cell_type": "markdown",
      "id": "cf31cf73",
      "metadata": {
        "id": "cf31cf73"
      },
      "source": [
        "Теперь, проверим датафреймы на наличие пропусков и дубликатов."
      ]
    },
    {
      "cell_type": "code",
      "execution_count": null,
      "id": "89799dab",
      "metadata": {
        "id": "89799dab",
        "outputId": "703377c2-f762-4d1a-c2a5-6c5655a2767c"
      },
      "outputs": [
        {
          "data": {
            "text/plain": [
              "31"
            ]
          },
          "execution_count": 9,
          "metadata": {},
          "output_type": "execute_result"
        }
      ],
      "source": [
        "data_users.duplicated().sum()"
      ]
    },
    {
      "cell_type": "markdown",
      "id": "96fc81fd",
      "metadata": {
        "id": "96fc81fd"
      },
      "source": [
        "В первом датафрейме обнаружился 31 дубликат. Удалим строки-дубликаты, и уберем пропуски в индексах."
      ]
    },
    {
      "cell_type": "code",
      "execution_count": null,
      "id": "e3f8a492",
      "metadata": {
        "id": "e3f8a492",
        "outputId": "f112b23a-9a84-4f74-b27a-4595c25c2f70"
      },
      "outputs": [
        {
          "data": {
            "text/plain": [
              "0"
            ]
          },
          "execution_count": 10,
          "metadata": {},
          "output_type": "execute_result"
        }
      ],
      "source": [
        "data_users = data_users.drop_duplicates().reset_index(drop=True)\n",
        "data_users.duplicated().sum()"
      ]
    },
    {
      "cell_type": "markdown",
      "id": "09bc0b95",
      "metadata": {
        "id": "09bc0b95"
      },
      "source": [
        "Дубликатов нет, теперь проверим на наличие пропусков."
      ]
    },
    {
      "cell_type": "code",
      "execution_count": null,
      "id": "cfce2d9e",
      "metadata": {
        "id": "cfce2d9e",
        "outputId": "6e6fff2e-c058-4c11-fc83-2a77de210833"
      },
      "outputs": [
        {
          "data": {
            "text/plain": [
              "user_id              0\n",
              "name                 0\n",
              "age                  0\n",
              "city                 0\n",
              "subscription_type    0\n",
              "dtype: int64"
            ]
          },
          "execution_count": 11,
          "metadata": {},
          "output_type": "execute_result"
        }
      ],
      "source": [
        "data_users.isna().sum()"
      ]
    },
    {
      "cell_type": "markdown",
      "id": "1b0fcdd3",
      "metadata": {
        "id": "1b0fcdd3"
      },
      "source": [
        "Перейдем ко второму датафрейму."
      ]
    },
    {
      "cell_type": "code",
      "execution_count": null,
      "id": "33ef8588",
      "metadata": {
        "id": "33ef8588",
        "outputId": "c83bf7d7-fa4d-4087-a3b7-ee13e5c279be"
      },
      "outputs": [
        {
          "data": {
            "text/plain": [
              "0"
            ]
          },
          "execution_count": 12,
          "metadata": {},
          "output_type": "execute_result"
        }
      ],
      "source": [
        "data_rides.duplicated().sum()"
      ]
    },
    {
      "cell_type": "code",
      "execution_count": null,
      "id": "f9eba004",
      "metadata": {
        "id": "f9eba004",
        "outputId": "75263f1e-d564-4efa-f26d-ebde73e26212"
      },
      "outputs": [
        {
          "data": {
            "text/plain": [
              "user_id     0\n",
              "distance    0\n",
              "duration    0\n",
              "date        0\n",
              "month       0\n",
              "dtype: int64"
            ]
          },
          "execution_count": 13,
          "metadata": {},
          "output_type": "execute_result"
        }
      ],
      "source": [
        "data_rides.isna().sum()"
      ]
    },
    {
      "cell_type": "markdown",
      "id": "f0772641",
      "metadata": {
        "id": "f0772641"
      },
      "source": [
        "Во втором датафрейме дубликатов и пропусков не обнаружено, переходим к последнему, третьему датафрейму."
      ]
    },
    {
      "cell_type": "code",
      "execution_count": null,
      "id": "74d868d8",
      "metadata": {
        "id": "74d868d8",
        "outputId": "640f37bd-f256-4a26-cbd9-d3d9147630a9"
      },
      "outputs": [
        {
          "data": {
            "text/plain": [
              "0"
            ]
          },
          "execution_count": 14,
          "metadata": {},
          "output_type": "execute_result"
        }
      ],
      "source": [
        "data_subs.duplicated().sum()"
      ]
    },
    {
      "cell_type": "code",
      "execution_count": null,
      "id": "c563d0e6",
      "metadata": {
        "id": "c563d0e6",
        "outputId": "19b8d996-3fc1-493a-dd53-3a9860836620"
      },
      "outputs": [
        {
          "data": {
            "text/plain": [
              "subscription_type    0\n",
              "minute_price         0\n",
              "start_ride_price     0\n",
              "subscription_fee     0\n",
              "dtype: int64"
            ]
          },
          "execution_count": 15,
          "metadata": {},
          "output_type": "execute_result"
        }
      ],
      "source": [
        "data_subs.isna().sum()"
      ]
    },
    {
      "cell_type": "markdown",
      "id": "9f6a81f4",
      "metadata": {
        "id": "9f6a81f4"
      },
      "source": [
        "В третьем датафрейме так же не обнаружено пропусков и дубликатов, поэтому можем переходить к 3 шагу, а именно исследовательскому анализу данных."
      ]
    },
    {
      "cell_type": "markdown",
      "id": "e6b7e4bd",
      "metadata": {
        "id": "e6b7e4bd"
      },
      "source": [
        "Мы сменили тип данных в столбце date, создали отдельный столбец с номерами месяцев для удобства группировки в будущем, удалили дубликаты, где они были, и проверили, что пропуски в данных отсутствуют."
      ]
    },
    {
      "cell_type": "markdown",
      "id": "03fbcfc1",
      "metadata": {
        "id": "03fbcfc1"
      },
      "source": [
        "## Шаг 3. Исследовательский анализ данных"
      ]
    },
    {
      "cell_type": "markdown",
      "id": "ddadfc2d",
      "metadata": {
        "id": "ddadfc2d"
      },
      "source": [
        "Опишем и визуализируем некоторые параметры из датафреймов."
      ]
    },
    {
      "cell_type": "markdown",
      "id": "92a1d1be",
      "metadata": {
        "id": "92a1d1be"
      },
      "source": [
        "### Частота встречаемости городов"
      ]
    },
    {
      "cell_type": "code",
      "execution_count": null,
      "id": "5e50ba4d",
      "metadata": {
        "id": "5e50ba4d",
        "outputId": "5a285781-ff3a-4fc9-a8f9-102e21b2853e"
      },
      "outputs": [
        {
          "data": {
            "text/plain": [
              "Пятигорск         219\n",
              "Екатеринбург      204\n",
              "Ростов-на-Дону    198\n",
              "Краснодар         193\n",
              "Сочи              189\n",
              "Омск              183\n",
              "Тюмень            180\n",
              "Москва            168\n",
              "Name: city, dtype: int64"
            ]
          },
          "execution_count": 16,
          "metadata": {},
          "output_type": "execute_result"
        }
      ],
      "source": [
        "city_counts = data_users['city'].value_counts()\n",
        "city_counts"
      ]
    },
    {
      "cell_type": "markdown",
      "id": "0ff49ac6",
      "metadata": {
        "id": "0ff49ac6"
      },
      "source": [
        "Для наглядной визуализации построим столбчатую диаграмму с помощью бибилиотек *seaborn* и *matplotlib.*"
      ]
    },
    {
      "cell_type": "code",
      "execution_count": null,
      "id": "a811dbfb",
      "metadata": {
        "id": "a811dbfb",
        "outputId": "212a678a-72d6-42a8-8d01-809b92e6b993"
      },
      "outputs": [
        {
          "data": {
            "image/png": "[encoded data removed]",
            "text/plain": [
              "<Figure size 576x576 with 1 Axes>"
            ]
          },
          "metadata": {
            "needs_background": "light"
          },
          "output_type": "display_data"
        }
      ],
      "source": [
        "plt.figure(figsize=(8, 8))\n",
        "sns.barplot(x=city_counts.values, y=city_counts.index)\n",
        "plt.title('График частоты встречаемости городов')\n",
        "plt.xlabel('Количество пользователей')\n",
        "plt.ylabel('Город')\n",
        "plt.xticks(rotation=50)\n",
        "plt.show()"
      ]
    },
    {
      "cell_type": "markdown",
      "id": "3bd0e84d",
      "metadata": {
        "id": "3bd0e84d"
      },
      "source": [
        "Мы видим, что самое большое количество пользователей сервиса из **Пятигорска (219),** а самое малое - из **Москвы (168).** Но в целом, разница пользователей не слишком большая, так как между первым и последним городом - всего **около 3.3 %.**"
      ]
    },
    {
      "cell_type": "markdown",
      "id": "862caf0f",
      "metadata": {
        "id": "862caf0f"
      },
      "source": [
        "### Соотношение пользователей с подпиской и без подписки"
      ]
    },
    {
      "cell_type": "code",
      "execution_count": null,
      "id": "27fe4668",
      "metadata": {
        "id": "27fe4668",
        "outputId": "acd6207a-ec63-4ce2-b23c-313428e4aaea"
      },
      "outputs": [
        {
          "data": {
            "text/plain": [
              "free     835\n",
              "ultra    699\n",
              "Name: subscription_type, dtype: int64"
            ]
          },
          "execution_count": 18,
          "metadata": {},
          "output_type": "execute_result"
        }
      ],
      "source": [
        "data_users['subscription_type'].value_counts()"
      ]
    },
    {
      "cell_type": "markdown",
      "id": "5739ef63",
      "metadata": {
        "id": "5739ef63"
      },
      "source": [
        "Для визуализации соотношения идеально подойдет круговая диаграмма. Построим ее, и вычислим процентное соотношение пользователей с подпиской и без."
      ]
    },
    {
      "cell_type": "code",
      "execution_count": null,
      "id": "aa736540",
      "metadata": {
        "id": "aa736540",
        "outputId": "e49bd1c2-769b-473c-a5f1-5d76d70b0e60"
      },
      "outputs": [
        {
          "data": {
            "image/png": "[encoded data removed]",
            "text/plain": [
              "<Figure size 576x576 with 1 Axes>"
            ]
          },
          "metadata": {},
          "output_type": "display_data"
        },
        {
          "data": {
            "text/html": [
              "<div>\n",
              "<style scoped>\n",
              "    .dataframe tbody tr th:only-of-type {\n",
              "        vertical-align: middle;\n",
              "    }\n",
              "\n",
              "    .dataframe tbody tr th {\n",
              "        vertical-align: top;\n",
              "    }\n",
              "\n",
              "    .dataframe thead th {\n",
              "        text-align: right;\n",
              "    }\n",
              "</style>\n",
              "<table border=\"1\" class=\"dataframe\">\n",
              "  <thead>\n",
              "    <tr style=\"text-align: right;\">\n",
              "      <th></th>\n",
              "      <th>user_id</th>\n",
              "      <th>percent_user</th>\n",
              "    </tr>\n",
              "    <tr>\n",
              "      <th>subscription_type</th>\n",
              "      <th></th>\n",
              "      <th></th>\n",
              "    </tr>\n",
              "  </thead>\n",
              "  <tbody>\n",
              "    <tr>\n",
              "      <th>free</th>\n",
              "      <td>835</td>\n",
              "      <td>54.432855</td>\n",
              "    </tr>\n",
              "    <tr>\n",
              "      <th>ultra</th>\n",
              "      <td>699</td>\n",
              "      <td>45.567145</td>\n",
              "    </tr>\n",
              "  </tbody>\n",
              "</table>\n",
              "</div>"
            ],
            "text/plain": [
              "                   user_id  percent_user\n",
              "subscription_type                       \n",
              "free                   835     54.432855\n",
              "ultra                  699     45.567145"
            ]
          },
          "execution_count": 19,
          "metadata": {},
          "output_type": "execute_result"
        }
      ],
      "source": [
        "type_users = data_users.pivot_table(index='subscription_type', values='user_id', aggfunc='count')\n",
        "type_users['percent_user'] = (type_users['user_id'] / type_users['user_id'].sum()) * 100\n",
        "\n",
        "type_users.plot(y='user_id', kind='pie', figsize=(8, 8), legend=False, autopct='%.2f')\n",
        "plt.title('Круговая диаграмма соотношения пользователей с подпиской и без подписки')\n",
        "plt.ylabel('Тип подписки')\n",
        "plt.show()\n",
        "type_users.sort_values(by='percent_user', ascending=False)"
      ]
    },
    {
      "cell_type": "markdown",
      "id": "709cb8a3",
      "metadata": {
        "id": "709cb8a3"
      },
      "source": [
        "Таким образом, мы выяснили, что пользователей **без подписки (835)** на 136 человек больше, чем пользователей **с подпиской (699).** Соотношение сторон - **54.43 % на 45.57 %.**"
      ]
    },
    {
      "cell_type": "markdown",
      "id": "42e737e3",
      "metadata": {
        "id": "42e737e3"
      },
      "source": [
        "### Возраст пользователей"
      ]
    },
    {
      "cell_type": "code",
      "execution_count": null,
      "id": "e21b24d0",
      "metadata": {
        "id": "e21b24d0",
        "outputId": "bb2ce9d7-ae28-4bab-ca60-23ab9039e5bc"
      },
      "outputs": [
        {
          "data": {
            "text/plain": [
              "25    145\n",
              "24    132\n",
              "26    131\n",
              "23    129\n",
              "27    119\n",
              "22    119\n",
              "28    112\n",
              "21     93\n",
              "20     71\n",
              "30     68\n",
              "29     68\n",
              "31     48\n",
              "19     47\n",
              "18     46\n",
              "32     41\n",
              "33     39\n",
              "17     26\n",
              "34     19\n",
              "16     19\n",
              "35     15\n",
              "15     13\n",
              "14      9\n",
              "13      8\n",
              "36      6\n",
              "12      4\n",
              "38      3\n",
              "37      2\n",
              "39      1\n",
              "43      1\n",
              "Name: age, dtype: int64"
            ]
          },
          "execution_count": 20,
          "metadata": {},
          "output_type": "execute_result"
        }
      ],
      "source": [
        "data_users['age'].value_counts()"
      ]
    },
    {
      "cell_type": "code",
      "execution_count": null,
      "id": "72f94d8c",
      "metadata": {
        "id": "72f94d8c",
        "outputId": "8775a040-bc55-4038-f4be-4e76684cb612"
      },
      "outputs": [
        {
          "data": {
            "text/plain": [
              "count    1534.000000\n",
              "mean       24.903520\n",
              "std         4.572367\n",
              "min        12.000000\n",
              "25%        22.000000\n",
              "50%        25.000000\n",
              "75%        28.000000\n",
              "max        43.000000\n",
              "Name: age, dtype: float64"
            ]
          },
          "execution_count": 21,
          "metadata": {},
          "output_type": "execute_result"
        }
      ],
      "source": [
        "data_users['age'].describe()"
      ]
    },
    {
      "cell_type": "markdown",
      "id": "157b5bde",
      "metadata": {
        "id": "157b5bde"
      },
      "source": [
        "Методом describe() мы узнали некоторые параметры по данным столбца с возрастом пользователей: средний возраст - около 25 лет, минимальный возраст - 12 лет, максимальный возраст - 43 года."
      ]
    },
    {
      "cell_type": "markdown",
      "id": "64c95471",
      "metadata": {
        "id": "64c95471"
      },
      "source": [
        "Для такого количества данных достаточно будет построить гистограмму, что мы и сделаем."
      ]
    },
    {
      "cell_type": "code",
      "execution_count": null,
      "id": "607024c5",
      "metadata": {
        "id": "607024c5",
        "outputId": "1937075e-96d2-4a9a-fd7a-6d3d3a344517"
      },
      "outputs": [
        {
          "data": {
            "image/png": "[encoded data removed]",
            "text/plain": [
              "<Figure size 576x360 with 1 Axes>"
            ]
          },
          "metadata": {
            "needs_background": "light"
          },
          "output_type": "display_data"
        }
      ],
      "source": [
        "data_users.plot(y='age', kind='hist', bins=30, grid=True, figsize=(8, 5), legend=False)\n",
        "plt.title('График возрастов пользователей')\n",
        "plt.xlabel('Возраст')\n",
        "plt.ylabel('Количество пользователей')\n",
        "plt.show()"
      ]
    },
    {
      "cell_type": "markdown",
      "id": "db90eff1",
      "metadata": {
        "id": "db90eff1"
      },
      "source": [
        "На гистограмме видно, что возраст пользователей распределен нормально, однако, вынужден отметить, что согласно правилам дорожного движения, арендовать самокат можно только лицам 18 лет и старше.\n",
        "\n",
        "Больше всего сервисом пользуются пользователи **25 лет - 145 человек.** А вот пользователей **39 и 43 лет - всего по 1.**"
      ]
    },
    {
      "cell_type": "markdown",
      "id": "d65f2d82",
      "metadata": {
        "id": "d65f2d82"
      },
      "source": [
        "### Расстояние, которое пользователь преодолел за одну поездку"
      ]
    },
    {
      "cell_type": "code",
      "execution_count": null,
      "id": "fe819cd7",
      "metadata": {
        "id": "fe819cd7",
        "outputId": "c1bb319f-d071-4eba-a9e6-db2c21ea58d2"
      },
      "outputs": [
        {
          "data": {
            "text/plain": [
              "741.545359     1\n",
              "4158.226381    1\n",
              "3672.118870    1\n",
              "4533.004089    1\n",
              "2437.274120    1\n",
              "              ..\n",
              "2949.530545    1\n",
              "3289.893471    1\n",
              "3047.554085    1\n",
              "2931.718067    1\n",
              "4031.935032    1\n",
              "Name: distance, Length: 18068, dtype: int64"
            ]
          },
          "execution_count": 23,
          "metadata": {},
          "output_type": "execute_result"
        }
      ],
      "source": [
        "data_rides['distance'].value_counts()"
      ]
    },
    {
      "cell_type": "code",
      "execution_count": null,
      "id": "11256b33",
      "metadata": {
        "id": "11256b33",
        "outputId": "a164f43e-048a-44fb-b932-ef4bfb04db82"
      },
      "outputs": [
        {
          "data": {
            "image/png": "[encoded data removed]",
            "text/plain": [
              "<Figure size 576x360 with 1 Axes>"
            ]
          },
          "metadata": {
            "needs_background": "light"
          },
          "output_type": "display_data"
        }
      ],
      "source": [
        "data_rides.plot(y='distance', kind='hist', bins=100, grid=True, figsize=(8, 5), legend=False)\n",
        "plt.title('График расстояний пользователей за одну поездку')\n",
        "plt.xlabel('Расстояние')\n",
        "plt.ylabel('Количество поездок')\n",
        "plt.show()"
      ]
    },
    {
      "cell_type": "code",
      "execution_count": null,
      "id": "6c183857",
      "metadata": {
        "id": "6c183857",
        "outputId": "266a7767-373c-4f5c-adaa-3436f7d101b5"
      },
      "outputs": [
        {
          "data": {
            "text/plain": [
              "0.855682925681208"
            ]
          },
          "execution_count": 25,
          "metadata": {},
          "output_type": "execute_result"
        }
      ],
      "source": [
        "data_rides['distance'].min()"
      ]
    },
    {
      "cell_type": "code",
      "execution_count": null,
      "id": "52d10b2e",
      "metadata": {
        "id": "52d10b2e",
        "outputId": "9415b9a0-6de7-4565-ac64-1e605cbaaec6"
      },
      "outputs": [
        {
          "data": {
            "text/plain": [
              "7211.007744598519"
            ]
          },
          "execution_count": 26,
          "metadata": {},
          "output_type": "execute_result"
        }
      ],
      "source": [
        "data_rides['distance'].max()"
      ]
    },
    {
      "cell_type": "markdown",
      "id": "16e82264",
      "metadata": {
        "id": "16e82264"
      },
      "source": [
        "На гистограмме виден всплеск поездок на расстояния примерно в **600-700 метров.** Возможно, это поездки от места аренды до места назначения (например, общественный транспорт, дом, работа). Затем расстояние равномерно увеличивается до пика количества значений примерно в **3100-3200 метров.** Затем, чем больше расстояние - тем меньше поездок зафиксировано. Минимальная дистанция поездки - **0.86 метра,** максимальная дистанция - **7211 метров.**"
      ]
    },
    {
      "cell_type": "markdown",
      "id": "4179e1c6",
      "metadata": {
        "id": "4179e1c6"
      },
      "source": [
        "### Продолжительность поездок"
      ]
    },
    {
      "cell_type": "code",
      "execution_count": null,
      "id": "4b97294e",
      "metadata": {
        "id": "4b97294e",
        "outputId": "447059ee-84b2-4a6a-8b50-01309f30fbbe"
      },
      "outputs": [
        {
          "data": {
            "text/plain": [
              "0.500000     95\n",
              "22.184080     1\n",
              "25.866000     1\n",
              "22.837062     1\n",
              "19.173800     1\n",
              "             ..\n",
              "18.843765     1\n",
              "17.644888     1\n",
              "22.477965     1\n",
              "19.745218     1\n",
              "16.537044     1\n",
              "Name: duration, Length: 17974, dtype: int64"
            ]
          },
          "execution_count": 27,
          "metadata": {},
          "output_type": "execute_result"
        }
      ],
      "source": [
        "data_rides['duration'].value_counts()"
      ]
    },
    {
      "cell_type": "markdown",
      "id": "aadbff4f",
      "metadata": {
        "id": "aadbff4f"
      },
      "source": [
        "По уникальным значениям мы видим, что есть значение в полминуты, которое попадается 95 раз. Скорее всего, это какая-то техническая ошибка. Зафиксируем это значение как аномалию, и отрежем его при построении гистограммы."
      ]
    },
    {
      "cell_type": "code",
      "execution_count": null,
      "id": "468fe957",
      "metadata": {
        "id": "468fe957",
        "outputId": "2f7952bf-7969-492a-b91a-6035b3ce6292"
      },
      "outputs": [
        {
          "data": {
            "text/html": [
              "<div>\n",
              "<style scoped>\n",
              "    .dataframe tbody tr th:only-of-type {\n",
              "        vertical-align: middle;\n",
              "    }\n",
              "\n",
              "    .dataframe tbody tr th {\n",
              "        vertical-align: top;\n",
              "    }\n",
              "\n",
              "    .dataframe thead th {\n",
              "        text-align: right;\n",
              "    }\n",
              "</style>\n",
              "<table border=\"1\" class=\"dataframe\">\n",
              "  <thead>\n",
              "    <tr style=\"text-align: right;\">\n",
              "      <th></th>\n",
              "      <th>user_id</th>\n",
              "      <th>distance</th>\n",
              "      <th>duration</th>\n",
              "      <th>date</th>\n",
              "      <th>month</th>\n",
              "    </tr>\n",
              "  </thead>\n",
              "  <tbody>\n",
              "    <tr>\n",
              "      <th>6691</th>\n",
              "      <td>712</td>\n",
              "      <td>23.963062</td>\n",
              "      <td>2.053251</td>\n",
              "      <td>2021-11-22</td>\n",
              "      <td>11</td>\n",
              "    </tr>\n",
              "    <tr>\n",
              "      <th>6801</th>\n",
              "      <td>720</td>\n",
              "      <td>102.323624</td>\n",
              "      <td>2.292353</td>\n",
              "      <td>2021-09-20</td>\n",
              "      <td>9</td>\n",
              "    </tr>\n",
              "    <tr>\n",
              "      <th>7453</th>\n",
              "      <td>768</td>\n",
              "      <td>273.136262</td>\n",
              "      <td>2.744917</td>\n",
              "      <td>2021-02-20</td>\n",
              "      <td>2</td>\n",
              "    </tr>\n",
              "    <tr>\n",
              "      <th>8676</th>\n",
              "      <td>863</td>\n",
              "      <td>466.343107</td>\n",
              "      <td>2.999307</td>\n",
              "      <td>2021-04-11</td>\n",
              "      <td>4</td>\n",
              "    </tr>\n",
              "    <tr>\n",
              "      <th>8906</th>\n",
              "      <td>880</td>\n",
              "      <td>11.283615</td>\n",
              "      <td>2.035632</td>\n",
              "      <td>2021-03-28</td>\n",
              "      <td>3</td>\n",
              "    </tr>\n",
              "    <tr>\n",
              "      <th>9320</th>\n",
              "      <td>910</td>\n",
              "      <td>126.040770</td>\n",
              "      <td>2.472653</td>\n",
              "      <td>2021-02-21</td>\n",
              "      <td>2</td>\n",
              "    </tr>\n",
              "    <tr>\n",
              "      <th>10291</th>\n",
              "      <td>977</td>\n",
              "      <td>90.850696</td>\n",
              "      <td>2.320650</td>\n",
              "      <td>2021-08-15</td>\n",
              "      <td>8</td>\n",
              "    </tr>\n",
              "    <tr>\n",
              "      <th>10865</th>\n",
              "      <td>1019</td>\n",
              "      <td>216.259429</td>\n",
              "      <td>2.480577</td>\n",
              "      <td>2021-07-26</td>\n",
              "      <td>7</td>\n",
              "    </tr>\n",
              "    <tr>\n",
              "      <th>11336</th>\n",
              "      <td>1053</td>\n",
              "      <td>391.007269</td>\n",
              "      <td>2.902324</td>\n",
              "      <td>2021-09-10</td>\n",
              "      <td>9</td>\n",
              "    </tr>\n",
              "    <tr>\n",
              "      <th>12016</th>\n",
              "      <td>1103</td>\n",
              "      <td>147.453884</td>\n",
              "      <td>2.315973</td>\n",
              "      <td>2021-02-26</td>\n",
              "      <td>2</td>\n",
              "    </tr>\n",
              "    <tr>\n",
              "      <th>12485</th>\n",
              "      <td>1138</td>\n",
              "      <td>295.422441</td>\n",
              "      <td>2.844064</td>\n",
              "      <td>2021-02-13</td>\n",
              "      <td>2</td>\n",
              "    </tr>\n",
              "    <tr>\n",
              "      <th>12498</th>\n",
              "      <td>1139</td>\n",
              "      <td>169.699209</td>\n",
              "      <td>2.351102</td>\n",
              "      <td>2021-11-16</td>\n",
              "      <td>11</td>\n",
              "    </tr>\n",
              "    <tr>\n",
              "      <th>12527</th>\n",
              "      <td>1141</td>\n",
              "      <td>200.034777</td>\n",
              "      <td>2.923237</td>\n",
              "      <td>2021-08-22</td>\n",
              "      <td>8</td>\n",
              "    </tr>\n",
              "    <tr>\n",
              "      <th>12599</th>\n",
              "      <td>1147</td>\n",
              "      <td>262.050671</td>\n",
              "      <td>2.683610</td>\n",
              "      <td>2021-06-25</td>\n",
              "      <td>6</td>\n",
              "    </tr>\n",
              "    <tr>\n",
              "      <th>12607</th>\n",
              "      <td>1147</td>\n",
              "      <td>412.345955</td>\n",
              "      <td>2.824692</td>\n",
              "      <td>2021-12-25</td>\n",
              "      <td>12</td>\n",
              "    </tr>\n",
              "    <tr>\n",
              "      <th>13308</th>\n",
              "      <td>1198</td>\n",
              "      <td>84.410014</td>\n",
              "      <td>2.180879</td>\n",
              "      <td>2021-06-11</td>\n",
              "      <td>6</td>\n",
              "    </tr>\n",
              "    <tr>\n",
              "      <th>13485</th>\n",
              "      <td>1210</td>\n",
              "      <td>85.063560</td>\n",
              "      <td>2.392601</td>\n",
              "      <td>2021-01-13</td>\n",
              "      <td>1</td>\n",
              "    </tr>\n",
              "    <tr>\n",
              "      <th>13538</th>\n",
              "      <td>1213</td>\n",
              "      <td>127.789262</td>\n",
              "      <td>2.451021</td>\n",
              "      <td>2021-04-11</td>\n",
              "      <td>4</td>\n",
              "    </tr>\n",
              "    <tr>\n",
              "      <th>14066</th>\n",
              "      <td>1250</td>\n",
              "      <td>66.340137</td>\n",
              "      <td>2.234142</td>\n",
              "      <td>2021-04-12</td>\n",
              "      <td>4</td>\n",
              "    </tr>\n",
              "    <tr>\n",
              "      <th>14081</th>\n",
              "      <td>1251</td>\n",
              "      <td>41.212830</td>\n",
              "      <td>2.224797</td>\n",
              "      <td>2021-04-15</td>\n",
              "      <td>4</td>\n",
              "    </tr>\n",
              "    <tr>\n",
              "      <th>15512</th>\n",
              "      <td>1356</td>\n",
              "      <td>181.295471</td>\n",
              "      <td>2.988884</td>\n",
              "      <td>2021-02-24</td>\n",
              "      <td>2</td>\n",
              "    </tr>\n",
              "    <tr>\n",
              "      <th>15607</th>\n",
              "      <td>1362</td>\n",
              "      <td>46.560533</td>\n",
              "      <td>2.253967</td>\n",
              "      <td>2021-09-22</td>\n",
              "      <td>9</td>\n",
              "    </tr>\n",
              "    <tr>\n",
              "      <th>15612</th>\n",
              "      <td>1363</td>\n",
              "      <td>264.104789</td>\n",
              "      <td>2.546424</td>\n",
              "      <td>2021-07-10</td>\n",
              "      <td>7</td>\n",
              "    </tr>\n",
              "    <tr>\n",
              "      <th>15985</th>\n",
              "      <td>1388</td>\n",
              "      <td>108.121606</td>\n",
              "      <td>2.341437</td>\n",
              "      <td>2021-09-11</td>\n",
              "      <td>9</td>\n",
              "    </tr>\n",
              "    <tr>\n",
              "      <th>16077</th>\n",
              "      <td>1395</td>\n",
              "      <td>393.328069</td>\n",
              "      <td>2.874062</td>\n",
              "      <td>2021-02-25</td>\n",
              "      <td>2</td>\n",
              "    </tr>\n",
              "    <tr>\n",
              "      <th>16553</th>\n",
              "      <td>1426</td>\n",
              "      <td>435.655865</td>\n",
              "      <td>2.933548</td>\n",
              "      <td>2021-01-18</td>\n",
              "      <td>1</td>\n",
              "    </tr>\n",
              "    <tr>\n",
              "      <th>16596</th>\n",
              "      <td>1428</td>\n",
              "      <td>251.247681</td>\n",
              "      <td>2.942179</td>\n",
              "      <td>2021-11-18</td>\n",
              "      <td>11</td>\n",
              "    </tr>\n",
              "    <tr>\n",
              "      <th>16654</th>\n",
              "      <td>1432</td>\n",
              "      <td>292.272709</td>\n",
              "      <td>2.835065</td>\n",
              "      <td>2021-05-26</td>\n",
              "      <td>5</td>\n",
              "    </tr>\n",
              "    <tr>\n",
              "      <th>17309</th>\n",
              "      <td>1482</td>\n",
              "      <td>111.298857</td>\n",
              "      <td>2.222598</td>\n",
              "      <td>2021-07-24</td>\n",
              "      <td>7</td>\n",
              "    </tr>\n",
              "    <tr>\n",
              "      <th>17460</th>\n",
              "      <td>1492</td>\n",
              "      <td>458.631163</td>\n",
              "      <td>2.917262</td>\n",
              "      <td>2021-04-15</td>\n",
              "      <td>4</td>\n",
              "    </tr>\n",
              "    <tr>\n",
              "      <th>17663</th>\n",
              "      <td>1507</td>\n",
              "      <td>214.587357</td>\n",
              "      <td>2.495202</td>\n",
              "      <td>2021-05-25</td>\n",
              "      <td>5</td>\n",
              "    </tr>\n",
              "    <tr>\n",
              "      <th>17712</th>\n",
              "      <td>1510</td>\n",
              "      <td>166.223109</td>\n",
              "      <td>2.343910</td>\n",
              "      <td>2021-09-06</td>\n",
              "      <td>9</td>\n",
              "    </tr>\n",
              "    <tr>\n",
              "      <th>17802</th>\n",
              "      <td>1516</td>\n",
              "      <td>393.696926</td>\n",
              "      <td>2.874882</td>\n",
              "      <td>2021-07-28</td>\n",
              "      <td>7</td>\n",
              "    </tr>\n",
              "  </tbody>\n",
              "</table>\n",
              "</div>"
            ],
            "text/plain": [
              "       user_id    distance  duration       date  month\n",
              "6691       712   23.963062  2.053251 2021-11-22     11\n",
              "6801       720  102.323624  2.292353 2021-09-20      9\n",
              "7453       768  273.136262  2.744917 2021-02-20      2\n",
              "8676       863  466.343107  2.999307 2021-04-11      4\n",
              "8906       880   11.283615  2.035632 2021-03-28      3\n",
              "9320       910  126.040770  2.472653 2021-02-21      2\n",
              "10291      977   90.850696  2.320650 2021-08-15      8\n",
              "10865     1019  216.259429  2.480577 2021-07-26      7\n",
              "11336     1053  391.007269  2.902324 2021-09-10      9\n",
              "12016     1103  147.453884  2.315973 2021-02-26      2\n",
              "12485     1138  295.422441  2.844064 2021-02-13      2\n",
              "12498     1139  169.699209  2.351102 2021-11-16     11\n",
              "12527     1141  200.034777  2.923237 2021-08-22      8\n",
              "12599     1147  262.050671  2.683610 2021-06-25      6\n",
              "12607     1147  412.345955  2.824692 2021-12-25     12\n",
              "13308     1198   84.410014  2.180879 2021-06-11      6\n",
              "13485     1210   85.063560  2.392601 2021-01-13      1\n",
              "13538     1213  127.789262  2.451021 2021-04-11      4\n",
              "14066     1250   66.340137  2.234142 2021-04-12      4\n",
              "14081     1251   41.212830  2.224797 2021-04-15      4\n",
              "15512     1356  181.295471  2.988884 2021-02-24      2\n",
              "15607     1362   46.560533  2.253967 2021-09-22      9\n",
              "15612     1363  264.104789  2.546424 2021-07-10      7\n",
              "15985     1388  108.121606  2.341437 2021-09-11      9\n",
              "16077     1395  393.328069  2.874062 2021-02-25      2\n",
              "16553     1426  435.655865  2.933548 2021-01-18      1\n",
              "16596     1428  251.247681  2.942179 2021-11-18     11\n",
              "16654     1432  292.272709  2.835065 2021-05-26      5\n",
              "17309     1482  111.298857  2.222598 2021-07-24      7\n",
              "17460     1492  458.631163  2.917262 2021-04-15      4\n",
              "17663     1507  214.587357  2.495202 2021-05-25      5\n",
              "17712     1510  166.223109  2.343910 2021-09-06      9\n",
              "17802     1516  393.696926  2.874882 2021-07-28      7"
            ]
          },
          "execution_count": 28,
          "metadata": {},
          "output_type": "execute_result"
        }
      ],
      "source": [
        "data_rides.query('1 < duration < 3')"
      ]
    },
    {
      "cell_type": "code",
      "execution_count": null,
      "id": "3a60196b",
      "metadata": {
        "id": "3a60196b",
        "outputId": "d0597d3b-dbc2-4776-cb0d-1deb0188a237"
      },
      "outputs": [
        {
          "data": {
            "text/plain": [
              "40.82396261922424"
            ]
          },
          "execution_count": 29,
          "metadata": {},
          "output_type": "execute_result"
        }
      ],
      "source": [
        "data_rides['duration'].max()"
      ]
    },
    {
      "cell_type": "code",
      "execution_count": null,
      "id": "f7d2abac",
      "metadata": {
        "id": "f7d2abac",
        "outputId": "de4422c8-798f-497a-dfbe-649b14aef171"
      },
      "outputs": [
        {
          "data": {
            "image/png": "[encoded data removed]",
            "text/plain": [
              "<Figure size 576x360 with 1 Axes>"
            ]
          },
          "metadata": {
            "needs_background": "light"
          },
          "output_type": "display_data"
        }
      ],
      "source": [
        "data_rides.plot(y='duration', kind='hist', bins=100, grid=True, figsize=(8, 5), range=(1, 41), legend=False)\n",
        "plt.title('График продолжительности поездок')\n",
        "plt.xlabel('Время (мин)')\n",
        "plt.ylabel('Количество поездок')\n",
        "plt.show()"
      ]
    },
    {
      "cell_type": "markdown",
      "id": "0f1161f1",
      "metadata": {
        "id": "0f1161f1"
      },
      "source": [
        "Гистограмма показывает, что время поездок распределено нормально. Пик количества значений приходится на отметку в **17-18 минут.** Минимальная длительность поездки, не принятая за аномалию - **около 2 минут,** максимальная - **около 41 минуты.**"
      ]
    },
    {
      "cell_type": "markdown",
      "id": "f2372d27",
      "metadata": {
        "id": "f2372d27"
      },
      "source": [
        "Таким образом, были рассмотрены и проанализированы несколько сведений о пользователях, их поездках и подписках. Затем, построили графики для визуализации и описания каждого параметра."
      ]
    },
    {
      "cell_type": "markdown",
      "id": "53afdafe",
      "metadata": {
        "id": "53afdafe"
      },
      "source": [
        "## Шаг 4. Объединение данных"
      ]
    },
    {
      "cell_type": "markdown",
      "id": "32101933",
      "metadata": {
        "id": "32101933"
      },
      "source": [
        "Для удобства дальнейшего анализа объединим 3 датафрейма (данные о пользователях, поездках, подписках) в 1 методом *merge().* После этого выведем объединенный датафрейм на экран, чтобы проверить корректность объединения."
      ]
    },
    {
      "cell_type": "code",
      "execution_count": null,
      "id": "9036921f",
      "metadata": {
        "id": "9036921f",
        "outputId": "b98208f0-c999-4474-9d29-7bef2bf6f01a"
      },
      "outputs": [
        {
          "data": {
            "text/html": [
              "<div>\n",
              "<style scoped>\n",
              "    .dataframe tbody tr th:only-of-type {\n",
              "        vertical-align: middle;\n",
              "    }\n",
              "\n",
              "    .dataframe tbody tr th {\n",
              "        vertical-align: top;\n",
              "    }\n",
              "\n",
              "    .dataframe thead th {\n",
              "        text-align: right;\n",
              "    }\n",
              "</style>\n",
              "<table border=\"1\" class=\"dataframe\">\n",
              "  <thead>\n",
              "    <tr style=\"text-align: right;\">\n",
              "      <th></th>\n",
              "      <th>user_id</th>\n",
              "      <th>name</th>\n",
              "      <th>age</th>\n",
              "      <th>city</th>\n",
              "      <th>subscription_type</th>\n",
              "      <th>distance</th>\n",
              "      <th>duration</th>\n",
              "      <th>date</th>\n",
              "      <th>month</th>\n",
              "      <th>minute_price</th>\n",
              "      <th>start_ride_price</th>\n",
              "      <th>subscription_fee</th>\n",
              "    </tr>\n",
              "  </thead>\n",
              "  <tbody>\n",
              "    <tr>\n",
              "      <th>0</th>\n",
              "      <td>1</td>\n",
              "      <td>Кира</td>\n",
              "      <td>22</td>\n",
              "      <td>Тюмень</td>\n",
              "      <td>ultra</td>\n",
              "      <td>4409.919140</td>\n",
              "      <td>25.599769</td>\n",
              "      <td>2021-01-01</td>\n",
              "      <td>1</td>\n",
              "      <td>6</td>\n",
              "      <td>0</td>\n",
              "      <td>199</td>\n",
              "    </tr>\n",
              "    <tr>\n",
              "      <th>1</th>\n",
              "      <td>1</td>\n",
              "      <td>Кира</td>\n",
              "      <td>22</td>\n",
              "      <td>Тюмень</td>\n",
              "      <td>ultra</td>\n",
              "      <td>2617.592153</td>\n",
              "      <td>15.816871</td>\n",
              "      <td>2021-01-18</td>\n",
              "      <td>1</td>\n",
              "      <td>6</td>\n",
              "      <td>0</td>\n",
              "      <td>199</td>\n",
              "    </tr>\n",
              "    <tr>\n",
              "      <th>2</th>\n",
              "      <td>1</td>\n",
              "      <td>Кира</td>\n",
              "      <td>22</td>\n",
              "      <td>Тюмень</td>\n",
              "      <td>ultra</td>\n",
              "      <td>754.159807</td>\n",
              "      <td>6.232113</td>\n",
              "      <td>2021-04-20</td>\n",
              "      <td>4</td>\n",
              "      <td>6</td>\n",
              "      <td>0</td>\n",
              "      <td>199</td>\n",
              "    </tr>\n",
              "    <tr>\n",
              "      <th>3</th>\n",
              "      <td>1</td>\n",
              "      <td>Кира</td>\n",
              "      <td>22</td>\n",
              "      <td>Тюмень</td>\n",
              "      <td>ultra</td>\n",
              "      <td>2694.783254</td>\n",
              "      <td>18.511000</td>\n",
              "      <td>2021-08-11</td>\n",
              "      <td>8</td>\n",
              "      <td>6</td>\n",
              "      <td>0</td>\n",
              "      <td>199</td>\n",
              "    </tr>\n",
              "    <tr>\n",
              "      <th>4</th>\n",
              "      <td>1</td>\n",
              "      <td>Кира</td>\n",
              "      <td>22</td>\n",
              "      <td>Тюмень</td>\n",
              "      <td>ultra</td>\n",
              "      <td>4028.687306</td>\n",
              "      <td>26.265803</td>\n",
              "      <td>2021-08-28</td>\n",
              "      <td>8</td>\n",
              "      <td>6</td>\n",
              "      <td>0</td>\n",
              "      <td>199</td>\n",
              "    </tr>\n",
              "    <tr>\n",
              "      <th>...</th>\n",
              "      <td>...</td>\n",
              "      <td>...</td>\n",
              "      <td>...</td>\n",
              "      <td>...</td>\n",
              "      <td>...</td>\n",
              "      <td>...</td>\n",
              "      <td>...</td>\n",
              "      <td>...</td>\n",
              "      <td>...</td>\n",
              "      <td>...</td>\n",
              "      <td>...</td>\n",
              "      <td>...</td>\n",
              "    </tr>\n",
              "    <tr>\n",
              "      <th>18063</th>\n",
              "      <td>1534</td>\n",
              "      <td>Альберт</td>\n",
              "      <td>25</td>\n",
              "      <td>Краснодар</td>\n",
              "      <td>free</td>\n",
              "      <td>3781.098080</td>\n",
              "      <td>19.822962</td>\n",
              "      <td>2021-11-04</td>\n",
              "      <td>11</td>\n",
              "      <td>8</td>\n",
              "      <td>50</td>\n",
              "      <td>0</td>\n",
              "    </tr>\n",
              "    <tr>\n",
              "      <th>18064</th>\n",
              "      <td>1534</td>\n",
              "      <td>Альберт</td>\n",
              "      <td>25</td>\n",
              "      <td>Краснодар</td>\n",
              "      <td>free</td>\n",
              "      <td>2840.423057</td>\n",
              "      <td>21.409799</td>\n",
              "      <td>2021-11-16</td>\n",
              "      <td>11</td>\n",
              "      <td>8</td>\n",
              "      <td>50</td>\n",
              "      <td>0</td>\n",
              "    </tr>\n",
              "    <tr>\n",
              "      <th>18065</th>\n",
              "      <td>1534</td>\n",
              "      <td>Альберт</td>\n",
              "      <td>25</td>\n",
              "      <td>Краснодар</td>\n",
              "      <td>free</td>\n",
              "      <td>3826.185507</td>\n",
              "      <td>18.435051</td>\n",
              "      <td>2021-11-18</td>\n",
              "      <td>11</td>\n",
              "      <td>8</td>\n",
              "      <td>50</td>\n",
              "      <td>0</td>\n",
              "    </tr>\n",
              "    <tr>\n",
              "      <th>18066</th>\n",
              "      <td>1534</td>\n",
              "      <td>Альберт</td>\n",
              "      <td>25</td>\n",
              "      <td>Краснодар</td>\n",
              "      <td>free</td>\n",
              "      <td>2902.308661</td>\n",
              "      <td>16.674362</td>\n",
              "      <td>2021-11-27</td>\n",
              "      <td>11</td>\n",
              "      <td>8</td>\n",
              "      <td>50</td>\n",
              "      <td>0</td>\n",
              "    </tr>\n",
              "    <tr>\n",
              "      <th>18067</th>\n",
              "      <td>1534</td>\n",
              "      <td>Альберт</td>\n",
              "      <td>25</td>\n",
              "      <td>Краснодар</td>\n",
              "      <td>free</td>\n",
              "      <td>2371.711192</td>\n",
              "      <td>15.893917</td>\n",
              "      <td>2021-12-29</td>\n",
              "      <td>12</td>\n",
              "      <td>8</td>\n",
              "      <td>50</td>\n",
              "      <td>0</td>\n",
              "    </tr>\n",
              "  </tbody>\n",
              "</table>\n",
              "<p>18068 rows × 12 columns</p>\n",
              "</div>"
            ],
            "text/plain": [
              "       user_id     name  age       city subscription_type     distance  \\\n",
              "0            1     Кира   22     Тюмень             ultra  4409.919140   \n",
              "1            1     Кира   22     Тюмень             ultra  2617.592153   \n",
              "2            1     Кира   22     Тюмень             ultra   754.159807   \n",
              "3            1     Кира   22     Тюмень             ultra  2694.783254   \n",
              "4            1     Кира   22     Тюмень             ultra  4028.687306   \n",
              "...        ...      ...  ...        ...               ...          ...   \n",
              "18063     1534  Альберт   25  Краснодар              free  3781.098080   \n",
              "18064     1534  Альберт   25  Краснодар              free  2840.423057   \n",
              "18065     1534  Альберт   25  Краснодар              free  3826.185507   \n",
              "18066     1534  Альберт   25  Краснодар              free  2902.308661   \n",
              "18067     1534  Альберт   25  Краснодар              free  2371.711192   \n",
              "\n",
              "        duration       date  month  minute_price  start_ride_price  \\\n",
              "0      25.599769 2021-01-01      1             6                 0   \n",
              "1      15.816871 2021-01-18      1             6                 0   \n",
              "2       6.232113 2021-04-20      4             6                 0   \n",
              "3      18.511000 2021-08-11      8             6                 0   \n",
              "4      26.265803 2021-08-28      8             6                 0   \n",
              "...          ...        ...    ...           ...               ...   \n",
              "18063  19.822962 2021-11-04     11             8                50   \n",
              "18064  21.409799 2021-11-16     11             8                50   \n",
              "18065  18.435051 2021-11-18     11             8                50   \n",
              "18066  16.674362 2021-11-27     11             8                50   \n",
              "18067  15.893917 2021-12-29     12             8                50   \n",
              "\n",
              "       subscription_fee  \n",
              "0                   199  \n",
              "1                   199  \n",
              "2                   199  \n",
              "3                   199  \n",
              "4                   199  \n",
              "...                 ...  \n",
              "18063                 0  \n",
              "18064                 0  \n",
              "18065                 0  \n",
              "18066                 0  \n",
              "18067                 0  \n",
              "\n",
              "[18068 rows x 12 columns]"
            ]
          },
          "execution_count": 31,
          "metadata": {},
          "output_type": "execute_result"
        }
      ],
      "source": [
        "data_full = data_users.merge(data_rides, on='user_id').merge(data_subs, on='subscription_type')\n",
        "data_full"
      ]
    },
    {
      "cell_type": "markdown",
      "id": "9916d693",
      "metadata": {
        "id": "9916d693"
      },
      "source": [
        "На всякий случай, после объединения снова запустим проверку пропусков и дубликатов."
      ]
    },
    {
      "cell_type": "code",
      "execution_count": null,
      "id": "0bcd07cd",
      "metadata": {
        "id": "0bcd07cd",
        "outputId": "77144ab7-5f36-4bda-e191-0942b5a8cf53"
      },
      "outputs": [
        {
          "name": "stdout",
          "output_type": "stream",
          "text": [
            "0\n"
          ]
        },
        {
          "data": {
            "text/plain": [
              "user_id              0\n",
              "name                 0\n",
              "age                  0\n",
              "city                 0\n",
              "subscription_type    0\n",
              "distance             0\n",
              "duration             0\n",
              "date                 0\n",
              "month                0\n",
              "minute_price         0\n",
              "start_ride_price     0\n",
              "subscription_fee     0\n",
              "dtype: int64"
            ]
          },
          "execution_count": 32,
          "metadata": {},
          "output_type": "execute_result"
        }
      ],
      "source": [
        "print(data_full.duplicated().sum())\n",
        "data_full.isna().sum()"
      ]
    },
    {
      "cell_type": "markdown",
      "id": "3ede1a8e",
      "metadata": {
        "id": "3ede1a8e"
      },
      "source": [
        "Пропусков и дубликатов не обнаружено. Далее, из объединенного датафрейма создадим 2 новых - с данными о пользователях без подписки и с подпиской."
      ]
    },
    {
      "cell_type": "code",
      "execution_count": null,
      "id": "f32c31a6",
      "metadata": {
        "id": "f32c31a6",
        "outputId": "fa572857-b752-4837-a952-73fa10c224b4"
      },
      "outputs": [
        {
          "data": {
            "text/html": [
              "<div>\n",
              "<style scoped>\n",
              "    .dataframe tbody tr th:only-of-type {\n",
              "        vertical-align: middle;\n",
              "    }\n",
              "\n",
              "    .dataframe tbody tr th {\n",
              "        vertical-align: top;\n",
              "    }\n",
              "\n",
              "    .dataframe thead th {\n",
              "        text-align: right;\n",
              "    }\n",
              "</style>\n",
              "<table border=\"1\" class=\"dataframe\">\n",
              "  <thead>\n",
              "    <tr style=\"text-align: right;\">\n",
              "      <th></th>\n",
              "      <th>user_id</th>\n",
              "      <th>name</th>\n",
              "      <th>age</th>\n",
              "      <th>city</th>\n",
              "      <th>subscription_type</th>\n",
              "      <th>distance</th>\n",
              "      <th>duration</th>\n",
              "      <th>date</th>\n",
              "      <th>month</th>\n",
              "      <th>minute_price</th>\n",
              "      <th>start_ride_price</th>\n",
              "      <th>subscription_fee</th>\n",
              "    </tr>\n",
              "  </thead>\n",
              "  <tbody>\n",
              "    <tr>\n",
              "      <th>0</th>\n",
              "      <td>700</td>\n",
              "      <td>Айдар</td>\n",
              "      <td>22</td>\n",
              "      <td>Омск</td>\n",
              "      <td>free</td>\n",
              "      <td>2515.690719</td>\n",
              "      <td>14.944286</td>\n",
              "      <td>2021-01-02</td>\n",
              "      <td>1</td>\n",
              "      <td>8</td>\n",
              "      <td>50</td>\n",
              "      <td>0</td>\n",
              "    </tr>\n",
              "    <tr>\n",
              "      <th>1</th>\n",
              "      <td>700</td>\n",
              "      <td>Айдар</td>\n",
              "      <td>22</td>\n",
              "      <td>Омск</td>\n",
              "      <td>free</td>\n",
              "      <td>846.932642</td>\n",
              "      <td>16.234663</td>\n",
              "      <td>2021-02-01</td>\n",
              "      <td>2</td>\n",
              "      <td>8</td>\n",
              "      <td>50</td>\n",
              "      <td>0</td>\n",
              "    </tr>\n",
              "    <tr>\n",
              "      <th>2</th>\n",
              "      <td>700</td>\n",
              "      <td>Айдар</td>\n",
              "      <td>22</td>\n",
              "      <td>Омск</td>\n",
              "      <td>free</td>\n",
              "      <td>4004.434142</td>\n",
              "      <td>20.016628</td>\n",
              "      <td>2021-02-04</td>\n",
              "      <td>2</td>\n",
              "      <td>8</td>\n",
              "      <td>50</td>\n",
              "      <td>0</td>\n",
              "    </tr>\n",
              "    <tr>\n",
              "      <th>3</th>\n",
              "      <td>700</td>\n",
              "      <td>Айдар</td>\n",
              "      <td>22</td>\n",
              "      <td>Омск</td>\n",
              "      <td>free</td>\n",
              "      <td>1205.911290</td>\n",
              "      <td>9.782872</td>\n",
              "      <td>2021-02-10</td>\n",
              "      <td>2</td>\n",
              "      <td>8</td>\n",
              "      <td>50</td>\n",
              "      <td>0</td>\n",
              "    </tr>\n",
              "    <tr>\n",
              "      <th>4</th>\n",
              "      <td>700</td>\n",
              "      <td>Айдар</td>\n",
              "      <td>22</td>\n",
              "      <td>Омск</td>\n",
              "      <td>free</td>\n",
              "      <td>3047.379435</td>\n",
              "      <td>17.427673</td>\n",
              "      <td>2021-02-14</td>\n",
              "      <td>2</td>\n",
              "      <td>8</td>\n",
              "      <td>50</td>\n",
              "      <td>0</td>\n",
              "    </tr>\n",
              "    <tr>\n",
              "      <th>...</th>\n",
              "      <td>...</td>\n",
              "      <td>...</td>\n",
              "      <td>...</td>\n",
              "      <td>...</td>\n",
              "      <td>...</td>\n",
              "      <td>...</td>\n",
              "      <td>...</td>\n",
              "      <td>...</td>\n",
              "      <td>...</td>\n",
              "      <td>...</td>\n",
              "      <td>...</td>\n",
              "      <td>...</td>\n",
              "    </tr>\n",
              "    <tr>\n",
              "      <th>11563</th>\n",
              "      <td>1534</td>\n",
              "      <td>Альберт</td>\n",
              "      <td>25</td>\n",
              "      <td>Краснодар</td>\n",
              "      <td>free</td>\n",
              "      <td>3781.098080</td>\n",
              "      <td>19.822962</td>\n",
              "      <td>2021-11-04</td>\n",
              "      <td>11</td>\n",
              "      <td>8</td>\n",
              "      <td>50</td>\n",
              "      <td>0</td>\n",
              "    </tr>\n",
              "    <tr>\n",
              "      <th>11564</th>\n",
              "      <td>1534</td>\n",
              "      <td>Альберт</td>\n",
              "      <td>25</td>\n",
              "      <td>Краснодар</td>\n",
              "      <td>free</td>\n",
              "      <td>2840.423057</td>\n",
              "      <td>21.409799</td>\n",
              "      <td>2021-11-16</td>\n",
              "      <td>11</td>\n",
              "      <td>8</td>\n",
              "      <td>50</td>\n",
              "      <td>0</td>\n",
              "    </tr>\n",
              "    <tr>\n",
              "      <th>11565</th>\n",
              "      <td>1534</td>\n",
              "      <td>Альберт</td>\n",
              "      <td>25</td>\n",
              "      <td>Краснодар</td>\n",
              "      <td>free</td>\n",
              "      <td>3826.185507</td>\n",
              "      <td>18.435051</td>\n",
              "      <td>2021-11-18</td>\n",
              "      <td>11</td>\n",
              "      <td>8</td>\n",
              "      <td>50</td>\n",
              "      <td>0</td>\n",
              "    </tr>\n",
              "    <tr>\n",
              "      <th>11566</th>\n",
              "      <td>1534</td>\n",
              "      <td>Альберт</td>\n",
              "      <td>25</td>\n",
              "      <td>Краснодар</td>\n",
              "      <td>free</td>\n",
              "      <td>2902.308661</td>\n",
              "      <td>16.674362</td>\n",
              "      <td>2021-11-27</td>\n",
              "      <td>11</td>\n",
              "      <td>8</td>\n",
              "      <td>50</td>\n",
              "      <td>0</td>\n",
              "    </tr>\n",
              "    <tr>\n",
              "      <th>11567</th>\n",
              "      <td>1534</td>\n",
              "      <td>Альберт</td>\n",
              "      <td>25</td>\n",
              "      <td>Краснодар</td>\n",
              "      <td>free</td>\n",
              "      <td>2371.711192</td>\n",
              "      <td>15.893917</td>\n",
              "      <td>2021-12-29</td>\n",
              "      <td>12</td>\n",
              "      <td>8</td>\n",
              "      <td>50</td>\n",
              "      <td>0</td>\n",
              "    </tr>\n",
              "  </tbody>\n",
              "</table>\n",
              "<p>11568 rows × 12 columns</p>\n",
              "</div>"
            ],
            "text/plain": [
              "       user_id     name  age       city subscription_type     distance  \\\n",
              "0          700    Айдар   22       Омск              free  2515.690719   \n",
              "1          700    Айдар   22       Омск              free   846.932642   \n",
              "2          700    Айдар   22       Омск              free  4004.434142   \n",
              "3          700    Айдар   22       Омск              free  1205.911290   \n",
              "4          700    Айдар   22       Омск              free  3047.379435   \n",
              "...        ...      ...  ...        ...               ...          ...   \n",
              "11563     1534  Альберт   25  Краснодар              free  3781.098080   \n",
              "11564     1534  Альберт   25  Краснодар              free  2840.423057   \n",
              "11565     1534  Альберт   25  Краснодар              free  3826.185507   \n",
              "11566     1534  Альберт   25  Краснодар              free  2902.308661   \n",
              "11567     1534  Альберт   25  Краснодар              free  2371.711192   \n",
              "\n",
              "        duration       date  month  minute_price  start_ride_price  \\\n",
              "0      14.944286 2021-01-02      1             8                50   \n",
              "1      16.234663 2021-02-01      2             8                50   \n",
              "2      20.016628 2021-02-04      2             8                50   \n",
              "3       9.782872 2021-02-10      2             8                50   \n",
              "4      17.427673 2021-02-14      2             8                50   \n",
              "...          ...        ...    ...           ...               ...   \n",
              "11563  19.822962 2021-11-04     11             8                50   \n",
              "11564  21.409799 2021-11-16     11             8                50   \n",
              "11565  18.435051 2021-11-18     11             8                50   \n",
              "11566  16.674362 2021-11-27     11             8                50   \n",
              "11567  15.893917 2021-12-29     12             8                50   \n",
              "\n",
              "       subscription_fee  \n",
              "0                     0  \n",
              "1                     0  \n",
              "2                     0  \n",
              "3                     0  \n",
              "4                     0  \n",
              "...                 ...  \n",
              "11563                 0  \n",
              "11564                 0  \n",
              "11565                 0  \n",
              "11566                 0  \n",
              "11567                 0  \n",
              "\n",
              "[11568 rows x 12 columns]"
            ]
          },
          "execution_count": 33,
          "metadata": {},
          "output_type": "execute_result"
        }
      ],
      "source": [
        "data_users_free = data_full.query('subscription_type == \"free\"').reset_index(drop=True)\n",
        "data_users_ultra = data_full.query('subscription_type == \"ultra\"').reset_index(drop=True)\n",
        "data_users_free"
      ]
    },
    {
      "cell_type": "code",
      "execution_count": null,
      "id": "95986f75",
      "metadata": {
        "id": "95986f75",
        "outputId": "bfdad127-e69a-405a-b6c6-b5ec7454bd0e"
      },
      "outputs": [
        {
          "data": {
            "text/html": [
              "<div>\n",
              "<style scoped>\n",
              "    .dataframe tbody tr th:only-of-type {\n",
              "        vertical-align: middle;\n",
              "    }\n",
              "\n",
              "    .dataframe tbody tr th {\n",
              "        vertical-align: top;\n",
              "    }\n",
              "\n",
              "    .dataframe thead th {\n",
              "        text-align: right;\n",
              "    }\n",
              "</style>\n",
              "<table border=\"1\" class=\"dataframe\">\n",
              "  <thead>\n",
              "    <tr style=\"text-align: right;\">\n",
              "      <th></th>\n",
              "      <th>user_id</th>\n",
              "      <th>name</th>\n",
              "      <th>age</th>\n",
              "      <th>city</th>\n",
              "      <th>subscription_type</th>\n",
              "      <th>distance</th>\n",
              "      <th>duration</th>\n",
              "      <th>date</th>\n",
              "      <th>month</th>\n",
              "      <th>minute_price</th>\n",
              "      <th>start_ride_price</th>\n",
              "      <th>subscription_fee</th>\n",
              "    </tr>\n",
              "  </thead>\n",
              "  <tbody>\n",
              "    <tr>\n",
              "      <th>0</th>\n",
              "      <td>1</td>\n",
              "      <td>Кира</td>\n",
              "      <td>22</td>\n",
              "      <td>Тюмень</td>\n",
              "      <td>ultra</td>\n",
              "      <td>4409.919140</td>\n",
              "      <td>25.599769</td>\n",
              "      <td>2021-01-01</td>\n",
              "      <td>1</td>\n",
              "      <td>6</td>\n",
              "      <td>0</td>\n",
              "      <td>199</td>\n",
              "    </tr>\n",
              "    <tr>\n",
              "      <th>1</th>\n",
              "      <td>1</td>\n",
              "      <td>Кира</td>\n",
              "      <td>22</td>\n",
              "      <td>Тюмень</td>\n",
              "      <td>ultra</td>\n",
              "      <td>2617.592153</td>\n",
              "      <td>15.816871</td>\n",
              "      <td>2021-01-18</td>\n",
              "      <td>1</td>\n",
              "      <td>6</td>\n",
              "      <td>0</td>\n",
              "      <td>199</td>\n",
              "    </tr>\n",
              "    <tr>\n",
              "      <th>2</th>\n",
              "      <td>1</td>\n",
              "      <td>Кира</td>\n",
              "      <td>22</td>\n",
              "      <td>Тюмень</td>\n",
              "      <td>ultra</td>\n",
              "      <td>754.159807</td>\n",
              "      <td>6.232113</td>\n",
              "      <td>2021-04-20</td>\n",
              "      <td>4</td>\n",
              "      <td>6</td>\n",
              "      <td>0</td>\n",
              "      <td>199</td>\n",
              "    </tr>\n",
              "    <tr>\n",
              "      <th>3</th>\n",
              "      <td>1</td>\n",
              "      <td>Кира</td>\n",
              "      <td>22</td>\n",
              "      <td>Тюмень</td>\n",
              "      <td>ultra</td>\n",
              "      <td>2694.783254</td>\n",
              "      <td>18.511000</td>\n",
              "      <td>2021-08-11</td>\n",
              "      <td>8</td>\n",
              "      <td>6</td>\n",
              "      <td>0</td>\n",
              "      <td>199</td>\n",
              "    </tr>\n",
              "    <tr>\n",
              "      <th>4</th>\n",
              "      <td>1</td>\n",
              "      <td>Кира</td>\n",
              "      <td>22</td>\n",
              "      <td>Тюмень</td>\n",
              "      <td>ultra</td>\n",
              "      <td>4028.687306</td>\n",
              "      <td>26.265803</td>\n",
              "      <td>2021-08-28</td>\n",
              "      <td>8</td>\n",
              "      <td>6</td>\n",
              "      <td>0</td>\n",
              "      <td>199</td>\n",
              "    </tr>\n",
              "    <tr>\n",
              "      <th>...</th>\n",
              "      <td>...</td>\n",
              "      <td>...</td>\n",
              "      <td>...</td>\n",
              "      <td>...</td>\n",
              "      <td>...</td>\n",
              "      <td>...</td>\n",
              "      <td>...</td>\n",
              "      <td>...</td>\n",
              "      <td>...</td>\n",
              "      <td>...</td>\n",
              "      <td>...</td>\n",
              "      <td>...</td>\n",
              "    </tr>\n",
              "    <tr>\n",
              "      <th>6495</th>\n",
              "      <td>699</td>\n",
              "      <td>Оксана</td>\n",
              "      <td>22</td>\n",
              "      <td>Москва</td>\n",
              "      <td>ultra</td>\n",
              "      <td>3973.046497</td>\n",
              "      <td>24.671163</td>\n",
              "      <td>2021-08-29</td>\n",
              "      <td>8</td>\n",
              "      <td>6</td>\n",
              "      <td>0</td>\n",
              "      <td>199</td>\n",
              "    </tr>\n",
              "    <tr>\n",
              "      <th>6496</th>\n",
              "      <td>699</td>\n",
              "      <td>Оксана</td>\n",
              "      <td>22</td>\n",
              "      <td>Москва</td>\n",
              "      <td>ultra</td>\n",
              "      <td>3288.702563</td>\n",
              "      <td>15.892886</td>\n",
              "      <td>2021-09-12</td>\n",
              "      <td>9</td>\n",
              "      <td>6</td>\n",
              "      <td>0</td>\n",
              "      <td>199</td>\n",
              "    </tr>\n",
              "    <tr>\n",
              "      <th>6497</th>\n",
              "      <td>699</td>\n",
              "      <td>Оксана</td>\n",
              "      <td>22</td>\n",
              "      <td>Москва</td>\n",
              "      <td>ultra</td>\n",
              "      <td>3076.159348</td>\n",
              "      <td>14.389525</td>\n",
              "      <td>2021-09-26</td>\n",
              "      <td>9</td>\n",
              "      <td>6</td>\n",
              "      <td>0</td>\n",
              "      <td>199</td>\n",
              "    </tr>\n",
              "    <tr>\n",
              "      <th>6498</th>\n",
              "      <td>699</td>\n",
              "      <td>Оксана</td>\n",
              "      <td>22</td>\n",
              "      <td>Москва</td>\n",
              "      <td>ultra</td>\n",
              "      <td>4707.845501</td>\n",
              "      <td>15.839579</td>\n",
              "      <td>2021-10-17</td>\n",
              "      <td>10</td>\n",
              "      <td>6</td>\n",
              "      <td>0</td>\n",
              "      <td>199</td>\n",
              "    </tr>\n",
              "    <tr>\n",
              "      <th>6499</th>\n",
              "      <td>699</td>\n",
              "      <td>Оксана</td>\n",
              "      <td>22</td>\n",
              "      <td>Москва</td>\n",
              "      <td>ultra</td>\n",
              "      <td>3202.890770</td>\n",
              "      <td>25.217345</td>\n",
              "      <td>2021-12-03</td>\n",
              "      <td>12</td>\n",
              "      <td>6</td>\n",
              "      <td>0</td>\n",
              "      <td>199</td>\n",
              "    </tr>\n",
              "  </tbody>\n",
              "</table>\n",
              "<p>6500 rows × 12 columns</p>\n",
              "</div>"
            ],
            "text/plain": [
              "      user_id    name  age    city subscription_type     distance   duration  \\\n",
              "0           1    Кира   22  Тюмень             ultra  4409.919140  25.599769   \n",
              "1           1    Кира   22  Тюмень             ultra  2617.592153  15.816871   \n",
              "2           1    Кира   22  Тюмень             ultra   754.159807   6.232113   \n",
              "3           1    Кира   22  Тюмень             ultra  2694.783254  18.511000   \n",
              "4           1    Кира   22  Тюмень             ultra  4028.687306  26.265803   \n",
              "...       ...     ...  ...     ...               ...          ...        ...   \n",
              "6495      699  Оксана   22  Москва             ultra  3973.046497  24.671163   \n",
              "6496      699  Оксана   22  Москва             ultra  3288.702563  15.892886   \n",
              "6497      699  Оксана   22  Москва             ultra  3076.159348  14.389525   \n",
              "6498      699  Оксана   22  Москва             ultra  4707.845501  15.839579   \n",
              "6499      699  Оксана   22  Москва             ultra  3202.890770  25.217345   \n",
              "\n",
              "           date  month  minute_price  start_ride_price  subscription_fee  \n",
              "0    2021-01-01      1             6                 0               199  \n",
              "1    2021-01-18      1             6                 0               199  \n",
              "2    2021-04-20      4             6                 0               199  \n",
              "3    2021-08-11      8             6                 0               199  \n",
              "4    2021-08-28      8             6                 0               199  \n",
              "...         ...    ...           ...               ...               ...  \n",
              "6495 2021-08-29      8             6                 0               199  \n",
              "6496 2021-09-12      9             6                 0               199  \n",
              "6497 2021-09-26      9             6                 0               199  \n",
              "6498 2021-10-17     10             6                 0               199  \n",
              "6499 2021-12-03     12             6                 0               199  \n",
              "\n",
              "[6500 rows x 12 columns]"
            ]
          },
          "execution_count": 34,
          "metadata": {},
          "output_type": "execute_result"
        }
      ],
      "source": [
        "data_users_ultra"
      ]
    },
    {
      "cell_type": "markdown",
      "id": "60cc06f1",
      "metadata": {
        "id": "60cc06f1"
      },
      "source": [
        "Датафреймы были созданы корректно, поэтому переходим к визуализации данных."
      ]
    },
    {
      "cell_type": "code",
      "execution_count": null,
      "id": "84fe3f4d",
      "metadata": {
        "id": "84fe3f4d",
        "outputId": "b1fe8d25-e2fc-4269-c13b-ceb0abb0ad9c"
      },
      "outputs": [
        {
          "data": {
            "image/png": "[encoded data removed]",
            "text/plain": [
              "<Figure size 432x288 with 1 Axes>"
            ]
          },
          "metadata": {
            "needs_background": "light"
          },
          "output_type": "display_data"
        }
      ],
      "source": [
        "plt.hist([data_users_free['distance'], data_users_ultra['distance']], bins=60, label=['free', 'ultra'])\n",
        "plt.legend(loc='upper right')\n",
        "plt.title('Расстояния поездок пользователей с подпиской и без')\n",
        "plt.xlabel('Расстояние (м)')\n",
        "plt.ylabel('Количество поездок')\n",
        "plt.show()"
      ]
    },
    {
      "cell_type": "markdown",
      "id": "c37c7e15",
      "metadata": {
        "id": "c37c7e15"
      },
      "source": [
        "На графике видно, что у пользователей с подпиской минимальное расстояние больше, чем у пользователей без подписки. Как и максимальное количество поездок пользователей на пике значений: у пользователей с подпиской - **около 580 поездок** на отметках в **3100-3200 метров,** у пользователей без подписки - **около 500 поездок** на отметках в **2500 и 2700 метров.** Однако, пользователи без подписки совершают более дальние поездки: максимальное расстояние - примерно **7200 метров** у пользователей без подписки против примерно **5800 метров** у пользователей с подпиской.\n",
        "\n",
        "Теперь сравним время поездок. Как и в прошлый раз, аномальные значения из графика исключим."
      ]
    },
    {
      "cell_type": "code",
      "execution_count": null,
      "id": "2cc3fc4e",
      "metadata": {
        "id": "2cc3fc4e",
        "outputId": "fa780121-04ae-482e-f41f-73c7e7e0b387"
      },
      "outputs": [
        {
          "data": {
            "image/png": "[encoded data removed]",
            "text/plain": [
              "<Figure size 432x288 with 1 Axes>"
            ]
          },
          "metadata": {
            "needs_background": "light"
          },
          "output_type": "display_data"
        }
      ],
      "source": [
        "plt.hist([data_users_free['duration'], data_users_ultra['duration']], bins=60, label=['free', 'ultra'], range=(1, 41))\n",
        "plt.legend(loc='upper right')\n",
        "plt.title('Время поездок пользователей с подпиской и без')\n",
        "plt.xlabel('Время (мин)')\n",
        "plt.ylabel('Количество поездок')\n",
        "plt.show()"
      ]
    },
    {
      "cell_type": "markdown",
      "id": "6dfc38a9",
      "metadata": {
        "id": "6dfc38a9"
      },
      "source": [
        "Как и на прошлом графике, минимальное значение отличается - у пользователей с подпиской оно больше. Однако, максимальное количество поездок пользователей на пике значений сильно отличается в пользу пользователей без подписки - **около 480 поездок** на отметке в **17 минут** против **около 330 поездок** на отметке в **18 минут.** А максимальное время поездки в этот раз больше у пользователей с подпиской **(около 41 минуты),** чем у пользователей без подписки **(около 35 минут).**"
      ]
    },
    {
      "cell_type": "markdown",
      "id": "6eaeaaf9",
      "metadata": {
        "id": "6eaeaaf9"
      },
      "source": [
        "Данные проанализированы, переходим к следующему шагу."
      ]
    },
    {
      "cell_type": "markdown",
      "id": "423127f5",
      "metadata": {
        "id": "423127f5"
      },
      "source": [
        "## Шаг 5. Подсчёт выручки"
      ]
    },
    {
      "cell_type": "markdown",
      "id": "75ef62e0",
      "metadata": {
        "id": "75ef62e0"
      },
      "source": [
        "Для подсчета выручки создадим агрегированный датафрейм из объединенного датафрейма в пункте 4.1. В первую очередь, округлим значения времени поездок до следующего целого числа. Для этого нам понадобится метод *ceil()* из библиотеки *numpy.*"
      ]
    },
    {
      "cell_type": "code",
      "execution_count": null,
      "id": "edc83772",
      "metadata": {
        "id": "edc83772",
        "outputId": "8fd41a93-d778-40b3-c902-d54834111c4f"
      },
      "outputs": [
        {
          "data": {
            "text/html": [
              "<div>\n",
              "<style scoped>\n",
              "    .dataframe tbody tr th:only-of-type {\n",
              "        vertical-align: middle;\n",
              "    }\n",
              "\n",
              "    .dataframe tbody tr th {\n",
              "        vertical-align: top;\n",
              "    }\n",
              "\n",
              "    .dataframe thead th {\n",
              "        text-align: right;\n",
              "    }\n",
              "</style>\n",
              "<table border=\"1\" class=\"dataframe\">\n",
              "  <thead>\n",
              "    <tr style=\"text-align: right;\">\n",
              "      <th></th>\n",
              "      <th>user_id</th>\n",
              "      <th>name</th>\n",
              "      <th>age</th>\n",
              "      <th>city</th>\n",
              "      <th>subscription_type</th>\n",
              "      <th>distance</th>\n",
              "      <th>duration</th>\n",
              "      <th>date</th>\n",
              "      <th>month</th>\n",
              "      <th>minute_price</th>\n",
              "      <th>start_ride_price</th>\n",
              "      <th>subscription_fee</th>\n",
              "    </tr>\n",
              "  </thead>\n",
              "  <tbody>\n",
              "    <tr>\n",
              "      <th>0</th>\n",
              "      <td>1</td>\n",
              "      <td>Кира</td>\n",
              "      <td>22</td>\n",
              "      <td>Тюмень</td>\n",
              "      <td>ultra</td>\n",
              "      <td>4409.919140</td>\n",
              "      <td>26.0</td>\n",
              "      <td>2021-01-01</td>\n",
              "      <td>1</td>\n",
              "      <td>6</td>\n",
              "      <td>0</td>\n",
              "      <td>199</td>\n",
              "    </tr>\n",
              "    <tr>\n",
              "      <th>1</th>\n",
              "      <td>1</td>\n",
              "      <td>Кира</td>\n",
              "      <td>22</td>\n",
              "      <td>Тюмень</td>\n",
              "      <td>ultra</td>\n",
              "      <td>2617.592153</td>\n",
              "      <td>16.0</td>\n",
              "      <td>2021-01-18</td>\n",
              "      <td>1</td>\n",
              "      <td>6</td>\n",
              "      <td>0</td>\n",
              "      <td>199</td>\n",
              "    </tr>\n",
              "    <tr>\n",
              "      <th>2</th>\n",
              "      <td>1</td>\n",
              "      <td>Кира</td>\n",
              "      <td>22</td>\n",
              "      <td>Тюмень</td>\n",
              "      <td>ultra</td>\n",
              "      <td>754.159807</td>\n",
              "      <td>7.0</td>\n",
              "      <td>2021-04-20</td>\n",
              "      <td>4</td>\n",
              "      <td>6</td>\n",
              "      <td>0</td>\n",
              "      <td>199</td>\n",
              "    </tr>\n",
              "    <tr>\n",
              "      <th>3</th>\n",
              "      <td>1</td>\n",
              "      <td>Кира</td>\n",
              "      <td>22</td>\n",
              "      <td>Тюмень</td>\n",
              "      <td>ultra</td>\n",
              "      <td>2694.783254</td>\n",
              "      <td>19.0</td>\n",
              "      <td>2021-08-11</td>\n",
              "      <td>8</td>\n",
              "      <td>6</td>\n",
              "      <td>0</td>\n",
              "      <td>199</td>\n",
              "    </tr>\n",
              "    <tr>\n",
              "      <th>4</th>\n",
              "      <td>1</td>\n",
              "      <td>Кира</td>\n",
              "      <td>22</td>\n",
              "      <td>Тюмень</td>\n",
              "      <td>ultra</td>\n",
              "      <td>4028.687306</td>\n",
              "      <td>27.0</td>\n",
              "      <td>2021-08-28</td>\n",
              "      <td>8</td>\n",
              "      <td>6</td>\n",
              "      <td>0</td>\n",
              "      <td>199</td>\n",
              "    </tr>\n",
              "    <tr>\n",
              "      <th>...</th>\n",
              "      <td>...</td>\n",
              "      <td>...</td>\n",
              "      <td>...</td>\n",
              "      <td>...</td>\n",
              "      <td>...</td>\n",
              "      <td>...</td>\n",
              "      <td>...</td>\n",
              "      <td>...</td>\n",
              "      <td>...</td>\n",
              "      <td>...</td>\n",
              "      <td>...</td>\n",
              "      <td>...</td>\n",
              "    </tr>\n",
              "    <tr>\n",
              "      <th>18063</th>\n",
              "      <td>1534</td>\n",
              "      <td>Альберт</td>\n",
              "      <td>25</td>\n",
              "      <td>Краснодар</td>\n",
              "      <td>free</td>\n",
              "      <td>3781.098080</td>\n",
              "      <td>20.0</td>\n",
              "      <td>2021-11-04</td>\n",
              "      <td>11</td>\n",
              "      <td>8</td>\n",
              "      <td>50</td>\n",
              "      <td>0</td>\n",
              "    </tr>\n",
              "    <tr>\n",
              "      <th>18064</th>\n",
              "      <td>1534</td>\n",
              "      <td>Альберт</td>\n",
              "      <td>25</td>\n",
              "      <td>Краснодар</td>\n",
              "      <td>free</td>\n",
              "      <td>2840.423057</td>\n",
              "      <td>22.0</td>\n",
              "      <td>2021-11-16</td>\n",
              "      <td>11</td>\n",
              "      <td>8</td>\n",
              "      <td>50</td>\n",
              "      <td>0</td>\n",
              "    </tr>\n",
              "    <tr>\n",
              "      <th>18065</th>\n",
              "      <td>1534</td>\n",
              "      <td>Альберт</td>\n",
              "      <td>25</td>\n",
              "      <td>Краснодар</td>\n",
              "      <td>free</td>\n",
              "      <td>3826.185507</td>\n",
              "      <td>19.0</td>\n",
              "      <td>2021-11-18</td>\n",
              "      <td>11</td>\n",
              "      <td>8</td>\n",
              "      <td>50</td>\n",
              "      <td>0</td>\n",
              "    </tr>\n",
              "    <tr>\n",
              "      <th>18066</th>\n",
              "      <td>1534</td>\n",
              "      <td>Альберт</td>\n",
              "      <td>25</td>\n",
              "      <td>Краснодар</td>\n",
              "      <td>free</td>\n",
              "      <td>2902.308661</td>\n",
              "      <td>17.0</td>\n",
              "      <td>2021-11-27</td>\n",
              "      <td>11</td>\n",
              "      <td>8</td>\n",
              "      <td>50</td>\n",
              "      <td>0</td>\n",
              "    </tr>\n",
              "    <tr>\n",
              "      <th>18067</th>\n",
              "      <td>1534</td>\n",
              "      <td>Альберт</td>\n",
              "      <td>25</td>\n",
              "      <td>Краснодар</td>\n",
              "      <td>free</td>\n",
              "      <td>2371.711192</td>\n",
              "      <td>16.0</td>\n",
              "      <td>2021-12-29</td>\n",
              "      <td>12</td>\n",
              "      <td>8</td>\n",
              "      <td>50</td>\n",
              "      <td>0</td>\n",
              "    </tr>\n",
              "  </tbody>\n",
              "</table>\n",
              "<p>18068 rows × 12 columns</p>\n",
              "</div>"
            ],
            "text/plain": [
              "       user_id     name  age       city subscription_type     distance  \\\n",
              "0            1     Кира   22     Тюмень             ultra  4409.919140   \n",
              "1            1     Кира   22     Тюмень             ultra  2617.592153   \n",
              "2            1     Кира   22     Тюмень             ultra   754.159807   \n",
              "3            1     Кира   22     Тюмень             ultra  2694.783254   \n",
              "4            1     Кира   22     Тюмень             ultra  4028.687306   \n",
              "...        ...      ...  ...        ...               ...          ...   \n",
              "18063     1534  Альберт   25  Краснодар              free  3781.098080   \n",
              "18064     1534  Альберт   25  Краснодар              free  2840.423057   \n",
              "18065     1534  Альберт   25  Краснодар              free  3826.185507   \n",
              "18066     1534  Альберт   25  Краснодар              free  2902.308661   \n",
              "18067     1534  Альберт   25  Краснодар              free  2371.711192   \n",
              "\n",
              "       duration       date  month  minute_price  start_ride_price  \\\n",
              "0          26.0 2021-01-01      1             6                 0   \n",
              "1          16.0 2021-01-18      1             6                 0   \n",
              "2           7.0 2021-04-20      4             6                 0   \n",
              "3          19.0 2021-08-11      8             6                 0   \n",
              "4          27.0 2021-08-28      8             6                 0   \n",
              "...         ...        ...    ...           ...               ...   \n",
              "18063      20.0 2021-11-04     11             8                50   \n",
              "18064      22.0 2021-11-16     11             8                50   \n",
              "18065      19.0 2021-11-18     11             8                50   \n",
              "18066      17.0 2021-11-27     11             8                50   \n",
              "18067      16.0 2021-12-29     12             8                50   \n",
              "\n",
              "       subscription_fee  \n",
              "0                   199  \n",
              "1                   199  \n",
              "2                   199  \n",
              "3                   199  \n",
              "4                   199  \n",
              "...                 ...  \n",
              "18063                 0  \n",
              "18064                 0  \n",
              "18065                 0  \n",
              "18066                 0  \n",
              "18067                 0  \n",
              "\n",
              "[18068 rows x 12 columns]"
            ]
          },
          "execution_count": 37,
          "metadata": {},
          "output_type": "execute_result"
        }
      ],
      "source": [
        "data_full['duration'] = np.ceil(data_full['duration'])\n",
        "data_full"
      ]
    },
    {
      "cell_type": "markdown",
      "id": "fa941d3f",
      "metadata": {
        "id": "fa941d3f"
      },
      "source": [
        "Теперь объединим количество, длительность и время поездок для каждого пользователя в каждом месяце."
      ]
    },
    {
      "cell_type": "code",
      "execution_count": null,
      "id": "333acc53",
      "metadata": {
        "id": "333acc53",
        "outputId": "7c2b7389-1edf-4301-b526-6f3603c5e12d"
      },
      "outputs": [
        {
          "data": {
            "text/html": [
              "<div>\n",
              "<style scoped>\n",
              "    .dataframe tbody tr th:only-of-type {\n",
              "        vertical-align: middle;\n",
              "    }\n",
              "\n",
              "    .dataframe tbody tr th {\n",
              "        vertical-align: top;\n",
              "    }\n",
              "\n",
              "    .dataframe thead th {\n",
              "        text-align: right;\n",
              "    }\n",
              "</style>\n",
              "<table border=\"1\" class=\"dataframe\">\n",
              "  <thead>\n",
              "    <tr style=\"text-align: right;\">\n",
              "      <th></th>\n",
              "      <th>user_id</th>\n",
              "      <th>month</th>\n",
              "      <th>subscription_type</th>\n",
              "      <th>count_in_month</th>\n",
              "      <th>sum_distance</th>\n",
              "      <th>sum_duration</th>\n",
              "    </tr>\n",
              "  </thead>\n",
              "  <tbody>\n",
              "    <tr>\n",
              "      <th>0</th>\n",
              "      <td>1</td>\n",
              "      <td>1</td>\n",
              "      <td>ultra</td>\n",
              "      <td>2</td>\n",
              "      <td>7027.511294</td>\n",
              "      <td>42.0</td>\n",
              "    </tr>\n",
              "    <tr>\n",
              "      <th>1</th>\n",
              "      <td>1</td>\n",
              "      <td>4</td>\n",
              "      <td>ultra</td>\n",
              "      <td>1</td>\n",
              "      <td>754.159807</td>\n",
              "      <td>7.0</td>\n",
              "    </tr>\n",
              "    <tr>\n",
              "      <th>2</th>\n",
              "      <td>1</td>\n",
              "      <td>8</td>\n",
              "      <td>ultra</td>\n",
              "      <td>2</td>\n",
              "      <td>6723.470560</td>\n",
              "      <td>46.0</td>\n",
              "    </tr>\n",
              "    <tr>\n",
              "      <th>3</th>\n",
              "      <td>1</td>\n",
              "      <td>10</td>\n",
              "      <td>ultra</td>\n",
              "      <td>2</td>\n",
              "      <td>5809.911100</td>\n",
              "      <td>32.0</td>\n",
              "    </tr>\n",
              "    <tr>\n",
              "      <th>4</th>\n",
              "      <td>1</td>\n",
              "      <td>11</td>\n",
              "      <td>ultra</td>\n",
              "      <td>3</td>\n",
              "      <td>7003.499363</td>\n",
              "      <td>56.0</td>\n",
              "    </tr>\n",
              "    <tr>\n",
              "      <th>...</th>\n",
              "      <td>...</td>\n",
              "      <td>...</td>\n",
              "      <td>...</td>\n",
              "      <td>...</td>\n",
              "      <td>...</td>\n",
              "      <td>...</td>\n",
              "    </tr>\n",
              "    <tr>\n",
              "      <th>11326</th>\n",
              "      <td>1534</td>\n",
              "      <td>6</td>\n",
              "      <td>free</td>\n",
              "      <td>2</td>\n",
              "      <td>3409.468534</td>\n",
              "      <td>26.0</td>\n",
              "    </tr>\n",
              "    <tr>\n",
              "      <th>11327</th>\n",
              "      <td>1534</td>\n",
              "      <td>8</td>\n",
              "      <td>free</td>\n",
              "      <td>2</td>\n",
              "      <td>7622.453034</td>\n",
              "      <td>48.0</td>\n",
              "    </tr>\n",
              "    <tr>\n",
              "      <th>11328</th>\n",
              "      <td>1534</td>\n",
              "      <td>9</td>\n",
              "      <td>free</td>\n",
              "      <td>1</td>\n",
              "      <td>4928.173852</td>\n",
              "      <td>23.0</td>\n",
              "    </tr>\n",
              "    <tr>\n",
              "      <th>11329</th>\n",
              "      <td>1534</td>\n",
              "      <td>11</td>\n",
              "      <td>free</td>\n",
              "      <td>4</td>\n",
              "      <td>13350.015305</td>\n",
              "      <td>78.0</td>\n",
              "    </tr>\n",
              "    <tr>\n",
              "      <th>11330</th>\n",
              "      <td>1534</td>\n",
              "      <td>12</td>\n",
              "      <td>free</td>\n",
              "      <td>1</td>\n",
              "      <td>2371.711192</td>\n",
              "      <td>16.0</td>\n",
              "    </tr>\n",
              "  </tbody>\n",
              "</table>\n",
              "<p>11331 rows × 6 columns</p>\n",
              "</div>"
            ],
            "text/plain": [
              "       user_id  month subscription_type  count_in_month  sum_distance  \\\n",
              "0            1      1             ultra               2   7027.511294   \n",
              "1            1      4             ultra               1    754.159807   \n",
              "2            1      8             ultra               2   6723.470560   \n",
              "3            1     10             ultra               2   5809.911100   \n",
              "4            1     11             ultra               3   7003.499363   \n",
              "...        ...    ...               ...             ...           ...   \n",
              "11326     1534      6              free               2   3409.468534   \n",
              "11327     1534      8              free               2   7622.453034   \n",
              "11328     1534      9              free               1   4928.173852   \n",
              "11329     1534     11              free               4  13350.015305   \n",
              "11330     1534     12              free               1   2371.711192   \n",
              "\n",
              "       sum_duration  \n",
              "0              42.0  \n",
              "1               7.0  \n",
              "2              46.0  \n",
              "3              32.0  \n",
              "4              56.0  \n",
              "...             ...  \n",
              "11326          26.0  \n",
              "11327          48.0  \n",
              "11328          23.0  \n",
              "11329          78.0  \n",
              "11330          16.0  \n",
              "\n",
              "[11331 rows x 6 columns]"
            ]
          },
          "execution_count": 38,
          "metadata": {},
          "output_type": "execute_result"
        }
      ],
      "source": [
        "data_revenue = (data_full.groupby(['user_id', 'month', 'subscription_type'])\n",
        "    .agg({'month': ['count'], 'distance': ['sum'], 'duration': ['sum']}).reset_index())\n",
        "data_revenue.columns = ['user_id', 'month', 'subscription_type', 'count_in_month', 'sum_distance', 'sum_duration']\n",
        "data_revenue"
      ]
    },
    {
      "cell_type": "markdown",
      "id": "9908bd11",
      "metadata": {
        "id": "9908bd11"
      },
      "source": [
        "И наконец, для удобства подсчета помесячной выручки, добавим в агрегированный датафрейм данные о подписках."
      ]
    },
    {
      "cell_type": "code",
      "execution_count": null,
      "id": "a15ea531",
      "metadata": {
        "id": "a15ea531",
        "outputId": "9f8c8d59-7050-4f91-81c9-81f942b359a5"
      },
      "outputs": [
        {
          "data": {
            "text/html": [
              "<div>\n",
              "<style scoped>\n",
              "    .dataframe tbody tr th:only-of-type {\n",
              "        vertical-align: middle;\n",
              "    }\n",
              "\n",
              "    .dataframe tbody tr th {\n",
              "        vertical-align: top;\n",
              "    }\n",
              "\n",
              "    .dataframe thead th {\n",
              "        text-align: right;\n",
              "    }\n",
              "</style>\n",
              "<table border=\"1\" class=\"dataframe\">\n",
              "  <thead>\n",
              "    <tr style=\"text-align: right;\">\n",
              "      <th></th>\n",
              "      <th>user_id</th>\n",
              "      <th>month</th>\n",
              "      <th>subscription_type</th>\n",
              "      <th>count_in_month</th>\n",
              "      <th>sum_distance</th>\n",
              "      <th>sum_duration</th>\n",
              "      <th>minute_price</th>\n",
              "      <th>start_ride_price</th>\n",
              "      <th>subscription_fee</th>\n",
              "    </tr>\n",
              "  </thead>\n",
              "  <tbody>\n",
              "    <tr>\n",
              "      <th>0</th>\n",
              "      <td>1</td>\n",
              "      <td>1</td>\n",
              "      <td>ultra</td>\n",
              "      <td>2</td>\n",
              "      <td>7027.511294</td>\n",
              "      <td>42.0</td>\n",
              "      <td>6</td>\n",
              "      <td>0</td>\n",
              "      <td>199</td>\n",
              "    </tr>\n",
              "    <tr>\n",
              "      <th>1</th>\n",
              "      <td>1</td>\n",
              "      <td>4</td>\n",
              "      <td>ultra</td>\n",
              "      <td>1</td>\n",
              "      <td>754.159807</td>\n",
              "      <td>7.0</td>\n",
              "      <td>6</td>\n",
              "      <td>0</td>\n",
              "      <td>199</td>\n",
              "    </tr>\n",
              "    <tr>\n",
              "      <th>2</th>\n",
              "      <td>1</td>\n",
              "      <td>8</td>\n",
              "      <td>ultra</td>\n",
              "      <td>2</td>\n",
              "      <td>6723.470560</td>\n",
              "      <td>46.0</td>\n",
              "      <td>6</td>\n",
              "      <td>0</td>\n",
              "      <td>199</td>\n",
              "    </tr>\n",
              "    <tr>\n",
              "      <th>3</th>\n",
              "      <td>1</td>\n",
              "      <td>10</td>\n",
              "      <td>ultra</td>\n",
              "      <td>2</td>\n",
              "      <td>5809.911100</td>\n",
              "      <td>32.0</td>\n",
              "      <td>6</td>\n",
              "      <td>0</td>\n",
              "      <td>199</td>\n",
              "    </tr>\n",
              "    <tr>\n",
              "      <th>4</th>\n",
              "      <td>1</td>\n",
              "      <td>11</td>\n",
              "      <td>ultra</td>\n",
              "      <td>3</td>\n",
              "      <td>7003.499363</td>\n",
              "      <td>56.0</td>\n",
              "      <td>6</td>\n",
              "      <td>0</td>\n",
              "      <td>199</td>\n",
              "    </tr>\n",
              "    <tr>\n",
              "      <th>...</th>\n",
              "      <td>...</td>\n",
              "      <td>...</td>\n",
              "      <td>...</td>\n",
              "      <td>...</td>\n",
              "      <td>...</td>\n",
              "      <td>...</td>\n",
              "      <td>...</td>\n",
              "      <td>...</td>\n",
              "      <td>...</td>\n",
              "    </tr>\n",
              "    <tr>\n",
              "      <th>11326</th>\n",
              "      <td>1534</td>\n",
              "      <td>6</td>\n",
              "      <td>free</td>\n",
              "      <td>2</td>\n",
              "      <td>3409.468534</td>\n",
              "      <td>26.0</td>\n",
              "      <td>8</td>\n",
              "      <td>50</td>\n",
              "      <td>0</td>\n",
              "    </tr>\n",
              "    <tr>\n",
              "      <th>11327</th>\n",
              "      <td>1534</td>\n",
              "      <td>8</td>\n",
              "      <td>free</td>\n",
              "      <td>2</td>\n",
              "      <td>7622.453034</td>\n",
              "      <td>48.0</td>\n",
              "      <td>8</td>\n",
              "      <td>50</td>\n",
              "      <td>0</td>\n",
              "    </tr>\n",
              "    <tr>\n",
              "      <th>11328</th>\n",
              "      <td>1534</td>\n",
              "      <td>9</td>\n",
              "      <td>free</td>\n",
              "      <td>1</td>\n",
              "      <td>4928.173852</td>\n",
              "      <td>23.0</td>\n",
              "      <td>8</td>\n",
              "      <td>50</td>\n",
              "      <td>0</td>\n",
              "    </tr>\n",
              "    <tr>\n",
              "      <th>11329</th>\n",
              "      <td>1534</td>\n",
              "      <td>11</td>\n",
              "      <td>free</td>\n",
              "      <td>4</td>\n",
              "      <td>13350.015305</td>\n",
              "      <td>78.0</td>\n",
              "      <td>8</td>\n",
              "      <td>50</td>\n",
              "      <td>0</td>\n",
              "    </tr>\n",
              "    <tr>\n",
              "      <th>11330</th>\n",
              "      <td>1534</td>\n",
              "      <td>12</td>\n",
              "      <td>free</td>\n",
              "      <td>1</td>\n",
              "      <td>2371.711192</td>\n",
              "      <td>16.0</td>\n",
              "      <td>8</td>\n",
              "      <td>50</td>\n",
              "      <td>0</td>\n",
              "    </tr>\n",
              "  </tbody>\n",
              "</table>\n",
              "<p>11331 rows × 9 columns</p>\n",
              "</div>"
            ],
            "text/plain": [
              "       user_id  month subscription_type  count_in_month  sum_distance  \\\n",
              "0            1      1             ultra               2   7027.511294   \n",
              "1            1      4             ultra               1    754.159807   \n",
              "2            1      8             ultra               2   6723.470560   \n",
              "3            1     10             ultra               2   5809.911100   \n",
              "4            1     11             ultra               3   7003.499363   \n",
              "...        ...    ...               ...             ...           ...   \n",
              "11326     1534      6              free               2   3409.468534   \n",
              "11327     1534      8              free               2   7622.453034   \n",
              "11328     1534      9              free               1   4928.173852   \n",
              "11329     1534     11              free               4  13350.015305   \n",
              "11330     1534     12              free               1   2371.711192   \n",
              "\n",
              "       sum_duration  minute_price  start_ride_price  subscription_fee  \n",
              "0              42.0             6                 0               199  \n",
              "1               7.0             6                 0               199  \n",
              "2              46.0             6                 0               199  \n",
              "3              32.0             6                 0               199  \n",
              "4              56.0             6                 0               199  \n",
              "...             ...           ...               ...               ...  \n",
              "11326          26.0             8                50                 0  \n",
              "11327          48.0             8                50                 0  \n",
              "11328          23.0             8                50                 0  \n",
              "11329          78.0             8                50                 0  \n",
              "11330          16.0             8                50                 0  \n",
              "\n",
              "[11331 rows x 9 columns]"
            ]
          },
          "execution_count": 39,
          "metadata": {},
          "output_type": "execute_result"
        }
      ],
      "source": [
        "data_revenue = data_revenue.merge(data_subs, on='subscription_type')\n",
        "data_revenue"
      ]
    },
    {
      "cell_type": "markdown",
      "id": "48f9709d",
      "metadata": {
        "id": "48f9709d"
      },
      "source": [
        "Теперь перейдем к расчету выручки - воспользуемся формулой: стоимость старта поездки × количество поездок + стоимость одной минуты поездки × общая продолжительность всех поездок в минутах + стоимость подписки. Создадим новый столбец, где будет отражен результат для каждого месяца. Выведем итоговый датафрейм на экран и визуализируем полученные данные."
      ]
    },
    {
      "cell_type": "code",
      "execution_count": null,
      "id": "ae91413e",
      "metadata": {
        "id": "ae91413e",
        "outputId": "14bbc2e3-5b24-423e-e452-3975f926b6fc"
      },
      "outputs": [
        {
          "data": {
            "text/html": [
              "<div>\n",
              "<style scoped>\n",
              "    .dataframe tbody tr th:only-of-type {\n",
              "        vertical-align: middle;\n",
              "    }\n",
              "\n",
              "    .dataframe tbody tr th {\n",
              "        vertical-align: top;\n",
              "    }\n",
              "\n",
              "    .dataframe thead th {\n",
              "        text-align: right;\n",
              "    }\n",
              "</style>\n",
              "<table border=\"1\" class=\"dataframe\">\n",
              "  <thead>\n",
              "    <tr style=\"text-align: right;\">\n",
              "      <th></th>\n",
              "      <th>user_id</th>\n",
              "      <th>month</th>\n",
              "      <th>subscription_type</th>\n",
              "      <th>count_in_month</th>\n",
              "      <th>sum_distance</th>\n",
              "      <th>sum_duration</th>\n",
              "      <th>minute_price</th>\n",
              "      <th>start_ride_price</th>\n",
              "      <th>subscription_fee</th>\n",
              "      <th>revenue_in_month</th>\n",
              "    </tr>\n",
              "  </thead>\n",
              "  <tbody>\n",
              "    <tr>\n",
              "      <th>0</th>\n",
              "      <td>1</td>\n",
              "      <td>1</td>\n",
              "      <td>ultra</td>\n",
              "      <td>2</td>\n",
              "      <td>7027.511294</td>\n",
              "      <td>42.0</td>\n",
              "      <td>6</td>\n",
              "      <td>0</td>\n",
              "      <td>199</td>\n",
              "      <td>451.0</td>\n",
              "    </tr>\n",
              "    <tr>\n",
              "      <th>1</th>\n",
              "      <td>1</td>\n",
              "      <td>4</td>\n",
              "      <td>ultra</td>\n",
              "      <td>1</td>\n",
              "      <td>754.159807</td>\n",
              "      <td>7.0</td>\n",
              "      <td>6</td>\n",
              "      <td>0</td>\n",
              "      <td>199</td>\n",
              "      <td>241.0</td>\n",
              "    </tr>\n",
              "    <tr>\n",
              "      <th>2</th>\n",
              "      <td>1</td>\n",
              "      <td>8</td>\n",
              "      <td>ultra</td>\n",
              "      <td>2</td>\n",
              "      <td>6723.470560</td>\n",
              "      <td>46.0</td>\n",
              "      <td>6</td>\n",
              "      <td>0</td>\n",
              "      <td>199</td>\n",
              "      <td>475.0</td>\n",
              "    </tr>\n",
              "    <tr>\n",
              "      <th>3</th>\n",
              "      <td>1</td>\n",
              "      <td>10</td>\n",
              "      <td>ultra</td>\n",
              "      <td>2</td>\n",
              "      <td>5809.911100</td>\n",
              "      <td>32.0</td>\n",
              "      <td>6</td>\n",
              "      <td>0</td>\n",
              "      <td>199</td>\n",
              "      <td>391.0</td>\n",
              "    </tr>\n",
              "    <tr>\n",
              "      <th>4</th>\n",
              "      <td>1</td>\n",
              "      <td>11</td>\n",
              "      <td>ultra</td>\n",
              "      <td>3</td>\n",
              "      <td>7003.499363</td>\n",
              "      <td>56.0</td>\n",
              "      <td>6</td>\n",
              "      <td>0</td>\n",
              "      <td>199</td>\n",
              "      <td>535.0</td>\n",
              "    </tr>\n",
              "    <tr>\n",
              "      <th>...</th>\n",
              "      <td>...</td>\n",
              "      <td>...</td>\n",
              "      <td>...</td>\n",
              "      <td>...</td>\n",
              "      <td>...</td>\n",
              "      <td>...</td>\n",
              "      <td>...</td>\n",
              "      <td>...</td>\n",
              "      <td>...</td>\n",
              "      <td>...</td>\n",
              "    </tr>\n",
              "    <tr>\n",
              "      <th>11326</th>\n",
              "      <td>1534</td>\n",
              "      <td>6</td>\n",
              "      <td>free</td>\n",
              "      <td>2</td>\n",
              "      <td>3409.468534</td>\n",
              "      <td>26.0</td>\n",
              "      <td>8</td>\n",
              "      <td>50</td>\n",
              "      <td>0</td>\n",
              "      <td>308.0</td>\n",
              "    </tr>\n",
              "    <tr>\n",
              "      <th>11327</th>\n",
              "      <td>1534</td>\n",
              "      <td>8</td>\n",
              "      <td>free</td>\n",
              "      <td>2</td>\n",
              "      <td>7622.453034</td>\n",
              "      <td>48.0</td>\n",
              "      <td>8</td>\n",
              "      <td>50</td>\n",
              "      <td>0</td>\n",
              "      <td>484.0</td>\n",
              "    </tr>\n",
              "    <tr>\n",
              "      <th>11328</th>\n",
              "      <td>1534</td>\n",
              "      <td>9</td>\n",
              "      <td>free</td>\n",
              "      <td>1</td>\n",
              "      <td>4928.173852</td>\n",
              "      <td>23.0</td>\n",
              "      <td>8</td>\n",
              "      <td>50</td>\n",
              "      <td>0</td>\n",
              "      <td>234.0</td>\n",
              "    </tr>\n",
              "    <tr>\n",
              "      <th>11329</th>\n",
              "      <td>1534</td>\n",
              "      <td>11</td>\n",
              "      <td>free</td>\n",
              "      <td>4</td>\n",
              "      <td>13350.015305</td>\n",
              "      <td>78.0</td>\n",
              "      <td>8</td>\n",
              "      <td>50</td>\n",
              "      <td>0</td>\n",
              "      <td>824.0</td>\n",
              "    </tr>\n",
              "    <tr>\n",
              "      <th>11330</th>\n",
              "      <td>1534</td>\n",
              "      <td>12</td>\n",
              "      <td>free</td>\n",
              "      <td>1</td>\n",
              "      <td>2371.711192</td>\n",
              "      <td>16.0</td>\n",
              "      <td>8</td>\n",
              "      <td>50</td>\n",
              "      <td>0</td>\n",
              "      <td>178.0</td>\n",
              "    </tr>\n",
              "  </tbody>\n",
              "</table>\n",
              "<p>11331 rows × 10 columns</p>\n",
              "</div>"
            ],
            "text/plain": [
              "       user_id  month subscription_type  count_in_month  sum_distance  \\\n",
              "0            1      1             ultra               2   7027.511294   \n",
              "1            1      4             ultra               1    754.159807   \n",
              "2            1      8             ultra               2   6723.470560   \n",
              "3            1     10             ultra               2   5809.911100   \n",
              "4            1     11             ultra               3   7003.499363   \n",
              "...        ...    ...               ...             ...           ...   \n",
              "11326     1534      6              free               2   3409.468534   \n",
              "11327     1534      8              free               2   7622.453034   \n",
              "11328     1534      9              free               1   4928.173852   \n",
              "11329     1534     11              free               4  13350.015305   \n",
              "11330     1534     12              free               1   2371.711192   \n",
              "\n",
              "       sum_duration  minute_price  start_ride_price  subscription_fee  \\\n",
              "0              42.0             6                 0               199   \n",
              "1               7.0             6                 0               199   \n",
              "2              46.0             6                 0               199   \n",
              "3              32.0             6                 0               199   \n",
              "4              56.0             6                 0               199   \n",
              "...             ...           ...               ...               ...   \n",
              "11326          26.0             8                50                 0   \n",
              "11327          48.0             8                50                 0   \n",
              "11328          23.0             8                50                 0   \n",
              "11329          78.0             8                50                 0   \n",
              "11330          16.0             8                50                 0   \n",
              "\n",
              "       revenue_in_month  \n",
              "0                 451.0  \n",
              "1                 241.0  \n",
              "2                 475.0  \n",
              "3                 391.0  \n",
              "4                 535.0  \n",
              "...                 ...  \n",
              "11326             308.0  \n",
              "11327             484.0  \n",
              "11328             234.0  \n",
              "11329             824.0  \n",
              "11330             178.0  \n",
              "\n",
              "[11331 rows x 10 columns]"
            ]
          },
          "execution_count": 40,
          "metadata": {},
          "output_type": "execute_result"
        }
      ],
      "source": [
        "data_revenue['revenue_in_month'] = data_revenue['start_ride_price'] * data_revenue['count_in_month'] \\\n",
        "    + data_revenue['minute_price'] * data_revenue['sum_duration'] + data_revenue['subscription_fee']\n",
        "data_revenue"
      ]
    },
    {
      "cell_type": "code",
      "execution_count": null,
      "id": "18447d12",
      "metadata": {
        "id": "18447d12",
        "outputId": "498f0768-22d9-48c4-8d05-39bacd6ff2d3"
      },
      "outputs": [
        {
          "data": {
            "image/png": "[encoded data removed]",
            "text/plain": [
              "<Figure size 432x288 with 1 Axes>"
            ]
          },
          "metadata": {
            "needs_background": "light"
          },
          "output_type": "display_data"
        }
      ],
      "source": [
        "data_revenue_free = data_revenue.query('subscription_type == \"free\"')\n",
        "data_revenue_ultra = data_revenue.query('subscription_type == \"ultra\"')\n",
        "\n",
        "plt.hist([data_revenue_free['revenue_in_month'], data_revenue_ultra['revenue_in_month']], bins=60, label=['free', 'ultra'])\n",
        "plt.legend(loc='upper right')\n",
        "plt.title('Помесячная выручка от пользователей с подпиской и без')\n",
        "plt.xlabel('Выручка')\n",
        "plt.ylabel('Количество поездок')\n",
        "plt.show()"
      ]
    },
    {
      "cell_type": "markdown",
      "id": "e8c55869",
      "metadata": {
        "id": "e8c55869"
      },
      "source": [
        "Мы посчитали и визуализировали помесячную выручку каждого пользователя, и можем переходить к проверке гипотез."
      ]
    },
    {
      "cell_type": "markdown",
      "id": "cdc12a2b",
      "metadata": {
        "id": "cdc12a2b"
      },
      "source": [
        "## Шаг 6. Проверка гипотез"
      ]
    },
    {
      "cell_type": "markdown",
      "id": "5332d150",
      "metadata": {
        "id": "5332d150"
      },
      "source": [
        "Перед тем, как сервис внедрит акции для новых подписчиков с целью их увеличения, проверим несколько гипотез. Первая - пользователи с подпиской тратят больше времени на поездки, и являются более «выгодными» для компании. Для проверки гипотезы воспользуемся двухвыборочным тестом для независимых выборок с альтернативной односторонней гипотезой."
      ]
    },
    {
      "cell_type": "markdown",
      "id": "b5c39ae8",
      "metadata": {
        "id": "b5c39ae8"
      },
      "source": [
        "Нулевая гипотеза - пользователи с подпиской и без тратят одинаковое количество времени на поездки.\n",
        "Альтернативная гипотеза - пользователи с подпиской тратят больше времени на поездки, чем пользователи без подписки."
      ]
    },
    {
      "cell_type": "code",
      "execution_count": null,
      "id": "a5d7170f",
      "metadata": {
        "id": "a5d7170f",
        "outputId": "0771d395-4e47-4985-9b6f-d789ca82c263"
      },
      "outputs": [
        {
          "name": "stdout",
          "output_type": "stream",
          "text": [
            "Среднее первой выборки: 17.39090929866399\n",
            "Среднее второй выборки: 18.54198516280583\n",
            "p-значение: 1.2804098316645618e-34\n",
            "Отвергаем нулевую гипотезу\n"
          ]
        }
      ],
      "source": [
        "print('Среднее первой выборки:', np.mean(data_users_free['duration']))\n",
        "print('Среднее второй выборки:', np.mean(data_users_ultra['duration']))\n",
        "\n",
        "alpha = .05\n",
        "\n",
        "results = st.ttest_ind(data_users_free['duration'], data_users_ultra['duration'], alternative='less')\n",
        "\n",
        "print('p-значение:', results.pvalue)\n",
        "\n",
        "if results.pvalue < alpha:\n",
        "    print('Отвергаем нулевую гипотезу')\n",
        "else:\n",
        "    print('Не получилось отвергнуть нулевую гипотезу')"
      ]
    },
    {
      "cell_type": "markdown",
      "id": "fe0b45cb",
      "metadata": {
        "id": "fe0b45cb"
      },
      "source": [
        "Получается, что скорее всего продакт-менеджеры правы, и пользователи с подпиской тратят больше времени на поездки (18.5 минут), чем пользователи без подписки (17.4 минуты). Однако, эта разница не слишком весомая, чтобы утверждать о том, что больше подписчиков принесут больше выгоды для компании, так как стоимость поездки за минуту больше у пользователей без подписки. Но мы можем точно утверждать, что среднее время поездок пользователей с подпиской и без не равны, так как нулевая гипотеза будет отвергнута при уровне 5 % и даже 1 % статистической значимости."
      ]
    },
    {
      "cell_type": "markdown",
      "id": "ac6d73d7",
      "metadata": {
        "id": "ac6d73d7"
      },
      "source": [
        "Рассмотрим следующую гипотезу - пользователи с подпиской в среднем проезжают не более 3130 метров (оптимальное расстояние с точки зрения износа самоката по мнению продакт-менеджеров). Для проверки снова подойдет односторонняя гипотеза, а тест в этот раз будет одновыборочным."
      ]
    },
    {
      "cell_type": "markdown",
      "id": "0cf83a13",
      "metadata": {
        "id": "0cf83a13"
      },
      "source": [
        "Нулевая гипотеза - пользователи с подпиской в среднем проезжают 3130 метров за одну поездку.\n",
        "Альтернативная гипотеза - пользователи с подпиской в среднем проезжают больше 3130 метров за одну поездку."
      ]
    },
    {
      "cell_type": "code",
      "execution_count": null,
      "id": "0e812dcf",
      "metadata": {
        "id": "0e812dcf",
        "outputId": "41f733f3-84ad-46c7-c3f1-2e75f65f26dc"
      },
      "outputs": [
        {
          "name": "stdout",
          "output_type": "stream",
          "text": [
            "Среднее выборки: 3115.4453880370247\n",
            "p-значение: 0.9195368847849785\n",
            "Не получилось отвергнуть нулевую гипотезу\n"
          ]
        }
      ],
      "source": [
        "print('Среднее выборки:', np.mean(data_users_ultra['distance']))\n",
        "\n",
        "value = 3130\n",
        "\n",
        "alpha = .05\n",
        "\n",
        "results = st.ttest_1samp(data_users_ultra['distance'], value, alternative='greater')\n",
        "\n",
        "print('p-значение:', results.pvalue)\n",
        "\n",
        "if results.pvalue < alpha:\n",
        "    print('Отвергаем нулевую гипотезу')\n",
        "else:\n",
        "    print('Не получилось отвергнуть нулевую гипотезу')"
      ]
    },
    {
      "cell_type": "markdown",
      "id": "a5c16853",
      "metadata": {
        "id": "a5c16853"
      },
      "source": [
        "Скорее всего, в этот раз продакт-менеджеры полностью правы, так как пользователи с подпиской в среднем за одну поездку проезжают около 3115 метров, а это значение не больше 3130 метров. Значит, это расстояние можно считать оптимальным с точки зрения износа самоката. Нулевую гипотезу отвергнуть не получилось, а p-значение очень высокое - 92 %."
      ]
    },
    {
      "cell_type": "markdown",
      "id": "cce0f096",
      "metadata": {
        "id": "cce0f096"
      },
      "source": [
        "Теперь проверим последнюю гипотезу - помесячная выручка от пользователей с подпиской по месяцам выше, чем выручка от пользователей без подписки. Здесь нам снова понадобится двухвыборочный тест для независимых выборок с альтернативной односторонней гипотезой."
      ]
    },
    {
      "cell_type": "markdown",
      "id": "dec16bb8",
      "metadata": {
        "id": "dec16bb8"
      },
      "source": [
        "Нулевая гипотеза - помесячная выручка от пользователей с подпиской и без по месяцам равна.\n",
        "Альтернативная гипотеза - помесячная выручка от пользователей с подпиской по месяцам выше, чем от пользователей без подписки."
      ]
    },
    {
      "cell_type": "code",
      "execution_count": null,
      "id": "c66498a1",
      "metadata": {
        "id": "c66498a1",
        "outputId": "697e7216-edca-4703-a07e-3af4a431c202"
      },
      "outputs": [
        {
          "name": "stdout",
          "output_type": "stream",
          "text": [
            "Среднее первой выборки: 328.6413651073845\n",
            "Среднее второй выборки: 362.7921906022502\n",
            "p-значение: 1.8850394384715216e-31\n",
            "Отвергаем нулевую гипотезу\n"
          ]
        }
      ],
      "source": [
        "print('Среднее первой выборки:', np.mean(data_revenue_free['revenue_in_month']))\n",
        "print('Среднее второй выборки:', np.mean(data_revenue_ultra['revenue_in_month']))\n",
        "\n",
        "alpha = .05\n",
        "\n",
        "results = st.ttest_ind(data_revenue_free['revenue_in_month'], data_revenue_ultra['revenue_in_month'], alternative='less')\n",
        "\n",
        "print('p-значение:', results.pvalue)\n",
        "\n",
        "if results.pvalue < alpha:\n",
        "    print('Отвергаем нулевую гипотезу')\n",
        "else:\n",
        "    print('Не получилось отвергнуть нулевую гипотезу')"
      ]
    },
    {
      "cell_type": "markdown",
      "id": "a962c9cd",
      "metadata": {
        "id": "a962c9cd"
      },
      "source": [
        "И в этот раз продакт-менеджеры скорее всего правы, и пользователи с подпиской приносят для компании больше помесячной выручки, чем пользователи без подписки."
      ]
    },
    {
      "cell_type": "markdown",
      "id": "ba8c6f50",
      "metadata": {
        "id": "ba8c6f50"
      },
      "source": [
        "И напоследок, представим следующую ситуацию и ответим на вопрос: техническая команда сервиса обновила сервера, с которыми взаимодействует мобильное приложение. Она надеется, что из-за этого количество обращений в техподдержку значимо снизилось. Некоторый файл содержит для каждого пользователя данные о количестве обращений до обновления и после него. Какой тест нам понадобился бы для проверки этой гипотезы?\n",
        "\n",
        "Для расчета такой гипотезы нам подошел бы двухвыборочный тест для зависимых (парных) выборок с альтернативной односторонней гипотезой. Для расчета в *Python* используется метод *st.ttest_rel()* из библиотеки *scipy.stats.*"
      ]
    },
    {
      "cell_type": "markdown",
      "id": "adcb89e1",
      "metadata": {
        "id": "adcb89e1"
      },
      "source": [
        "## Общий вывод"
      ]
    },
    {
      "cell_type": "markdown",
      "id": "1686b07b",
      "metadata": {
        "id": "1686b07b"
      },
      "source": [
        "Мы провели исследование популярного сервиса аренды самокатов GoFast, и выяснили некоторые параметры о пользователях сервиса, их поездках и подписках. Среди ключевых можно отметить следующее:\n",
        "\n",
        "- пользователей сервиса больше всего в **Пятигорске (219),** меньше всего - в **Москве (168).**\n",
        "- пользователей **без подписки (835)** больше, чем пользователей **с подпиской (699).**\n",
        "- больше всего сервисом пользуются пользователи **25 лет - 145 человек.**\n",
        "- среднее расстояние поездок - **3100-3200 метров,** максимальное расстояние - **около 7200 метров.**\n",
        "- среднее время поездок - **17-18 минут,** максимальное время - **около 41 минуты.**\n",
        "\n",
        "Также, были проверены некоторые гипотезы, выдвинутые продакт-менеджерами компании. Благодаря проверке были получены следующие данные:\n",
        "\n",
        "- среднее время поездок пользователей с подпиской скорее всего больше **(18.5),** чем у пользователей без подписки **(17.4).** Однако, нельзя точно утверждать, что пользователи с подпиской более выгодны только на основании времени, так как стоимость одной минуты поездки больше у пользователей без подписки.\n",
        "- среднее расстояние поездок пользователей скорее всего **не превышает 3130 метров,** и можно утверждать, что это расстояние является оптимальным с точки зрения износа самоката.\n",
        "- помесячная выручка от пользователей с подпиской скорее всего выше **(362.8),** чем от пользователей без подписки **(328.6).**\n",
        "\n",
        "Таким образом, есть основания утверждать, что введение акций для привлечения новых подписчиков имеет смысл, так как они проводят больше времени в поездках и приносят больше выручки. Однако, можно порекомендовать увеличить выборку пользователей для более объективного исследования. Возможно тогда можно будет уверенно утверждать, что время поездок пользователей с подпиской существенно больше."
      ]
    }
  ],
  "metadata": {
    "ExecuteTimeLog": [
      {
        "duration": 427,
        "start_time": "2024-07-02T11:29:22.396Z"
      },
      {
        "duration": 305,
        "start_time": "2024-07-02T11:29:22.825Z"
      },
      {
        "duration": 12,
        "start_time": "2024-07-02T11:29:23.132Z"
      },
      {
        "duration": 399,
        "start_time": "2024-07-02T11:29:58.817Z"
      },
      {
        "duration": 66,
        "start_time": "2024-07-02T11:29:59.221Z"
      },
      {
        "duration": 11,
        "start_time": "2024-07-02T11:29:59.288Z"
      },
      {
        "duration": 412,
        "start_time": "2024-07-02T11:30:48.593Z"
      },
      {
        "duration": 68,
        "start_time": "2024-07-02T11:30:49.007Z"
      },
      {
        "duration": 15,
        "start_time": "2024-07-02T11:30:49.076Z"
      },
      {
        "duration": 13,
        "start_time": "2024-07-02T11:30:49.093Z"
      },
      {
        "duration": 20,
        "start_time": "2024-07-02T11:30:49.107Z"
      },
      {
        "duration": 9,
        "start_time": "2024-07-02T11:42:35.588Z"
      },
      {
        "duration": 45,
        "start_time": "2024-07-02T11:42:48.373Z"
      },
      {
        "duration": 18,
        "start_time": "2024-07-02T11:43:03.534Z"
      },
      {
        "duration": 10,
        "start_time": "2024-07-02T11:43:50.551Z"
      },
      {
        "duration": 9,
        "start_time": "2024-07-02T11:44:08.877Z"
      },
      {
        "duration": 14,
        "start_time": "2024-07-02T11:44:19.997Z"
      },
      {
        "duration": 416,
        "start_time": "2024-07-02T11:45:20.237Z"
      },
      {
        "duration": 66,
        "start_time": "2024-07-02T11:45:28.711Z"
      },
      {
        "duration": 21,
        "start_time": "2024-07-02T11:45:30.365Z"
      },
      {
        "duration": 22,
        "start_time": "2024-07-02T11:45:34.183Z"
      },
      {
        "duration": 14,
        "start_time": "2024-07-02T11:45:52.244Z"
      },
      {
        "duration": 13,
        "start_time": "2024-07-02T11:48:42.161Z"
      },
      {
        "duration": 12,
        "start_time": "2024-07-02T11:51:28.113Z"
      },
      {
        "duration": 62,
        "start_time": "2024-07-02T11:55:57.563Z"
      },
      {
        "duration": 8,
        "start_time": "2024-07-02T11:56:11.062Z"
      },
      {
        "duration": 5,
        "start_time": "2024-07-02T11:56:23.421Z"
      },
      {
        "duration": 10,
        "start_time": "2024-07-02T12:03:05.807Z"
      },
      {
        "duration": 6,
        "start_time": "2024-07-02T12:04:12.910Z"
      },
      {
        "duration": 8,
        "start_time": "2024-07-02T12:05:50.471Z"
      },
      {
        "duration": 7,
        "start_time": "2024-07-02T12:06:06.922Z"
      },
      {
        "duration": 4,
        "start_time": "2024-07-02T12:06:54.325Z"
      },
      {
        "duration": 6,
        "start_time": "2024-07-02T12:07:05.613Z"
      },
      {
        "duration": 383,
        "start_time": "2024-07-02T13:24:28.871Z"
      },
      {
        "duration": 66,
        "start_time": "2024-07-02T13:24:29.256Z"
      },
      {
        "duration": 21,
        "start_time": "2024-07-02T13:24:29.324Z"
      },
      {
        "duration": 27,
        "start_time": "2024-07-02T13:24:29.347Z"
      },
      {
        "duration": 26,
        "start_time": "2024-07-02T13:24:29.375Z"
      },
      {
        "duration": 13,
        "start_time": "2024-07-02T13:24:29.403Z"
      },
      {
        "duration": 13,
        "start_time": "2024-07-02T13:24:29.417Z"
      },
      {
        "duration": 7,
        "start_time": "2024-07-02T13:24:29.432Z"
      },
      {
        "duration": 33,
        "start_time": "2024-07-02T13:24:29.440Z"
      },
      {
        "duration": 5,
        "start_time": "2024-07-02T13:24:29.475Z"
      },
      {
        "duration": 17,
        "start_time": "2024-07-02T13:24:29.482Z"
      },
      {
        "duration": 5,
        "start_time": "2024-07-02T13:24:29.501Z"
      },
      {
        "duration": 26,
        "start_time": "2024-07-02T13:24:29.507Z"
      },
      {
        "duration": 26,
        "start_time": "2024-07-02T13:24:29.534Z"
      },
      {
        "duration": 16,
        "start_time": "2024-07-02T13:24:29.561Z"
      },
      {
        "duration": 537,
        "start_time": "2024-07-02T13:30:15.835Z"
      },
      {
        "duration": 188,
        "start_time": "2024-07-02T13:33:10.409Z"
      },
      {
        "duration": 144,
        "start_time": "2024-07-02T13:34:43.852Z"
      },
      {
        "duration": 134,
        "start_time": "2024-07-02T13:34:56.297Z"
      },
      {
        "duration": 814,
        "start_time": "2024-07-02T13:38:59.812Z"
      },
      {
        "duration": 3,
        "start_time": "2024-07-02T13:39:03.048Z"
      },
      {
        "duration": 811,
        "start_time": "2024-07-02T13:39:05.470Z"
      },
      {
        "duration": 415,
        "start_time": "2024-07-02T13:43:25.497Z"
      },
      {
        "duration": 67,
        "start_time": "2024-07-02T13:43:25.914Z"
      },
      {
        "duration": 21,
        "start_time": "2024-07-02T13:43:25.982Z"
      },
      {
        "duration": 19,
        "start_time": "2024-07-02T13:43:26.005Z"
      },
      {
        "duration": 17,
        "start_time": "2024-07-02T13:43:26.026Z"
      },
      {
        "duration": 13,
        "start_time": "2024-07-02T13:43:26.045Z"
      },
      {
        "duration": 15,
        "start_time": "2024-07-02T13:43:26.060Z"
      },
      {
        "duration": 6,
        "start_time": "2024-07-02T13:43:26.076Z"
      },
      {
        "duration": 37,
        "start_time": "2024-07-02T13:43:26.084Z"
      },
      {
        "duration": 5,
        "start_time": "2024-07-02T13:43:26.124Z"
      },
      {
        "duration": 15,
        "start_time": "2024-07-02T13:43:26.131Z"
      },
      {
        "duration": 5,
        "start_time": "2024-07-02T13:43:26.148Z"
      },
      {
        "duration": 9,
        "start_time": "2024-07-02T13:43:26.154Z"
      },
      {
        "duration": 16,
        "start_time": "2024-07-02T13:43:26.164Z"
      },
      {
        "duration": 9,
        "start_time": "2024-07-02T13:43:26.182Z"
      },
      {
        "duration": 492,
        "start_time": "2024-07-02T13:43:26.192Z"
      },
      {
        "duration": 282,
        "start_time": "2024-07-02T13:45:32.088Z"
      },
      {
        "duration": 354,
        "start_time": "2024-07-02T14:02:28.577Z"
      },
      {
        "duration": 70,
        "start_time": "2024-07-02T14:02:28.933Z"
      },
      {
        "duration": 30,
        "start_time": "2024-07-02T14:02:29.005Z"
      },
      {
        "duration": 21,
        "start_time": "2024-07-02T14:02:29.037Z"
      },
      {
        "duration": 17,
        "start_time": "2024-07-02T14:02:29.060Z"
      },
      {
        "duration": 40,
        "start_time": "2024-07-02T14:02:29.079Z"
      },
      {
        "duration": 36,
        "start_time": "2024-07-02T14:02:29.120Z"
      },
      {
        "duration": 5,
        "start_time": "2024-07-02T14:02:29.158Z"
      },
      {
        "duration": 14,
        "start_time": "2024-07-02T14:02:29.164Z"
      },
      {
        "duration": 6,
        "start_time": "2024-07-02T14:02:29.180Z"
      },
      {
        "duration": 18,
        "start_time": "2024-07-02T14:02:29.187Z"
      },
      {
        "duration": 8,
        "start_time": "2024-07-02T14:02:29.207Z"
      },
      {
        "duration": 17,
        "start_time": "2024-07-02T14:02:29.216Z"
      },
      {
        "duration": 13,
        "start_time": "2024-07-02T14:02:29.235Z"
      },
      {
        "duration": 7,
        "start_time": "2024-07-02T14:02:29.250Z"
      },
      {
        "duration": 455,
        "start_time": "2024-07-02T14:02:29.258Z"
      },
      {
        "duration": 165,
        "start_time": "2024-07-02T14:02:29.719Z"
      },
      {
        "duration": 6,
        "start_time": "2024-07-02T14:07:19.187Z"
      },
      {
        "duration": 5,
        "start_time": "2024-07-02T14:15:55.146Z"
      },
      {
        "duration": 170,
        "start_time": "2024-07-02T14:17:46.532Z"
      },
      {
        "duration": 170,
        "start_time": "2024-07-02T14:29:58.528Z"
      },
      {
        "duration": 215,
        "start_time": "2024-07-02T14:30:08.254Z"
      },
      {
        "duration": 164,
        "start_time": "2024-07-02T14:30:11.402Z"
      },
      {
        "duration": 161,
        "start_time": "2024-07-02T14:30:25.359Z"
      },
      {
        "duration": 7,
        "start_time": "2024-07-02T14:46:15.780Z"
      },
      {
        "duration": 184,
        "start_time": "2024-07-02T14:46:51.058Z"
      },
      {
        "duration": 216,
        "start_time": "2024-07-02T14:47:13.164Z"
      },
      {
        "duration": 272,
        "start_time": "2024-07-02T14:47:19.560Z"
      },
      {
        "duration": 846,
        "start_time": "2024-07-02T14:47:26.807Z"
      },
      {
        "duration": 268,
        "start_time": "2024-07-02T14:47:35.251Z"
      },
      {
        "duration": 258,
        "start_time": "2024-07-02T14:47:54.289Z"
      },
      {
        "duration": 272,
        "start_time": "2024-07-02T14:48:02.536Z"
      },
      {
        "duration": 334,
        "start_time": "2024-07-02T14:48:09.020Z"
      },
      {
        "duration": 132,
        "start_time": "2024-07-02T14:49:07.133Z"
      },
      {
        "duration": 111,
        "start_time": "2024-07-02T14:49:25.017Z"
      },
      {
        "duration": 148,
        "start_time": "2024-07-02T14:49:46.888Z"
      },
      {
        "duration": 236,
        "start_time": "2024-07-02T14:49:56.295Z"
      },
      {
        "duration": 5,
        "start_time": "2024-07-02T14:55:48.993Z"
      },
      {
        "duration": 72,
        "start_time": "2024-07-02T14:56:07.090Z"
      },
      {
        "duration": 4,
        "start_time": "2024-07-02T14:56:14.618Z"
      },
      {
        "duration": 3,
        "start_time": "2024-07-02T14:56:20.812Z"
      },
      {
        "duration": 10,
        "start_time": "2024-07-02T14:56:50.843Z"
      },
      {
        "duration": 12,
        "start_time": "2024-07-02T14:57:28.985Z"
      },
      {
        "duration": 5,
        "start_time": "2024-07-02T14:58:49.265Z"
      },
      {
        "duration": 382,
        "start_time": "2024-07-02T15:03:24.775Z"
      },
      {
        "duration": 77,
        "start_time": "2024-07-02T15:03:25.159Z"
      },
      {
        "duration": 22,
        "start_time": "2024-07-02T15:03:25.237Z"
      },
      {
        "duration": 16,
        "start_time": "2024-07-02T15:03:25.261Z"
      },
      {
        "duration": 16,
        "start_time": "2024-07-02T15:03:25.279Z"
      },
      {
        "duration": 28,
        "start_time": "2024-07-02T15:03:25.296Z"
      },
      {
        "duration": 14,
        "start_time": "2024-07-02T15:03:25.326Z"
      },
      {
        "duration": 7,
        "start_time": "2024-07-02T15:03:25.341Z"
      },
      {
        "duration": 13,
        "start_time": "2024-07-02T15:03:25.350Z"
      },
      {
        "duration": 5,
        "start_time": "2024-07-02T15:03:25.366Z"
      },
      {
        "duration": 22,
        "start_time": "2024-07-02T15:03:25.372Z"
      },
      {
        "duration": 28,
        "start_time": "2024-07-02T15:03:25.395Z"
      },
      {
        "duration": 12,
        "start_time": "2024-07-02T15:03:25.425Z"
      },
      {
        "duration": 7,
        "start_time": "2024-07-02T15:03:25.440Z"
      },
      {
        "duration": 17,
        "start_time": "2024-07-02T15:03:25.449Z"
      },
      {
        "duration": 387,
        "start_time": "2024-07-02T15:03:25.468Z"
      },
      {
        "duration": 7,
        "start_time": "2024-07-02T15:03:25.857Z"
      },
      {
        "duration": 147,
        "start_time": "2024-07-02T15:03:25.867Z"
      },
      {
        "duration": 9,
        "start_time": "2024-07-02T15:03:26.015Z"
      },
      {
        "duration": 163,
        "start_time": "2024-07-02T15:03:26.025Z"
      },
      {
        "duration": 244,
        "start_time": "2024-07-02T15:03:26.190Z"
      },
      {
        "duration": 4,
        "start_time": "2024-07-02T15:03:26.435Z"
      },
      {
        "duration": 11,
        "start_time": "2024-07-02T15:03:26.440Z"
      },
      {
        "duration": 6,
        "start_time": "2024-07-02T15:04:52.196Z"
      },
      {
        "duration": 8,
        "start_time": "2024-07-02T15:06:23.675Z"
      },
      {
        "duration": 268,
        "start_time": "2024-07-02T15:08:46.374Z"
      },
      {
        "duration": 4,
        "start_time": "2024-07-02T15:09:48.184Z"
      },
      {
        "duration": 229,
        "start_time": "2024-07-02T15:10:07.745Z"
      },
      {
        "duration": 4,
        "start_time": "2024-07-02T15:12:06.991Z"
      },
      {
        "duration": 14,
        "start_time": "2024-07-02T15:12:38.754Z"
      },
      {
        "duration": 14,
        "start_time": "2024-07-02T15:12:46.309Z"
      },
      {
        "duration": 15,
        "start_time": "2024-07-02T15:12:54.081Z"
      },
      {
        "duration": 13,
        "start_time": "2024-07-02T15:12:57.474Z"
      },
      {
        "duration": 14,
        "start_time": "2024-07-02T15:13:17.560Z"
      },
      {
        "duration": 9,
        "start_time": "2024-07-02T15:13:25.008Z"
      },
      {
        "duration": 13,
        "start_time": "2024-07-02T15:13:29.371Z"
      },
      {
        "duration": 342,
        "start_time": "2024-07-02T15:19:54.869Z"
      },
      {
        "duration": 66,
        "start_time": "2024-07-02T15:19:55.213Z"
      },
      {
        "duration": 21,
        "start_time": "2024-07-02T15:19:55.280Z"
      },
      {
        "duration": 28,
        "start_time": "2024-07-02T15:19:55.303Z"
      },
      {
        "duration": 44,
        "start_time": "2024-07-02T15:19:55.332Z"
      },
      {
        "duration": 13,
        "start_time": "2024-07-02T15:19:55.377Z"
      },
      {
        "duration": 29,
        "start_time": "2024-07-02T15:19:55.392Z"
      },
      {
        "duration": 6,
        "start_time": "2024-07-02T15:19:55.422Z"
      },
      {
        "duration": 8,
        "start_time": "2024-07-02T15:19:55.429Z"
      },
      {
        "duration": 12,
        "start_time": "2024-07-02T15:19:55.440Z"
      },
      {
        "duration": 8,
        "start_time": "2024-07-02T15:19:55.454Z"
      },
      {
        "duration": 8,
        "start_time": "2024-07-02T15:19:55.464Z"
      },
      {
        "duration": 12,
        "start_time": "2024-07-02T15:19:55.473Z"
      },
      {
        "duration": 16,
        "start_time": "2024-07-02T15:19:55.486Z"
      },
      {
        "duration": 18,
        "start_time": "2024-07-02T15:19:55.503Z"
      },
      {
        "duration": 376,
        "start_time": "2024-07-02T15:19:55.523Z"
      },
      {
        "duration": 6,
        "start_time": "2024-07-02T15:19:55.900Z"
      },
      {
        "duration": 138,
        "start_time": "2024-07-02T15:19:55.907Z"
      },
      {
        "duration": 5,
        "start_time": "2024-07-02T15:19:56.047Z"
      },
      {
        "duration": 192,
        "start_time": "2024-07-02T15:19:56.054Z"
      },
      {
        "duration": 6,
        "start_time": "2024-07-02T15:19:56.247Z"
      },
      {
        "duration": 239,
        "start_time": "2024-07-02T15:19:56.255Z"
      },
      {
        "duration": 5,
        "start_time": "2024-07-02T15:19:56.496Z"
      },
      {
        "duration": 19,
        "start_time": "2024-07-02T15:19:56.502Z"
      },
      {
        "duration": 19,
        "start_time": "2024-07-02T15:19:56.523Z"
      },
      {
        "duration": 15,
        "start_time": "2024-07-02T15:19:56.544Z"
      },
      {
        "duration": 5,
        "start_time": "2024-07-02T15:19:56.561Z"
      },
      {
        "duration": 299,
        "start_time": "2024-07-02T15:19:56.569Z"
      },
      {
        "duration": 434,
        "start_time": "2024-07-03T09:58:57.940Z"
      },
      {
        "duration": 293,
        "start_time": "2024-07-03T09:58:58.376Z"
      },
      {
        "duration": 21,
        "start_time": "2024-07-03T09:58:58.671Z"
      },
      {
        "duration": 19,
        "start_time": "2024-07-03T09:58:58.694Z"
      },
      {
        "duration": 12,
        "start_time": "2024-07-03T09:58:58.715Z"
      },
      {
        "duration": 18,
        "start_time": "2024-07-03T09:58:58.728Z"
      },
      {
        "duration": 13,
        "start_time": "2024-07-03T09:58:58.748Z"
      },
      {
        "duration": 18,
        "start_time": "2024-07-03T09:58:58.763Z"
      },
      {
        "duration": 16,
        "start_time": "2024-07-03T09:58:58.782Z"
      },
      {
        "duration": 5,
        "start_time": "2024-07-03T09:58:58.800Z"
      },
      {
        "duration": 15,
        "start_time": "2024-07-03T09:58:58.807Z"
      },
      {
        "duration": 5,
        "start_time": "2024-07-03T09:58:58.823Z"
      },
      {
        "duration": 5,
        "start_time": "2024-07-03T09:58:58.829Z"
      },
      {
        "duration": 8,
        "start_time": "2024-07-03T09:58:58.835Z"
      },
      {
        "duration": 6,
        "start_time": "2024-07-03T09:58:58.844Z"
      },
      {
        "duration": 543,
        "start_time": "2024-07-03T09:58:58.852Z"
      },
      {
        "duration": 6,
        "start_time": "2024-07-03T09:58:59.397Z"
      },
      {
        "duration": 130,
        "start_time": "2024-07-03T09:58:59.404Z"
      },
      {
        "duration": 6,
        "start_time": "2024-07-03T09:58:59.536Z"
      },
      {
        "duration": 159,
        "start_time": "2024-07-03T09:58:59.544Z"
      },
      {
        "duration": 8,
        "start_time": "2024-07-03T09:58:59.704Z"
      },
      {
        "duration": 281,
        "start_time": "2024-07-03T09:58:59.720Z"
      },
      {
        "duration": 4,
        "start_time": "2024-07-03T09:59:00.002Z"
      },
      {
        "duration": 50,
        "start_time": "2024-07-03T09:59:00.007Z"
      },
      {
        "duration": 24,
        "start_time": "2024-07-03T09:59:00.058Z"
      },
      {
        "duration": 47,
        "start_time": "2024-07-03T09:59:00.083Z"
      },
      {
        "duration": 29,
        "start_time": "2024-07-03T09:59:00.132Z"
      },
      {
        "duration": 256,
        "start_time": "2024-07-03T09:59:00.163Z"
      },
      {
        "duration": 27,
        "start_time": "2024-07-03T10:10:21.959Z"
      },
      {
        "duration": 20,
        "start_time": "2024-07-03T10:11:47.524Z"
      },
      {
        "duration": 24,
        "start_time": "2024-07-03T10:11:58.127Z"
      },
      {
        "duration": 27,
        "start_time": "2024-07-03T10:12:03.286Z"
      },
      {
        "duration": 23,
        "start_time": "2024-07-03T10:16:10.078Z"
      },
      {
        "duration": 22,
        "start_time": "2024-07-03T10:16:50.918Z"
      },
      {
        "duration": 16,
        "start_time": "2024-07-03T10:16:55.876Z"
      },
      {
        "duration": 232,
        "start_time": "2024-07-03T10:37:21.228Z"
      },
      {
        "duration": 161,
        "start_time": "2024-07-03T10:37:31.423Z"
      },
      {
        "duration": 157,
        "start_time": "2024-07-03T10:38:04.330Z"
      },
      {
        "duration": 178,
        "start_time": "2024-07-03T10:38:44.367Z"
      },
      {
        "duration": 224,
        "start_time": "2024-07-03T10:39:24.291Z"
      },
      {
        "duration": 187,
        "start_time": "2024-07-03T10:39:32.167Z"
      },
      {
        "duration": 190,
        "start_time": "2024-07-03T10:41:25.847Z"
      },
      {
        "duration": 193,
        "start_time": "2024-07-03T11:11:16.853Z"
      },
      {
        "duration": 271,
        "start_time": "2024-07-03T11:11:27.500Z"
      },
      {
        "duration": 254,
        "start_time": "2024-07-03T11:11:55.839Z"
      },
      {
        "duration": 312,
        "start_time": "2024-07-03T11:16:02.704Z"
      },
      {
        "duration": 65,
        "start_time": "2024-07-03T12:08:44.288Z"
      },
      {
        "duration": 7,
        "start_time": "2024-07-03T12:09:18.848Z"
      },
      {
        "duration": 12,
        "start_time": "2024-07-03T12:09:35.265Z"
      },
      {
        "duration": 59,
        "start_time": "2024-07-03T12:09:43.464Z"
      },
      {
        "duration": 101,
        "start_time": "2024-07-03T12:11:01.304Z"
      },
      {
        "duration": 7,
        "start_time": "2024-07-03T12:11:09.527Z"
      },
      {
        "duration": 10,
        "start_time": "2024-07-03T12:11:18.388Z"
      },
      {
        "duration": 10,
        "start_time": "2024-07-03T12:11:25.652Z"
      },
      {
        "duration": 8,
        "start_time": "2024-07-03T12:12:04.978Z"
      },
      {
        "duration": 15,
        "start_time": "2024-07-03T12:12:14.134Z"
      },
      {
        "duration": 23,
        "start_time": "2024-07-03T12:16:21.648Z"
      },
      {
        "duration": 19,
        "start_time": "2024-07-03T12:17:46.652Z"
      },
      {
        "duration": 71,
        "start_time": "2024-07-03T12:18:58.733Z"
      },
      {
        "duration": 67,
        "start_time": "2024-07-03T12:19:33.205Z"
      },
      {
        "duration": 78,
        "start_time": "2024-07-03T12:19:43.873Z"
      },
      {
        "duration": 65,
        "start_time": "2024-07-03T12:19:52.322Z"
      },
      {
        "duration": 61,
        "start_time": "2024-07-03T12:20:07.664Z"
      },
      {
        "duration": 59,
        "start_time": "2024-07-03T12:20:12.702Z"
      },
      {
        "duration": 28,
        "start_time": "2024-07-03T12:23:11.386Z"
      },
      {
        "duration": 26,
        "start_time": "2024-07-03T12:24:22.402Z"
      },
      {
        "duration": 22,
        "start_time": "2024-07-03T12:25:11.858Z"
      },
      {
        "duration": 27,
        "start_time": "2024-07-03T12:27:50.933Z"
      },
      {
        "duration": 28,
        "start_time": "2024-07-03T12:29:01.615Z"
      },
      {
        "duration": 24,
        "start_time": "2024-07-03T12:29:42.365Z"
      },
      {
        "duration": 21,
        "start_time": "2024-07-03T12:30:00.328Z"
      },
      {
        "duration": 24,
        "start_time": "2024-07-03T12:30:22.593Z"
      },
      {
        "duration": 22,
        "start_time": "2024-07-03T12:38:17.631Z"
      },
      {
        "duration": 30,
        "start_time": "2024-07-03T12:40:47.897Z"
      },
      {
        "duration": 19,
        "start_time": "2024-07-03T12:43:16.821Z"
      },
      {
        "duration": 23,
        "start_time": "2024-07-03T12:45:43.913Z"
      },
      {
        "duration": 22,
        "start_time": "2024-07-03T12:47:11.949Z"
      },
      {
        "duration": 18,
        "start_time": "2024-07-03T12:48:51.794Z"
      },
      {
        "duration": 22,
        "start_time": "2024-07-03T12:52:08.631Z"
      },
      {
        "duration": 17,
        "start_time": "2024-07-03T12:52:12.695Z"
      },
      {
        "duration": 8,
        "start_time": "2024-07-03T12:55:29.145Z"
      },
      {
        "duration": 406,
        "start_time": "2024-07-03T12:55:47.691Z"
      },
      {
        "duration": 62,
        "start_time": "2024-07-03T12:55:48.099Z"
      },
      {
        "duration": 20,
        "start_time": "2024-07-03T12:55:48.163Z"
      },
      {
        "duration": 15,
        "start_time": "2024-07-03T12:55:48.185Z"
      },
      {
        "duration": 15,
        "start_time": "2024-07-03T12:55:48.201Z"
      },
      {
        "duration": 16,
        "start_time": "2024-07-03T12:55:48.217Z"
      },
      {
        "duration": 25,
        "start_time": "2024-07-03T12:55:48.234Z"
      },
      {
        "duration": 7,
        "start_time": "2024-07-03T12:55:48.261Z"
      },
      {
        "duration": 31,
        "start_time": "2024-07-03T12:55:48.269Z"
      },
      {
        "duration": 7,
        "start_time": "2024-07-03T12:55:48.303Z"
      },
      {
        "duration": 25,
        "start_time": "2024-07-03T12:55:48.311Z"
      },
      {
        "duration": 7,
        "start_time": "2024-07-03T12:55:48.338Z"
      },
      {
        "duration": 15,
        "start_time": "2024-07-03T12:55:48.347Z"
      },
      {
        "duration": 8,
        "start_time": "2024-07-03T12:55:48.363Z"
      },
      {
        "duration": 15,
        "start_time": "2024-07-03T12:55:48.372Z"
      },
      {
        "duration": 372,
        "start_time": "2024-07-03T12:55:48.389Z"
      },
      {
        "duration": 5,
        "start_time": "2024-07-03T12:55:48.763Z"
      },
      {
        "duration": 115,
        "start_time": "2024-07-03T12:55:48.769Z"
      },
      {
        "duration": 4,
        "start_time": "2024-07-03T12:55:48.886Z"
      },
      {
        "duration": 157,
        "start_time": "2024-07-03T12:55:48.892Z"
      },
      {
        "duration": 6,
        "start_time": "2024-07-03T12:55:49.050Z"
      },
      {
        "duration": 231,
        "start_time": "2024-07-03T12:55:49.058Z"
      },
      {
        "duration": 4,
        "start_time": "2024-07-03T12:55:49.291Z"
      },
      {
        "duration": 20,
        "start_time": "2024-07-03T12:55:49.296Z"
      },
      {
        "duration": 39,
        "start_time": "2024-07-03T12:55:49.318Z"
      },
      {
        "duration": 16,
        "start_time": "2024-07-03T12:55:49.358Z"
      },
      {
        "duration": 4,
        "start_time": "2024-07-03T12:55:49.375Z"
      },
      {
        "duration": 249,
        "start_time": "2024-07-03T12:55:49.382Z"
      },
      {
        "duration": 27,
        "start_time": "2024-07-03T12:55:49.633Z"
      },
      {
        "duration": 25,
        "start_time": "2024-07-03T12:55:49.662Z"
      },
      {
        "duration": 36,
        "start_time": "2024-07-03T12:55:49.689Z"
      },
      {
        "duration": 265,
        "start_time": "2024-07-03T12:55:49.726Z"
      },
      {
        "duration": 260,
        "start_time": "2024-07-03T12:55:49.993Z"
      },
      {
        "duration": 22,
        "start_time": "2024-07-03T12:55:50.255Z"
      },
      {
        "duration": 21,
        "start_time": "2024-07-03T12:55:50.278Z"
      },
      {
        "duration": 22,
        "start_time": "2024-07-03T12:55:50.300Z"
      },
      {
        "duration": 402,
        "start_time": "2024-07-03T12:59:43.419Z"
      },
      {
        "duration": 62,
        "start_time": "2024-07-03T12:59:43.823Z"
      },
      {
        "duration": 20,
        "start_time": "2024-07-03T12:59:43.886Z"
      },
      {
        "duration": 15,
        "start_time": "2024-07-03T12:59:43.908Z"
      },
      {
        "duration": 12,
        "start_time": "2024-07-03T12:59:43.924Z"
      },
      {
        "duration": 19,
        "start_time": "2024-07-03T12:59:43.938Z"
      },
      {
        "duration": 14,
        "start_time": "2024-07-03T12:59:43.958Z"
      },
      {
        "duration": 7,
        "start_time": "2024-07-03T12:59:43.973Z"
      },
      {
        "duration": 20,
        "start_time": "2024-07-03T12:59:43.982Z"
      },
      {
        "duration": 17,
        "start_time": "2024-07-03T12:59:44.006Z"
      },
      {
        "duration": 10,
        "start_time": "2024-07-03T12:59:44.025Z"
      },
      {
        "duration": 13,
        "start_time": "2024-07-03T12:59:44.036Z"
      },
      {
        "duration": 35,
        "start_time": "2024-07-03T12:59:44.050Z"
      },
      {
        "duration": 24,
        "start_time": "2024-07-03T12:59:44.086Z"
      },
      {
        "duration": 6,
        "start_time": "2024-07-03T12:59:44.111Z"
      },
      {
        "duration": 379,
        "start_time": "2024-07-03T12:59:44.118Z"
      },
      {
        "duration": 4,
        "start_time": "2024-07-03T12:59:44.499Z"
      },
      {
        "duration": 117,
        "start_time": "2024-07-03T12:59:44.504Z"
      },
      {
        "duration": 5,
        "start_time": "2024-07-03T12:59:44.622Z"
      },
      {
        "duration": 158,
        "start_time": "2024-07-03T12:59:44.628Z"
      },
      {
        "duration": 5,
        "start_time": "2024-07-03T12:59:44.788Z"
      },
      {
        "duration": 258,
        "start_time": "2024-07-03T12:59:44.795Z"
      },
      {
        "duration": 4,
        "start_time": "2024-07-03T12:59:45.054Z"
      },
      {
        "duration": 45,
        "start_time": "2024-07-03T12:59:45.059Z"
      },
      {
        "duration": 36,
        "start_time": "2024-07-03T12:59:45.106Z"
      },
      {
        "duration": 26,
        "start_time": "2024-07-03T12:59:45.143Z"
      },
      {
        "duration": 16,
        "start_time": "2024-07-03T12:59:45.171Z"
      },
      {
        "duration": 285,
        "start_time": "2024-07-03T12:59:45.190Z"
      },
      {
        "duration": 31,
        "start_time": "2024-07-03T12:59:45.477Z"
      },
      {
        "duration": 29,
        "start_time": "2024-07-03T12:59:45.510Z"
      },
      {
        "duration": 15,
        "start_time": "2024-07-03T12:59:45.541Z"
      },
      {
        "duration": 287,
        "start_time": "2024-07-03T12:59:45.558Z"
      },
      {
        "duration": 258,
        "start_time": "2024-07-03T12:59:45.846Z"
      },
      {
        "duration": 34,
        "start_time": "2024-07-03T12:59:46.105Z"
      },
      {
        "duration": 16,
        "start_time": "2024-07-03T12:59:46.141Z"
      },
      {
        "duration": 28,
        "start_time": "2024-07-03T13:08:26.684Z"
      },
      {
        "duration": 17,
        "start_time": "2024-07-03T13:08:30.264Z"
      },
      {
        "duration": 32,
        "start_time": "2024-07-03T13:09:34.492Z"
      },
      {
        "duration": 42,
        "start_time": "2024-07-03T13:11:25.470Z"
      },
      {
        "duration": 33,
        "start_time": "2024-07-03T13:11:45.854Z"
      },
      {
        "duration": 28,
        "start_time": "2024-07-03T13:12:05.231Z"
      },
      {
        "duration": 17,
        "start_time": "2024-07-03T13:12:07.981Z"
      },
      {
        "duration": 370,
        "start_time": "2024-07-03T13:17:14.551Z"
      },
      {
        "duration": 63,
        "start_time": "2024-07-03T13:17:14.923Z"
      },
      {
        "duration": 22,
        "start_time": "2024-07-03T13:17:14.987Z"
      },
      {
        "duration": 61,
        "start_time": "2024-07-03T13:17:15.010Z"
      },
      {
        "duration": 71,
        "start_time": "2024-07-03T13:17:15.073Z"
      },
      {
        "duration": 36,
        "start_time": "2024-07-03T13:17:15.145Z"
      },
      {
        "duration": 47,
        "start_time": "2024-07-03T13:17:15.182Z"
      },
      {
        "duration": 28,
        "start_time": "2024-07-03T13:17:15.231Z"
      },
      {
        "duration": 69,
        "start_time": "2024-07-03T13:17:15.260Z"
      },
      {
        "duration": 59,
        "start_time": "2024-07-03T13:17:15.330Z"
      },
      {
        "duration": 23,
        "start_time": "2024-07-03T13:17:15.390Z"
      },
      {
        "duration": 14,
        "start_time": "2024-07-03T13:17:15.415Z"
      },
      {
        "duration": 12,
        "start_time": "2024-07-03T13:17:15.430Z"
      },
      {
        "duration": 19,
        "start_time": "2024-07-03T13:17:15.444Z"
      },
      {
        "duration": 37,
        "start_time": "2024-07-03T13:17:15.465Z"
      },
      {
        "duration": 365,
        "start_time": "2024-07-03T13:17:15.504Z"
      },
      {
        "duration": 4,
        "start_time": "2024-07-03T13:17:15.870Z"
      },
      {
        "duration": 115,
        "start_time": "2024-07-03T13:17:15.875Z"
      },
      {
        "duration": 4,
        "start_time": "2024-07-03T13:17:15.991Z"
      },
      {
        "duration": 176,
        "start_time": "2024-07-03T13:17:15.997Z"
      },
      {
        "duration": 46,
        "start_time": "2024-07-03T13:17:16.175Z"
      },
      {
        "duration": 263,
        "start_time": "2024-07-03T13:17:16.223Z"
      },
      {
        "duration": 5,
        "start_time": "2024-07-03T13:17:16.487Z"
      },
      {
        "duration": 29,
        "start_time": "2024-07-03T13:17:16.494Z"
      },
      {
        "duration": 28,
        "start_time": "2024-07-03T13:17:16.525Z"
      },
      {
        "duration": 34,
        "start_time": "2024-07-03T13:17:16.555Z"
      },
      {
        "duration": 67,
        "start_time": "2024-07-03T13:17:16.590Z"
      },
      {
        "duration": 268,
        "start_time": "2024-07-03T13:17:16.659Z"
      },
      {
        "duration": 27,
        "start_time": "2024-07-03T13:17:16.928Z"
      },
      {
        "duration": 24,
        "start_time": "2024-07-03T13:17:16.957Z"
      },
      {
        "duration": 17,
        "start_time": "2024-07-03T13:17:16.983Z"
      },
      {
        "duration": 262,
        "start_time": "2024-07-03T13:17:17.021Z"
      },
      {
        "duration": 262,
        "start_time": "2024-07-03T13:17:17.285Z"
      },
      {
        "duration": 30,
        "start_time": "2024-07-03T13:17:17.549Z"
      },
      {
        "duration": 17,
        "start_time": "2024-07-03T13:17:17.580Z"
      },
      {
        "duration": 22,
        "start_time": "2024-07-03T13:17:17.598Z"
      },
      {
        "duration": 15,
        "start_time": "2024-07-03T13:17:30.514Z"
      },
      {
        "duration": 25,
        "start_time": "2024-07-03T13:30:06.906Z"
      },
      {
        "duration": 422,
        "start_time": "2024-07-03T13:34:02.209Z"
      },
      {
        "duration": 63,
        "start_time": "2024-07-03T13:34:02.633Z"
      },
      {
        "duration": 74,
        "start_time": "2024-07-03T13:34:02.698Z"
      },
      {
        "duration": 41,
        "start_time": "2024-07-03T13:34:02.774Z"
      },
      {
        "duration": 13,
        "start_time": "2024-07-03T13:34:02.817Z"
      },
      {
        "duration": 13,
        "start_time": "2024-07-03T13:34:02.831Z"
      },
      {
        "duration": 32,
        "start_time": "2024-07-03T13:34:02.846Z"
      },
      {
        "duration": 37,
        "start_time": "2024-07-03T13:34:02.879Z"
      },
      {
        "duration": 10,
        "start_time": "2024-07-03T13:34:02.917Z"
      },
      {
        "duration": 44,
        "start_time": "2024-07-03T13:34:02.930Z"
      },
      {
        "duration": 19,
        "start_time": "2024-07-03T13:34:02.975Z"
      },
      {
        "duration": 7,
        "start_time": "2024-07-03T13:34:02.995Z"
      },
      {
        "duration": 9,
        "start_time": "2024-07-03T13:34:03.003Z"
      },
      {
        "duration": 22,
        "start_time": "2024-07-03T13:34:03.014Z"
      },
      {
        "duration": 26,
        "start_time": "2024-07-03T13:34:03.037Z"
      },
      {
        "duration": 379,
        "start_time": "2024-07-03T13:34:03.064Z"
      },
      {
        "duration": 5,
        "start_time": "2024-07-03T13:34:03.445Z"
      },
      {
        "duration": 133,
        "start_time": "2024-07-03T13:34:03.451Z"
      },
      {
        "duration": 5,
        "start_time": "2024-07-03T13:34:03.585Z"
      },
      {
        "duration": 200,
        "start_time": "2024-07-03T13:34:03.591Z"
      },
      {
        "duration": 6,
        "start_time": "2024-07-03T13:34:03.793Z"
      },
      {
        "duration": 240,
        "start_time": "2024-07-03T13:34:03.800Z"
      },
      {
        "duration": 4,
        "start_time": "2024-07-03T13:34:04.041Z"
      },
      {
        "duration": 24,
        "start_time": "2024-07-03T13:34:04.047Z"
      },
      {
        "duration": 23,
        "start_time": "2024-07-03T13:34:04.073Z"
      },
      {
        "duration": 15,
        "start_time": "2024-07-03T13:34:04.098Z"
      },
      {
        "duration": 4,
        "start_time": "2024-07-03T13:34:04.114Z"
      },
      {
        "duration": 292,
        "start_time": "2024-07-03T13:34:04.121Z"
      },
      {
        "duration": 29,
        "start_time": "2024-07-03T13:34:04.415Z"
      },
      {
        "duration": 25,
        "start_time": "2024-07-03T13:34:04.446Z"
      },
      {
        "duration": 15,
        "start_time": "2024-07-03T13:34:04.473Z"
      },
      {
        "duration": 277,
        "start_time": "2024-07-03T13:34:04.490Z"
      },
      {
        "duration": 284,
        "start_time": "2024-07-03T13:34:04.768Z"
      },
      {
        "duration": 30,
        "start_time": "2024-07-03T13:34:05.053Z"
      },
      {
        "duration": 18,
        "start_time": "2024-07-03T13:34:05.084Z"
      },
      {
        "duration": 41,
        "start_time": "2024-07-03T13:34:05.103Z"
      },
      {
        "duration": 17,
        "start_time": "2024-07-03T13:34:05.145Z"
      },
      {
        "duration": 461,
        "start_time": "2024-07-03T15:25:49.072Z"
      },
      {
        "duration": 295,
        "start_time": "2024-07-03T15:25:49.536Z"
      },
      {
        "duration": 27,
        "start_time": "2024-07-03T15:25:49.833Z"
      },
      {
        "duration": 30,
        "start_time": "2024-07-03T15:25:49.864Z"
      },
      {
        "duration": 20,
        "start_time": "2024-07-03T15:25:49.902Z"
      },
      {
        "duration": 20,
        "start_time": "2024-07-03T15:25:49.923Z"
      },
      {
        "duration": 17,
        "start_time": "2024-07-03T15:25:49.945Z"
      },
      {
        "duration": 29,
        "start_time": "2024-07-03T15:25:49.964Z"
      },
      {
        "duration": 11,
        "start_time": "2024-07-03T15:25:49.997Z"
      },
      {
        "duration": 7,
        "start_time": "2024-07-03T15:25:50.016Z"
      },
      {
        "duration": 38,
        "start_time": "2024-07-03T15:25:50.025Z"
      },
      {
        "duration": 37,
        "start_time": "2024-07-03T15:25:50.065Z"
      },
      {
        "duration": 6,
        "start_time": "2024-07-03T15:25:50.108Z"
      },
      {
        "duration": 37,
        "start_time": "2024-07-03T15:25:50.116Z"
      },
      {
        "duration": 13,
        "start_time": "2024-07-03T15:25:50.155Z"
      },
      {
        "duration": 759,
        "start_time": "2024-07-03T15:25:50.169Z"
      },
      {
        "duration": 0,
        "start_time": "2024-07-03T15:25:50.932Z"
      },
      {
        "duration": 0,
        "start_time": "2024-07-03T15:25:50.933Z"
      },
      {
        "duration": 0,
        "start_time": "2024-07-03T15:25:50.935Z"
      },
      {
        "duration": 0,
        "start_time": "2024-07-03T15:25:50.936Z"
      },
      {
        "duration": 0,
        "start_time": "2024-07-03T15:25:50.937Z"
      },
      {
        "duration": 0,
        "start_time": "2024-07-03T15:25:50.939Z"
      },
      {
        "duration": 0,
        "start_time": "2024-07-03T15:25:50.940Z"
      },
      {
        "duration": 0,
        "start_time": "2024-07-03T15:25:50.942Z"
      },
      {
        "duration": 0,
        "start_time": "2024-07-03T15:25:50.944Z"
      },
      {
        "duration": 0,
        "start_time": "2024-07-03T15:25:50.945Z"
      },
      {
        "duration": 0,
        "start_time": "2024-07-03T15:25:50.946Z"
      },
      {
        "duration": 0,
        "start_time": "2024-07-03T15:25:50.948Z"
      },
      {
        "duration": 0,
        "start_time": "2024-07-03T15:25:50.949Z"
      },
      {
        "duration": 0,
        "start_time": "2024-07-03T15:25:50.951Z"
      },
      {
        "duration": 0,
        "start_time": "2024-07-03T15:25:50.952Z"
      },
      {
        "duration": 0,
        "start_time": "2024-07-03T15:25:50.953Z"
      },
      {
        "duration": 0,
        "start_time": "2024-07-03T15:25:50.955Z"
      },
      {
        "duration": 0,
        "start_time": "2024-07-03T15:25:50.956Z"
      },
      {
        "duration": 0,
        "start_time": "2024-07-03T15:25:50.957Z"
      },
      {
        "duration": 0,
        "start_time": "2024-07-03T15:25:50.959Z"
      },
      {
        "duration": 0,
        "start_time": "2024-07-03T15:25:50.960Z"
      },
      {
        "duration": 0,
        "start_time": "2024-07-03T15:25:50.993Z"
      },
      {
        "duration": 431,
        "start_time": "2024-07-03T15:27:27.134Z"
      },
      {
        "duration": 72,
        "start_time": "2024-07-03T15:27:27.567Z"
      },
      {
        "duration": 25,
        "start_time": "2024-07-03T15:27:27.641Z"
      },
      {
        "duration": 92,
        "start_time": "2024-07-03T15:27:27.668Z"
      },
      {
        "duration": 30,
        "start_time": "2024-07-03T15:27:27.761Z"
      },
      {
        "duration": 28,
        "start_time": "2024-07-03T15:27:27.793Z"
      },
      {
        "duration": 18,
        "start_time": "2024-07-03T15:27:27.822Z"
      },
      {
        "duration": 7,
        "start_time": "2024-07-03T15:27:27.842Z"
      },
      {
        "duration": 21,
        "start_time": "2024-07-03T15:27:27.851Z"
      },
      {
        "duration": 28,
        "start_time": "2024-07-03T15:27:27.876Z"
      },
      {
        "duration": 18,
        "start_time": "2024-07-03T15:27:27.906Z"
      },
      {
        "duration": 24,
        "start_time": "2024-07-03T15:27:27.925Z"
      },
      {
        "duration": 24,
        "start_time": "2024-07-03T15:27:27.950Z"
      },
      {
        "duration": 31,
        "start_time": "2024-07-03T15:27:27.976Z"
      },
      {
        "duration": 9,
        "start_time": "2024-07-03T15:27:28.010Z"
      },
      {
        "duration": 514,
        "start_time": "2024-07-03T15:27:28.020Z"
      },
      {
        "duration": 0,
        "start_time": "2024-07-03T15:27:28.536Z"
      },
      {
        "duration": 0,
        "start_time": "2024-07-03T15:27:28.537Z"
      },
      {
        "duration": 0,
        "start_time": "2024-07-03T15:27:28.538Z"
      },
      {
        "duration": 0,
        "start_time": "2024-07-03T15:27:28.539Z"
      },
      {
        "duration": 0,
        "start_time": "2024-07-03T15:27:28.541Z"
      },
      {
        "duration": 0,
        "start_time": "2024-07-03T15:27:28.542Z"
      },
      {
        "duration": 0,
        "start_time": "2024-07-03T15:27:28.544Z"
      },
      {
        "duration": 0,
        "start_time": "2024-07-03T15:27:28.545Z"
      },
      {
        "duration": 0,
        "start_time": "2024-07-03T15:27:28.546Z"
      },
      {
        "duration": 0,
        "start_time": "2024-07-03T15:27:28.551Z"
      },
      {
        "duration": 0,
        "start_time": "2024-07-03T15:27:28.552Z"
      },
      {
        "duration": 0,
        "start_time": "2024-07-03T15:27:28.554Z"
      },
      {
        "duration": 0,
        "start_time": "2024-07-03T15:27:28.555Z"
      },
      {
        "duration": 0,
        "start_time": "2024-07-03T15:27:28.557Z"
      },
      {
        "duration": 0,
        "start_time": "2024-07-03T15:27:28.558Z"
      },
      {
        "duration": 0,
        "start_time": "2024-07-03T15:27:28.592Z"
      },
      {
        "duration": 0,
        "start_time": "2024-07-03T15:27:28.593Z"
      },
      {
        "duration": 0,
        "start_time": "2024-07-03T15:27:28.594Z"
      },
      {
        "duration": 0,
        "start_time": "2024-07-03T15:27:28.596Z"
      },
      {
        "duration": 0,
        "start_time": "2024-07-03T15:27:28.597Z"
      },
      {
        "duration": 0,
        "start_time": "2024-07-03T15:27:28.599Z"
      },
      {
        "duration": 0,
        "start_time": "2024-07-03T15:27:28.599Z"
      },
      {
        "duration": 460,
        "start_time": "2024-07-03T15:31:11.989Z"
      },
      {
        "duration": 78,
        "start_time": "2024-07-03T15:31:12.452Z"
      },
      {
        "duration": 25,
        "start_time": "2024-07-03T15:31:12.531Z"
      },
      {
        "duration": 43,
        "start_time": "2024-07-03T15:31:12.558Z"
      },
      {
        "duration": 17,
        "start_time": "2024-07-03T15:31:12.604Z"
      },
      {
        "duration": 15,
        "start_time": "2024-07-03T15:31:12.623Z"
      },
      {
        "duration": 21,
        "start_time": "2024-07-03T15:31:12.640Z"
      },
      {
        "duration": 30,
        "start_time": "2024-07-03T15:31:12.663Z"
      },
      {
        "duration": 16,
        "start_time": "2024-07-03T15:31:12.695Z"
      },
      {
        "duration": 16,
        "start_time": "2024-07-03T15:31:12.713Z"
      },
      {
        "duration": 54,
        "start_time": "2024-07-03T15:31:12.730Z"
      },
      {
        "duration": 22,
        "start_time": "2024-07-03T15:31:12.787Z"
      },
      {
        "duration": 13,
        "start_time": "2024-07-03T15:31:12.811Z"
      },
      {
        "duration": 15,
        "start_time": "2024-07-03T15:31:12.828Z"
      },
      {
        "duration": 20,
        "start_time": "2024-07-03T15:31:12.844Z"
      },
      {
        "duration": 398,
        "start_time": "2024-07-03T15:31:12.866Z"
      },
      {
        "duration": 0,
        "start_time": "2024-07-03T15:31:13.266Z"
      },
      {
        "duration": 0,
        "start_time": "2024-07-03T15:31:13.267Z"
      },
      {
        "duration": 0,
        "start_time": "2024-07-03T15:31:13.269Z"
      },
      {
        "duration": 0,
        "start_time": "2024-07-03T15:31:13.270Z"
      },
      {
        "duration": 0,
        "start_time": "2024-07-03T15:31:13.271Z"
      },
      {
        "duration": 0,
        "start_time": "2024-07-03T15:31:13.273Z"
      },
      {
        "duration": 0,
        "start_time": "2024-07-03T15:31:13.274Z"
      },
      {
        "duration": 0,
        "start_time": "2024-07-03T15:31:13.275Z"
      },
      {
        "duration": 0,
        "start_time": "2024-07-03T15:31:13.276Z"
      },
      {
        "duration": 0,
        "start_time": "2024-07-03T15:31:13.277Z"
      },
      {
        "duration": 0,
        "start_time": "2024-07-03T15:31:13.278Z"
      },
      {
        "duration": 0,
        "start_time": "2024-07-03T15:31:13.280Z"
      },
      {
        "duration": 0,
        "start_time": "2024-07-03T15:31:13.298Z"
      },
      {
        "duration": 0,
        "start_time": "2024-07-03T15:31:13.300Z"
      },
      {
        "duration": 0,
        "start_time": "2024-07-03T15:31:13.303Z"
      },
      {
        "duration": 0,
        "start_time": "2024-07-03T15:31:13.304Z"
      },
      {
        "duration": 0,
        "start_time": "2024-07-03T15:31:13.306Z"
      },
      {
        "duration": 0,
        "start_time": "2024-07-03T15:31:13.309Z"
      },
      {
        "duration": 0,
        "start_time": "2024-07-03T15:31:13.311Z"
      },
      {
        "duration": 0,
        "start_time": "2024-07-03T15:31:13.313Z"
      },
      {
        "duration": 0,
        "start_time": "2024-07-03T15:31:13.315Z"
      },
      {
        "duration": 0,
        "start_time": "2024-07-03T15:31:13.316Z"
      },
      {
        "duration": 459,
        "start_time": "2024-07-03T15:31:31.846Z"
      },
      {
        "duration": 67,
        "start_time": "2024-07-03T15:31:32.307Z"
      },
      {
        "duration": 36,
        "start_time": "2024-07-03T15:31:32.376Z"
      },
      {
        "duration": 19,
        "start_time": "2024-07-03T15:31:32.414Z"
      },
      {
        "duration": 20,
        "start_time": "2024-07-03T15:31:32.434Z"
      },
      {
        "duration": 52,
        "start_time": "2024-07-03T15:31:32.456Z"
      },
      {
        "duration": 27,
        "start_time": "2024-07-03T15:31:32.510Z"
      },
      {
        "duration": 7,
        "start_time": "2024-07-03T15:31:32.538Z"
      },
      {
        "duration": 56,
        "start_time": "2024-07-03T15:31:32.546Z"
      },
      {
        "duration": 7,
        "start_time": "2024-07-03T15:31:32.607Z"
      },
      {
        "duration": 20,
        "start_time": "2024-07-03T15:31:32.615Z"
      },
      {
        "duration": 21,
        "start_time": "2024-07-03T15:31:32.637Z"
      },
      {
        "duration": 16,
        "start_time": "2024-07-03T15:31:32.660Z"
      },
      {
        "duration": 29,
        "start_time": "2024-07-03T15:31:32.678Z"
      },
      {
        "duration": 28,
        "start_time": "2024-07-03T15:31:32.709Z"
      },
      {
        "duration": 511,
        "start_time": "2024-07-03T15:31:32.739Z"
      },
      {
        "duration": 0,
        "start_time": "2024-07-03T15:31:33.252Z"
      },
      {
        "duration": 0,
        "start_time": "2024-07-03T15:31:33.253Z"
      },
      {
        "duration": 0,
        "start_time": "2024-07-03T15:31:33.254Z"
      },
      {
        "duration": 0,
        "start_time": "2024-07-03T15:31:33.255Z"
      },
      {
        "duration": 0,
        "start_time": "2024-07-03T15:31:33.256Z"
      },
      {
        "duration": 0,
        "start_time": "2024-07-03T15:31:33.258Z"
      },
      {
        "duration": 0,
        "start_time": "2024-07-03T15:31:33.259Z"
      },
      {
        "duration": 0,
        "start_time": "2024-07-03T15:31:33.260Z"
      },
      {
        "duration": 0,
        "start_time": "2024-07-03T15:31:33.261Z"
      },
      {
        "duration": 0,
        "start_time": "2024-07-03T15:31:33.262Z"
      },
      {
        "duration": 0,
        "start_time": "2024-07-03T15:31:33.264Z"
      },
      {
        "duration": 0,
        "start_time": "2024-07-03T15:31:33.264Z"
      },
      {
        "duration": 0,
        "start_time": "2024-07-03T15:31:33.266Z"
      },
      {
        "duration": 0,
        "start_time": "2024-07-03T15:31:33.267Z"
      },
      {
        "duration": 0,
        "start_time": "2024-07-03T15:31:33.268Z"
      },
      {
        "duration": 0,
        "start_time": "2024-07-03T15:31:33.269Z"
      },
      {
        "duration": 0,
        "start_time": "2024-07-03T15:31:33.292Z"
      },
      {
        "duration": 0,
        "start_time": "2024-07-03T15:31:33.293Z"
      },
      {
        "duration": 0,
        "start_time": "2024-07-03T15:31:33.295Z"
      },
      {
        "duration": 0,
        "start_time": "2024-07-03T15:31:33.299Z"
      },
      {
        "duration": 0,
        "start_time": "2024-07-03T15:31:33.300Z"
      },
      {
        "duration": 0,
        "start_time": "2024-07-03T15:31:33.302Z"
      },
      {
        "duration": 165,
        "start_time": "2024-07-03T15:40:21.268Z"
      },
      {
        "duration": 461,
        "start_time": "2024-07-03T15:46:15.416Z"
      },
      {
        "duration": 69,
        "start_time": "2024-07-03T15:46:15.880Z"
      },
      {
        "duration": 39,
        "start_time": "2024-07-03T15:46:15.952Z"
      },
      {
        "duration": 35,
        "start_time": "2024-07-03T15:46:15.994Z"
      },
      {
        "duration": 24,
        "start_time": "2024-07-03T15:46:16.032Z"
      },
      {
        "duration": 42,
        "start_time": "2024-07-03T15:46:16.059Z"
      },
      {
        "duration": 26,
        "start_time": "2024-07-03T15:46:16.104Z"
      },
      {
        "duration": 8,
        "start_time": "2024-07-03T15:46:16.134Z"
      },
      {
        "duration": 19,
        "start_time": "2024-07-03T15:46:16.144Z"
      },
      {
        "duration": 8,
        "start_time": "2024-07-03T15:46:16.193Z"
      },
      {
        "duration": 17,
        "start_time": "2024-07-03T15:46:16.203Z"
      },
      {
        "duration": 9,
        "start_time": "2024-07-03T15:46:16.222Z"
      },
      {
        "duration": 9,
        "start_time": "2024-07-03T15:46:16.234Z"
      },
      {
        "duration": 13,
        "start_time": "2024-07-03T15:46:16.245Z"
      },
      {
        "duration": 7,
        "start_time": "2024-07-03T15:46:16.292Z"
      },
      {
        "duration": 1024,
        "start_time": "2024-07-03T15:46:16.301Z"
      },
      {
        "duration": 168,
        "start_time": "2024-07-03T15:46:17.327Z"
      },
      {
        "duration": 7,
        "start_time": "2024-07-03T15:46:17.497Z"
      },
      {
        "duration": 161,
        "start_time": "2024-07-03T15:46:17.505Z"
      },
      {
        "duration": 7,
        "start_time": "2024-07-03T15:46:17.668Z"
      },
      {
        "duration": 197,
        "start_time": "2024-07-03T15:46:17.692Z"
      },
      {
        "duration": 10,
        "start_time": "2024-07-03T15:46:17.892Z"
      },
      {
        "duration": 368,
        "start_time": "2024-07-03T15:46:17.904Z"
      },
      {
        "duration": 6,
        "start_time": "2024-07-03T15:46:18.274Z"
      },
      {
        "duration": 12,
        "start_time": "2024-07-03T15:46:18.281Z"
      },
      {
        "duration": 11,
        "start_time": "2024-07-03T15:46:18.295Z"
      },
      {
        "duration": 16,
        "start_time": "2024-07-03T15:46:18.308Z"
      },
      {
        "duration": 15,
        "start_time": "2024-07-03T15:46:18.327Z"
      },
      {
        "duration": 293,
        "start_time": "2024-07-03T15:46:18.344Z"
      },
      {
        "duration": 33,
        "start_time": "2024-07-03T15:46:18.639Z"
      },
      {
        "duration": 42,
        "start_time": "2024-07-03T15:46:18.674Z"
      },
      {
        "duration": 25,
        "start_time": "2024-07-03T15:46:18.718Z"
      },
      {
        "duration": 410,
        "start_time": "2024-07-03T15:46:18.745Z"
      },
      {
        "duration": 345,
        "start_time": "2024-07-03T15:46:19.156Z"
      },
      {
        "duration": 50,
        "start_time": "2024-07-03T15:46:19.504Z"
      },
      {
        "duration": 52,
        "start_time": "2024-07-03T15:46:19.556Z"
      },
      {
        "duration": 25,
        "start_time": "2024-07-03T15:46:19.610Z"
      },
      {
        "duration": 31,
        "start_time": "2024-07-03T15:46:19.637Z"
      },
      {
        "duration": 109,
        "start_time": "2024-07-03T15:46:50.532Z"
      },
      {
        "duration": 509,
        "start_time": "2024-07-03T15:47:07.486Z"
      },
      {
        "duration": 74,
        "start_time": "2024-07-03T15:47:07.998Z"
      },
      {
        "duration": 26,
        "start_time": "2024-07-03T15:47:08.074Z"
      },
      {
        "duration": 20,
        "start_time": "2024-07-03T15:47:08.102Z"
      },
      {
        "duration": 17,
        "start_time": "2024-07-03T15:47:08.124Z"
      },
      {
        "duration": 25,
        "start_time": "2024-07-03T15:47:08.142Z"
      },
      {
        "duration": 40,
        "start_time": "2024-07-03T15:47:08.169Z"
      },
      {
        "duration": 8,
        "start_time": "2024-07-03T15:47:08.211Z"
      },
      {
        "duration": 19,
        "start_time": "2024-07-03T15:47:08.221Z"
      },
      {
        "duration": 6,
        "start_time": "2024-07-03T15:47:08.241Z"
      },
      {
        "duration": 11,
        "start_time": "2024-07-03T15:47:08.249Z"
      },
      {
        "duration": 35,
        "start_time": "2024-07-03T15:47:08.262Z"
      },
      {
        "duration": 16,
        "start_time": "2024-07-03T15:47:08.299Z"
      },
      {
        "duration": 7,
        "start_time": "2024-07-03T15:47:08.318Z"
      },
      {
        "duration": 8,
        "start_time": "2024-07-03T15:47:08.327Z"
      },
      {
        "duration": 1126,
        "start_time": "2024-07-03T15:47:08.337Z"
      },
      {
        "duration": 167,
        "start_time": "2024-07-03T15:47:09.465Z"
      },
      {
        "duration": 6,
        "start_time": "2024-07-03T15:47:09.633Z"
      },
      {
        "duration": 139,
        "start_time": "2024-07-03T15:47:09.641Z"
      },
      {
        "duration": 14,
        "start_time": "2024-07-03T15:47:09.782Z"
      },
      {
        "duration": 304,
        "start_time": "2024-07-03T15:47:09.799Z"
      },
      {
        "duration": 8,
        "start_time": "2024-07-03T15:47:10.105Z"
      },
      {
        "duration": 344,
        "start_time": "2024-07-03T15:47:10.114Z"
      },
      {
        "duration": 5,
        "start_time": "2024-07-03T15:47:10.460Z"
      },
      {
        "duration": 6,
        "start_time": "2024-07-03T15:47:10.467Z"
      },
      {
        "duration": 9,
        "start_time": "2024-07-03T15:47:10.492Z"
      },
      {
        "duration": 30,
        "start_time": "2024-07-03T15:47:10.504Z"
      },
      {
        "duration": 6,
        "start_time": "2024-07-03T15:47:10.537Z"
      },
      {
        "duration": 320,
        "start_time": "2024-07-03T15:47:10.545Z"
      },
      {
        "duration": 34,
        "start_time": "2024-07-03T15:47:10.867Z"
      },
      {
        "duration": 26,
        "start_time": "2024-07-03T15:47:10.902Z"
      },
      {
        "duration": 19,
        "start_time": "2024-07-03T15:47:10.930Z"
      },
      {
        "duration": 445,
        "start_time": "2024-07-03T15:47:10.951Z"
      },
      {
        "duration": 315,
        "start_time": "2024-07-03T15:47:11.398Z"
      },
      {
        "duration": 33,
        "start_time": "2024-07-03T15:47:11.715Z"
      },
      {
        "duration": 37,
        "start_time": "2024-07-03T15:47:11.749Z"
      },
      {
        "duration": 19,
        "start_time": "2024-07-03T15:47:11.787Z"
      },
      {
        "duration": 121,
        "start_time": "2024-07-03T15:47:11.808Z"
      },
      {
        "duration": 425,
        "start_time": "2024-07-03T15:48:26.326Z"
      },
      {
        "duration": 67,
        "start_time": "2024-07-03T15:48:26.753Z"
      },
      {
        "duration": 25,
        "start_time": "2024-07-03T15:48:26.822Z"
      },
      {
        "duration": 35,
        "start_time": "2024-07-03T15:48:26.851Z"
      },
      {
        "duration": 16,
        "start_time": "2024-07-03T15:48:26.892Z"
      },
      {
        "duration": 31,
        "start_time": "2024-07-03T15:48:26.911Z"
      },
      {
        "duration": 26,
        "start_time": "2024-07-03T15:48:26.944Z"
      },
      {
        "duration": 8,
        "start_time": "2024-07-03T15:48:26.972Z"
      },
      {
        "duration": 39,
        "start_time": "2024-07-03T15:48:26.981Z"
      },
      {
        "duration": 25,
        "start_time": "2024-07-03T15:48:27.023Z"
      },
      {
        "duration": 50,
        "start_time": "2024-07-03T15:48:27.049Z"
      },
      {
        "duration": 53,
        "start_time": "2024-07-03T15:48:27.101Z"
      },
      {
        "duration": 21,
        "start_time": "2024-07-03T15:48:27.156Z"
      },
      {
        "duration": 26,
        "start_time": "2024-07-03T15:48:27.179Z"
      },
      {
        "duration": 29,
        "start_time": "2024-07-03T15:48:27.207Z"
      },
      {
        "duration": 1048,
        "start_time": "2024-07-03T15:48:27.238Z"
      },
      {
        "duration": 3,
        "start_time": "2024-07-03T15:48:28.292Z"
      },
      {
        "duration": 12,
        "start_time": "2024-07-03T15:48:28.297Z"
      },
      {
        "duration": 140,
        "start_time": "2024-07-03T15:48:28.312Z"
      },
      {
        "duration": 6,
        "start_time": "2024-07-03T15:48:28.454Z"
      },
      {
        "duration": 203,
        "start_time": "2024-07-03T15:48:28.462Z"
      },
      {
        "duration": 7,
        "start_time": "2024-07-03T15:48:28.667Z"
      },
      {
        "duration": 333,
        "start_time": "2024-07-03T15:48:28.675Z"
      },
      {
        "duration": 6,
        "start_time": "2024-07-03T15:48:29.010Z"
      },
      {
        "duration": 27,
        "start_time": "2024-07-03T15:48:29.018Z"
      },
      {
        "duration": 16,
        "start_time": "2024-07-03T15:48:29.047Z"
      },
      {
        "duration": 30,
        "start_time": "2024-07-03T15:48:29.064Z"
      },
      {
        "duration": 5,
        "start_time": "2024-07-03T15:48:29.097Z"
      },
      {
        "duration": 307,
        "start_time": "2024-07-03T15:48:29.104Z"
      },
      {
        "duration": 34,
        "start_time": "2024-07-03T15:48:29.412Z"
      },
      {
        "duration": 72,
        "start_time": "2024-07-03T15:48:29.449Z"
      },
      {
        "duration": 20,
        "start_time": "2024-07-03T15:48:29.523Z"
      },
      {
        "duration": 452,
        "start_time": "2024-07-03T15:48:29.544Z"
      },
      {
        "duration": 327,
        "start_time": "2024-07-03T15:48:30.000Z"
      },
      {
        "duration": 34,
        "start_time": "2024-07-03T15:48:30.328Z"
      },
      {
        "duration": 150,
        "start_time": "2024-07-03T15:48:30.363Z"
      },
      {
        "duration": 46,
        "start_time": "2024-07-03T15:48:30.515Z"
      },
      {
        "duration": 242,
        "start_time": "2024-07-03T15:48:30.563Z"
      },
      {
        "duration": 191,
        "start_time": "2024-07-03T15:48:58.836Z"
      },
      {
        "duration": 173,
        "start_time": "2024-07-03T15:53:10.156Z"
      },
      {
        "duration": 421,
        "start_time": "2024-07-03T15:53:30.811Z"
      },
      {
        "duration": 70,
        "start_time": "2024-07-03T15:53:31.234Z"
      },
      {
        "duration": 49,
        "start_time": "2024-07-03T15:53:31.305Z"
      },
      {
        "duration": 37,
        "start_time": "2024-07-03T15:53:31.355Z"
      },
      {
        "duration": 24,
        "start_time": "2024-07-03T15:53:31.395Z"
      },
      {
        "duration": 149,
        "start_time": "2024-07-03T15:53:31.422Z"
      },
      {
        "duration": 54,
        "start_time": "2024-07-03T15:53:31.573Z"
      },
      {
        "duration": 22,
        "start_time": "2024-07-03T15:53:31.628Z"
      },
      {
        "duration": 38,
        "start_time": "2024-07-03T15:53:31.652Z"
      },
      {
        "duration": 14,
        "start_time": "2024-07-03T15:53:31.692Z"
      },
      {
        "duration": 10,
        "start_time": "2024-07-03T15:53:31.707Z"
      },
      {
        "duration": 68,
        "start_time": "2024-07-03T15:53:31.719Z"
      },
      {
        "duration": 10,
        "start_time": "2024-07-03T15:53:31.789Z"
      },
      {
        "duration": 7,
        "start_time": "2024-07-03T15:53:31.803Z"
      },
      {
        "duration": 82,
        "start_time": "2024-07-03T15:53:31.812Z"
      },
      {
        "duration": 982,
        "start_time": "2024-07-03T15:53:31.896Z"
      },
      {
        "duration": 6,
        "start_time": "2024-07-03T15:53:32.880Z"
      },
      {
        "duration": 166,
        "start_time": "2024-07-03T15:53:32.892Z"
      },
      {
        "duration": 6,
        "start_time": "2024-07-03T15:53:33.059Z"
      },
      {
        "duration": 188,
        "start_time": "2024-07-03T15:53:33.067Z"
      },
      {
        "duration": 7,
        "start_time": "2024-07-03T15:53:33.257Z"
      },
      {
        "duration": 296,
        "start_time": "2024-07-03T15:53:33.267Z"
      },
      {
        "duration": 5,
        "start_time": "2024-07-03T15:53:33.565Z"
      },
      {
        "duration": 21,
        "start_time": "2024-07-03T15:53:33.572Z"
      },
      {
        "duration": 7,
        "start_time": "2024-07-03T15:53:33.595Z"
      },
      {
        "duration": 17,
        "start_time": "2024-07-03T15:53:33.604Z"
      },
      {
        "duration": 5,
        "start_time": "2024-07-03T15:53:33.622Z"
      },
      {
        "duration": 298,
        "start_time": "2024-07-03T15:53:33.629Z"
      },
      {
        "duration": 32,
        "start_time": "2024-07-03T15:53:33.929Z"
      },
      {
        "duration": 47,
        "start_time": "2024-07-03T15:53:33.963Z"
      },
      {
        "duration": 22,
        "start_time": "2024-07-03T15:53:34.012Z"
      },
      {
        "duration": 426,
        "start_time": "2024-07-03T15:53:34.036Z"
      },
      {
        "duration": 311,
        "start_time": "2024-07-03T15:53:34.463Z"
      },
      {
        "duration": 39,
        "start_time": "2024-07-03T15:53:34.775Z"
      },
      {
        "duration": 20,
        "start_time": "2024-07-03T15:53:34.816Z"
      },
      {
        "duration": 17,
        "start_time": "2024-07-03T15:53:34.838Z"
      },
      {
        "duration": 47,
        "start_time": "2024-07-03T15:53:34.857Z"
      },
      {
        "duration": 347,
        "start_time": "2024-07-04T09:35:56.130Z"
      },
      {
        "duration": 281,
        "start_time": "2024-07-04T09:35:56.479Z"
      },
      {
        "duration": 24,
        "start_time": "2024-07-04T09:35:56.762Z"
      },
      {
        "duration": 16,
        "start_time": "2024-07-04T09:35:56.789Z"
      },
      {
        "duration": 11,
        "start_time": "2024-07-04T09:35:56.806Z"
      },
      {
        "duration": 11,
        "start_time": "2024-07-04T09:35:56.818Z"
      },
      {
        "duration": 14,
        "start_time": "2024-07-04T09:35:56.831Z"
      },
      {
        "duration": 6,
        "start_time": "2024-07-04T09:35:56.871Z"
      },
      {
        "duration": 12,
        "start_time": "2024-07-04T09:35:56.879Z"
      },
      {
        "duration": 4,
        "start_time": "2024-07-04T09:35:56.894Z"
      },
      {
        "duration": 8,
        "start_time": "2024-07-04T09:35:56.899Z"
      },
      {
        "duration": 4,
        "start_time": "2024-07-04T09:35:56.909Z"
      },
      {
        "duration": 4,
        "start_time": "2024-07-04T09:35:56.914Z"
      },
      {
        "duration": 13,
        "start_time": "2024-07-04T09:35:56.919Z"
      },
      {
        "duration": 5,
        "start_time": "2024-07-04T09:35:56.934Z"
      },
      {
        "duration": 1047,
        "start_time": "2024-07-04T09:35:56.941Z"
      },
      {
        "duration": 6,
        "start_time": "2024-07-04T09:35:57.993Z"
      },
      {
        "duration": 116,
        "start_time": "2024-07-04T09:35:58.001Z"
      },
      {
        "duration": 4,
        "start_time": "2024-07-04T09:35:58.118Z"
      },
      {
        "duration": 144,
        "start_time": "2024-07-04T09:35:58.124Z"
      },
      {
        "duration": 7,
        "start_time": "2024-07-04T09:35:58.270Z"
      },
      {
        "duration": 218,
        "start_time": "2024-07-04T09:35:58.279Z"
      },
      {
        "duration": 3,
        "start_time": "2024-07-04T09:35:58.498Z"
      },
      {
        "duration": 6,
        "start_time": "2024-07-04T09:35:58.503Z"
      },
      {
        "duration": 19,
        "start_time": "2024-07-04T09:35:58.510Z"
      },
      {
        "duration": 13,
        "start_time": "2024-07-04T09:35:58.530Z"
      },
      {
        "duration": 3,
        "start_time": "2024-07-04T09:35:58.545Z"
      },
      {
        "duration": 217,
        "start_time": "2024-07-04T09:35:58.551Z"
      },
      {
        "duration": 31,
        "start_time": "2024-07-04T09:35:58.774Z"
      },
      {
        "duration": 16,
        "start_time": "2024-07-04T09:35:58.806Z"
      },
      {
        "duration": 81,
        "start_time": "2024-07-04T09:35:58.823Z"
      },
      {
        "duration": 15,
        "start_time": "2024-07-04T09:35:58.905Z"
      },
      {
        "duration": 285,
        "start_time": "2024-07-04T09:35:58.921Z"
      },
      {
        "duration": 262,
        "start_time": "2024-07-04T09:35:59.208Z"
      },
      {
        "duration": 35,
        "start_time": "2024-07-04T09:35:59.472Z"
      },
      {
        "duration": 16,
        "start_time": "2024-07-04T09:35:59.508Z"
      },
      {
        "duration": 14,
        "start_time": "2024-07-04T09:35:59.525Z"
      },
      {
        "duration": 38,
        "start_time": "2024-07-04T09:35:59.540Z"
      },
      {
        "duration": 17,
        "start_time": "2024-07-04T09:36:17.992Z"
      },
      {
        "duration": 13,
        "start_time": "2024-07-04T09:37:57.303Z"
      },
      {
        "duration": 12,
        "start_time": "2024-07-04T09:38:04.454Z"
      },
      {
        "duration": 370,
        "start_time": "2024-07-04T09:38:09.270Z"
      },
      {
        "duration": 67,
        "start_time": "2024-07-04T09:38:09.641Z"
      },
      {
        "duration": 19,
        "start_time": "2024-07-04T09:38:09.709Z"
      },
      {
        "duration": 30,
        "start_time": "2024-07-04T09:38:09.729Z"
      },
      {
        "duration": 11,
        "start_time": "2024-07-04T09:38:09.761Z"
      },
      {
        "duration": 27,
        "start_time": "2024-07-04T09:38:09.774Z"
      },
      {
        "duration": 12,
        "start_time": "2024-07-04T09:38:09.802Z"
      },
      {
        "duration": 4,
        "start_time": "2024-07-04T09:38:09.815Z"
      },
      {
        "duration": 6,
        "start_time": "2024-07-04T09:38:09.820Z"
      },
      {
        "duration": 5,
        "start_time": "2024-07-04T09:38:09.828Z"
      },
      {
        "duration": 13,
        "start_time": "2024-07-04T09:38:09.834Z"
      },
      {
        "duration": 7,
        "start_time": "2024-07-04T09:38:09.849Z"
      },
      {
        "duration": 15,
        "start_time": "2024-07-04T09:38:09.857Z"
      },
      {
        "duration": 6,
        "start_time": "2024-07-04T09:38:09.874Z"
      },
      {
        "duration": 8,
        "start_time": "2024-07-04T09:38:09.882Z"
      },
      {
        "duration": 796,
        "start_time": "2024-07-04T09:38:09.891Z"
      },
      {
        "duration": 5,
        "start_time": "2024-07-04T09:38:10.689Z"
      },
      {
        "duration": 122,
        "start_time": "2024-07-04T09:38:10.696Z"
      },
      {
        "duration": 5,
        "start_time": "2024-07-04T09:38:10.819Z"
      },
      {
        "duration": 138,
        "start_time": "2024-07-04T09:38:10.825Z"
      },
      {
        "duration": 7,
        "start_time": "2024-07-04T09:38:10.970Z"
      },
      {
        "duration": 260,
        "start_time": "2024-07-04T09:38:10.979Z"
      },
      {
        "duration": 4,
        "start_time": "2024-07-04T09:38:11.240Z"
      },
      {
        "duration": 4,
        "start_time": "2024-07-04T09:38:11.245Z"
      },
      {
        "duration": 7,
        "start_time": "2024-07-04T09:38:11.250Z"
      },
      {
        "duration": 30,
        "start_time": "2024-07-04T09:38:11.258Z"
      },
      {
        "duration": 4,
        "start_time": "2024-07-04T09:38:11.289Z"
      },
      {
        "duration": 237,
        "start_time": "2024-07-04T09:38:11.296Z"
      },
      {
        "duration": 25,
        "start_time": "2024-07-04T09:38:11.534Z"
      },
      {
        "duration": 21,
        "start_time": "2024-07-04T09:38:11.570Z"
      },
      {
        "duration": 21,
        "start_time": "2024-07-04T09:38:11.593Z"
      },
      {
        "duration": 13,
        "start_time": "2024-07-04T09:38:11.616Z"
      },
      {
        "duration": 330,
        "start_time": "2024-07-04T09:38:11.630Z"
      },
      {
        "duration": 252,
        "start_time": "2024-07-04T09:38:11.961Z"
      },
      {
        "duration": 25,
        "start_time": "2024-07-04T09:38:12.215Z"
      },
      {
        "duration": 15,
        "start_time": "2024-07-04T09:38:12.242Z"
      },
      {
        "duration": 27,
        "start_time": "2024-07-04T09:38:12.258Z"
      },
      {
        "duration": 17,
        "start_time": "2024-07-04T09:38:12.286Z"
      },
      {
        "duration": 101,
        "start_time": "2024-07-04T10:03:37.722Z"
      },
      {
        "duration": 10,
        "start_time": "2024-07-04T10:03:44.760Z"
      },
      {
        "duration": 132,
        "start_time": "2024-07-04T10:04:06.012Z"
      },
      {
        "duration": 119,
        "start_time": "2024-07-04T10:05:28.234Z"
      },
      {
        "duration": 380,
        "start_time": "2024-07-04T10:24:04.279Z"
      },
      {
        "duration": 71,
        "start_time": "2024-07-04T10:24:04.661Z"
      },
      {
        "duration": 28,
        "start_time": "2024-07-04T10:24:04.734Z"
      },
      {
        "duration": 15,
        "start_time": "2024-07-04T10:24:04.764Z"
      },
      {
        "duration": 12,
        "start_time": "2024-07-04T10:24:04.780Z"
      },
      {
        "duration": 91,
        "start_time": "2024-07-04T10:24:04.793Z"
      },
      {
        "duration": 13,
        "start_time": "2024-07-04T10:24:04.885Z"
      },
      {
        "duration": 7,
        "start_time": "2024-07-04T10:24:04.900Z"
      },
      {
        "duration": 7,
        "start_time": "2024-07-04T10:24:04.909Z"
      },
      {
        "duration": 6,
        "start_time": "2024-07-04T10:24:04.918Z"
      },
      {
        "duration": 7,
        "start_time": "2024-07-04T10:24:04.925Z"
      },
      {
        "duration": 5,
        "start_time": "2024-07-04T10:24:04.933Z"
      },
      {
        "duration": 33,
        "start_time": "2024-07-04T10:24:04.939Z"
      },
      {
        "duration": 6,
        "start_time": "2024-07-04T10:24:04.973Z"
      },
      {
        "duration": 5,
        "start_time": "2024-07-04T10:24:04.980Z"
      },
      {
        "duration": 791,
        "start_time": "2024-07-04T10:24:04.986Z"
      },
      {
        "duration": 5,
        "start_time": "2024-07-04T10:24:05.778Z"
      },
      {
        "duration": 117,
        "start_time": "2024-07-04T10:24:05.784Z"
      },
      {
        "duration": 4,
        "start_time": "2024-07-04T10:24:05.902Z"
      },
      {
        "duration": 154,
        "start_time": "2024-07-04T10:24:05.907Z"
      },
      {
        "duration": 10,
        "start_time": "2024-07-04T10:24:06.062Z"
      },
      {
        "duration": 235,
        "start_time": "2024-07-04T10:24:06.073Z"
      },
      {
        "duration": 3,
        "start_time": "2024-07-04T10:24:06.310Z"
      },
      {
        "duration": 13,
        "start_time": "2024-07-04T10:24:06.315Z"
      },
      {
        "duration": 6,
        "start_time": "2024-07-04T10:24:06.329Z"
      },
      {
        "duration": 22,
        "start_time": "2024-07-04T10:24:06.336Z"
      },
      {
        "duration": 4,
        "start_time": "2024-07-04T10:24:06.359Z"
      },
      {
        "duration": 211,
        "start_time": "2024-07-04T10:24:06.365Z"
      },
      {
        "duration": 25,
        "start_time": "2024-07-04T10:24:06.578Z"
      },
      {
        "duration": 15,
        "start_time": "2024-07-04T10:24:06.604Z"
      },
      {
        "duration": 21,
        "start_time": "2024-07-04T10:24:06.621Z"
      },
      {
        "duration": 34,
        "start_time": "2024-07-04T10:24:06.643Z"
      },
      {
        "duration": 288,
        "start_time": "2024-07-04T10:24:06.679Z"
      },
      {
        "duration": 266,
        "start_time": "2024-07-04T10:24:06.971Z"
      },
      {
        "duration": 34,
        "start_time": "2024-07-04T10:24:07.239Z"
      },
      {
        "duration": 15,
        "start_time": "2024-07-04T10:24:07.274Z"
      },
      {
        "duration": 13,
        "start_time": "2024-07-04T10:24:07.290Z"
      },
      {
        "duration": 16,
        "start_time": "2024-07-04T10:24:07.304Z"
      },
      {
        "duration": 69,
        "start_time": "2024-07-04T10:24:07.321Z"
      },
      {
        "duration": 8,
        "start_time": "2024-07-04T10:25:23.985Z"
      },
      {
        "duration": 6,
        "start_time": "2024-07-04T10:27:01.951Z"
      },
      {
        "duration": 6,
        "start_time": "2024-07-04T10:27:07.768Z"
      },
      {
        "duration": 6,
        "start_time": "2024-07-04T11:22:55.579Z"
      },
      {
        "duration": 256,
        "start_time": "2024-07-04T11:37:23.573Z"
      },
      {
        "duration": 6,
        "start_time": "2024-07-04T11:45:12.612Z"
      },
      {
        "duration": 2,
        "start_time": "2024-07-04T12:00:26.445Z"
      },
      {
        "duration": 72,
        "start_time": "2024-07-04T12:00:26.470Z"
      },
      {
        "duration": 18,
        "start_time": "2024-07-04T12:00:26.544Z"
      },
      {
        "duration": 18,
        "start_time": "2024-07-04T12:00:26.564Z"
      },
      {
        "duration": 18,
        "start_time": "2024-07-04T12:00:26.584Z"
      },
      {
        "duration": 11,
        "start_time": "2024-07-04T12:00:26.603Z"
      },
      {
        "duration": 37,
        "start_time": "2024-07-04T12:00:26.616Z"
      },
      {
        "duration": 5,
        "start_time": "2024-07-04T12:00:26.654Z"
      },
      {
        "duration": 11,
        "start_time": "2024-07-04T12:00:26.661Z"
      },
      {
        "duration": 8,
        "start_time": "2024-07-04T12:00:26.674Z"
      },
      {
        "duration": 8,
        "start_time": "2024-07-04T12:00:26.684Z"
      },
      {
        "duration": 6,
        "start_time": "2024-07-04T12:00:26.693Z"
      },
      {
        "duration": 21,
        "start_time": "2024-07-04T12:00:26.701Z"
      },
      {
        "duration": 12,
        "start_time": "2024-07-04T12:00:26.724Z"
      },
      {
        "duration": 16,
        "start_time": "2024-07-04T12:00:26.737Z"
      },
      {
        "duration": 152,
        "start_time": "2024-07-04T12:00:26.754Z"
      },
      {
        "duration": 4,
        "start_time": "2024-07-04T12:00:26.907Z"
      },
      {
        "duration": 105,
        "start_time": "2024-07-04T12:00:26.913Z"
      },
      {
        "duration": 5,
        "start_time": "2024-07-04T12:00:27.019Z"
      },
      {
        "duration": 203,
        "start_time": "2024-07-04T12:00:27.025Z"
      },
      {
        "duration": 6,
        "start_time": "2024-07-04T12:00:27.230Z"
      },
      {
        "duration": 275,
        "start_time": "2024-07-04T12:00:27.237Z"
      },
      {
        "duration": 4,
        "start_time": "2024-07-04T12:00:27.513Z"
      },
      {
        "duration": 7,
        "start_time": "2024-07-04T12:00:27.518Z"
      },
      {
        "duration": 13,
        "start_time": "2024-07-04T12:00:27.526Z"
      },
      {
        "duration": 12,
        "start_time": "2024-07-04T12:00:27.541Z"
      },
      {
        "duration": 17,
        "start_time": "2024-07-04T12:00:27.554Z"
      },
      {
        "duration": 207,
        "start_time": "2024-07-04T12:00:27.573Z"
      },
      {
        "duration": 26,
        "start_time": "2024-07-04T12:00:27.782Z"
      },
      {
        "duration": 17,
        "start_time": "2024-07-04T12:00:27.810Z"
      },
      {
        "duration": 21,
        "start_time": "2024-07-04T12:00:27.829Z"
      },
      {
        "duration": 21,
        "start_time": "2024-07-04T12:00:27.872Z"
      },
      {
        "duration": 286,
        "start_time": "2024-07-04T12:00:27.895Z"
      },
      {
        "duration": 263,
        "start_time": "2024-07-04T12:00:28.183Z"
      },
      {
        "duration": 30,
        "start_time": "2024-07-04T12:00:28.448Z"
      },
      {
        "duration": 18,
        "start_time": "2024-07-04T12:00:28.480Z"
      },
      {
        "duration": 14,
        "start_time": "2024-07-04T12:00:28.499Z"
      },
      {
        "duration": 16,
        "start_time": "2024-07-04T12:00:28.514Z"
      },
      {
        "duration": 274,
        "start_time": "2024-07-04T12:00:28.532Z"
      },
      {
        "duration": 7,
        "start_time": "2024-07-04T12:00:28.807Z"
      },
      {
        "duration": 8,
        "start_time": "2024-07-04T12:00:28.815Z"
      },
      {
        "duration": 6,
        "start_time": "2024-07-04T12:00:28.824Z"
      },
      {
        "duration": 404,
        "start_time": "2024-07-04T12:01:19.239Z"
      },
      {
        "duration": 63,
        "start_time": "2024-07-04T12:01:19.644Z"
      },
      {
        "duration": 23,
        "start_time": "2024-07-04T12:01:19.709Z"
      },
      {
        "duration": 15,
        "start_time": "2024-07-04T12:01:19.734Z"
      },
      {
        "duration": 12,
        "start_time": "2024-07-04T12:01:19.750Z"
      },
      {
        "duration": 11,
        "start_time": "2024-07-04T12:01:19.775Z"
      },
      {
        "duration": 13,
        "start_time": "2024-07-04T12:01:19.788Z"
      },
      {
        "duration": 5,
        "start_time": "2024-07-04T12:01:19.802Z"
      },
      {
        "duration": 16,
        "start_time": "2024-07-04T12:01:19.808Z"
      },
      {
        "duration": 4,
        "start_time": "2024-07-04T12:01:19.826Z"
      },
      {
        "duration": 7,
        "start_time": "2024-07-04T12:01:19.832Z"
      },
      {
        "duration": 5,
        "start_time": "2024-07-04T12:01:19.841Z"
      },
      {
        "duration": 5,
        "start_time": "2024-07-04T12:01:19.870Z"
      },
      {
        "duration": 5,
        "start_time": "2024-07-04T12:01:19.876Z"
      },
      {
        "duration": 15,
        "start_time": "2024-07-04T12:01:19.883Z"
      },
      {
        "duration": 779,
        "start_time": "2024-07-04T12:01:19.899Z"
      },
      {
        "duration": 6,
        "start_time": "2024-07-04T12:01:20.681Z"
      },
      {
        "duration": 122,
        "start_time": "2024-07-04T12:01:20.688Z"
      },
      {
        "duration": 5,
        "start_time": "2024-07-04T12:01:20.811Z"
      },
      {
        "duration": 143,
        "start_time": "2024-07-04T12:01:20.817Z"
      },
      {
        "duration": 14,
        "start_time": "2024-07-04T12:01:20.962Z"
      },
      {
        "duration": 265,
        "start_time": "2024-07-04T12:01:20.977Z"
      },
      {
        "duration": 4,
        "start_time": "2024-07-04T12:01:21.243Z"
      },
      {
        "duration": 8,
        "start_time": "2024-07-04T12:01:21.248Z"
      },
      {
        "duration": 15,
        "start_time": "2024-07-04T12:01:21.257Z"
      },
      {
        "duration": 21,
        "start_time": "2024-07-04T12:01:21.273Z"
      },
      {
        "duration": 4,
        "start_time": "2024-07-04T12:01:21.296Z"
      },
      {
        "duration": 228,
        "start_time": "2024-07-04T12:01:21.304Z"
      },
      {
        "duration": 26,
        "start_time": "2024-07-04T12:01:21.534Z"
      },
      {
        "duration": 24,
        "start_time": "2024-07-04T12:01:21.570Z"
      },
      {
        "duration": 21,
        "start_time": "2024-07-04T12:01:21.595Z"
      },
      {
        "duration": 15,
        "start_time": "2024-07-04T12:01:21.617Z"
      },
      {
        "duration": 329,
        "start_time": "2024-07-04T12:01:21.634Z"
      },
      {
        "duration": 252,
        "start_time": "2024-07-04T12:01:21.964Z"
      },
      {
        "duration": 26,
        "start_time": "2024-07-04T12:01:22.217Z"
      },
      {
        "duration": 32,
        "start_time": "2024-07-04T12:01:22.245Z"
      },
      {
        "duration": 15,
        "start_time": "2024-07-04T12:01:22.279Z"
      },
      {
        "duration": 16,
        "start_time": "2024-07-04T12:01:22.295Z"
      },
      {
        "duration": 266,
        "start_time": "2024-07-04T12:01:22.312Z"
      },
      {
        "duration": 8,
        "start_time": "2024-07-04T12:01:22.579Z"
      },
      {
        "duration": 7,
        "start_time": "2024-07-04T12:01:22.588Z"
      },
      {
        "duration": 5,
        "start_time": "2024-07-04T12:01:22.596Z"
      },
      {
        "duration": 6,
        "start_time": "2024-07-04T13:16:39.214Z"
      },
      {
        "duration": 6,
        "start_time": "2024-07-04T13:16:44.541Z"
      },
      {
        "duration": 344,
        "start_time": "2024-07-04T13:47:49.208Z"
      },
      {
        "duration": 62,
        "start_time": "2024-07-04T13:47:49.554Z"
      },
      {
        "duration": 20,
        "start_time": "2024-07-04T13:47:49.617Z"
      },
      {
        "duration": 15,
        "start_time": "2024-07-04T13:47:49.639Z"
      },
      {
        "duration": 12,
        "start_time": "2024-07-04T13:47:49.656Z"
      },
      {
        "duration": 16,
        "start_time": "2024-07-04T13:47:49.669Z"
      },
      {
        "duration": 12,
        "start_time": "2024-07-04T13:47:49.686Z"
      },
      {
        "duration": 4,
        "start_time": "2024-07-04T13:47:49.700Z"
      },
      {
        "duration": 7,
        "start_time": "2024-07-04T13:47:49.705Z"
      },
      {
        "duration": 5,
        "start_time": "2024-07-04T13:47:49.713Z"
      },
      {
        "duration": 7,
        "start_time": "2024-07-04T13:47:49.719Z"
      },
      {
        "duration": 62,
        "start_time": "2024-07-04T13:47:49.727Z"
      },
      {
        "duration": 5,
        "start_time": "2024-07-04T13:47:49.791Z"
      },
      {
        "duration": 4,
        "start_time": "2024-07-04T13:47:49.799Z"
      },
      {
        "duration": 5,
        "start_time": "2024-07-04T13:47:49.804Z"
      },
      {
        "duration": 811,
        "start_time": "2024-07-04T13:47:49.810Z"
      },
      {
        "duration": 5,
        "start_time": "2024-07-04T13:47:50.623Z"
      },
      {
        "duration": 113,
        "start_time": "2024-07-04T13:47:50.629Z"
      },
      {
        "duration": 5,
        "start_time": "2024-07-04T13:47:50.744Z"
      },
      {
        "duration": 144,
        "start_time": "2024-07-04T13:47:50.750Z"
      },
      {
        "duration": 7,
        "start_time": "2024-07-04T13:47:50.895Z"
      },
      {
        "duration": 217,
        "start_time": "2024-07-04T13:47:50.903Z"
      },
      {
        "duration": 4,
        "start_time": "2024-07-04T13:47:51.122Z"
      },
      {
        "duration": 4,
        "start_time": "2024-07-04T13:47:51.127Z"
      },
      {
        "duration": 8,
        "start_time": "2024-07-04T13:47:51.132Z"
      },
      {
        "duration": 38,
        "start_time": "2024-07-04T13:47:51.141Z"
      },
      {
        "duration": 4,
        "start_time": "2024-07-04T13:47:51.180Z"
      },
      {
        "duration": 210,
        "start_time": "2024-07-04T13:47:51.185Z"
      },
      {
        "duration": 25,
        "start_time": "2024-07-04T13:47:51.396Z"
      },
      {
        "duration": 15,
        "start_time": "2024-07-04T13:47:51.422Z"
      },
      {
        "duration": 38,
        "start_time": "2024-07-04T13:47:51.438Z"
      },
      {
        "duration": 15,
        "start_time": "2024-07-04T13:47:51.477Z"
      },
      {
        "duration": 328,
        "start_time": "2024-07-04T13:47:51.493Z"
      },
      {
        "duration": 243,
        "start_time": "2024-07-04T13:47:51.822Z"
      },
      {
        "duration": 29,
        "start_time": "2024-07-04T13:47:52.066Z"
      },
      {
        "duration": 21,
        "start_time": "2024-07-04T13:47:52.096Z"
      },
      {
        "duration": 19,
        "start_time": "2024-07-04T13:47:52.118Z"
      },
      {
        "duration": 37,
        "start_time": "2024-07-04T13:47:52.139Z"
      },
      {
        "duration": 260,
        "start_time": "2024-07-04T13:47:52.178Z"
      },
      {
        "duration": 7,
        "start_time": "2024-07-04T13:47:52.439Z"
      },
      {
        "duration": 5,
        "start_time": "2024-07-04T13:47:52.449Z"
      },
      {
        "duration": 5,
        "start_time": "2024-07-04T13:47:52.471Z"
      },
      {
        "duration": 363,
        "start_time": "2024-07-04T15:18:25.245Z"
      },
      {
        "duration": 311,
        "start_time": "2024-07-04T15:18:25.610Z"
      },
      {
        "duration": 25,
        "start_time": "2024-07-04T15:18:25.923Z"
      },
      {
        "duration": 18,
        "start_time": "2024-07-04T15:18:25.951Z"
      },
      {
        "duration": 16,
        "start_time": "2024-07-04T15:18:25.970Z"
      },
      {
        "duration": 25,
        "start_time": "2024-07-04T15:18:25.988Z"
      },
      {
        "duration": 14,
        "start_time": "2024-07-04T15:18:26.015Z"
      },
      {
        "duration": 4,
        "start_time": "2024-07-04T15:18:26.031Z"
      },
      {
        "duration": 14,
        "start_time": "2024-07-04T15:18:26.037Z"
      },
      {
        "duration": 6,
        "start_time": "2024-07-04T15:18:26.054Z"
      },
      {
        "duration": 38,
        "start_time": "2024-07-04T15:18:26.062Z"
      },
      {
        "duration": 6,
        "start_time": "2024-07-04T15:18:26.102Z"
      },
      {
        "duration": 11,
        "start_time": "2024-07-04T15:18:26.110Z"
      },
      {
        "duration": 9,
        "start_time": "2024-07-04T15:18:26.122Z"
      },
      {
        "duration": 10,
        "start_time": "2024-07-04T15:18:26.132Z"
      },
      {
        "duration": 1050,
        "start_time": "2024-07-04T15:18:26.144Z"
      },
      {
        "duration": 7,
        "start_time": "2024-07-04T15:18:27.196Z"
      },
      {
        "duration": 118,
        "start_time": "2024-07-04T15:18:27.205Z"
      },
      {
        "duration": 5,
        "start_time": "2024-07-04T15:18:27.324Z"
      },
      {
        "duration": 170,
        "start_time": "2024-07-04T15:18:27.330Z"
      },
      {
        "duration": 6,
        "start_time": "2024-07-04T15:18:27.501Z"
      },
      {
        "duration": 251,
        "start_time": "2024-07-04T15:18:27.508Z"
      },
      {
        "duration": 4,
        "start_time": "2024-07-04T15:18:27.760Z"
      },
      {
        "duration": 4,
        "start_time": "2024-07-04T15:18:27.766Z"
      },
      {
        "duration": 12,
        "start_time": "2024-07-04T15:18:27.771Z"
      },
      {
        "duration": 28,
        "start_time": "2024-07-04T15:18:27.784Z"
      },
      {
        "duration": 4,
        "start_time": "2024-07-04T15:18:27.813Z"
      },
      {
        "duration": 256,
        "start_time": "2024-07-04T15:18:27.820Z"
      },
      {
        "duration": 32,
        "start_time": "2024-07-04T15:18:28.078Z"
      },
      {
        "duration": 22,
        "start_time": "2024-07-04T15:18:28.112Z"
      },
      {
        "duration": 103,
        "start_time": "2024-07-04T15:18:28.136Z"
      },
      {
        "duration": 15,
        "start_time": "2024-07-04T15:18:28.241Z"
      },
      {
        "duration": 311,
        "start_time": "2024-07-04T15:18:28.257Z"
      },
      {
        "duration": 280,
        "start_time": "2024-07-04T15:18:28.569Z"
      },
      {
        "duration": 29,
        "start_time": "2024-07-04T15:18:28.850Z"
      },
      {
        "duration": 26,
        "start_time": "2024-07-04T15:18:28.880Z"
      },
      {
        "duration": 14,
        "start_time": "2024-07-04T15:18:28.908Z"
      },
      {
        "duration": 19,
        "start_time": "2024-07-04T15:18:28.923Z"
      },
      {
        "duration": 313,
        "start_time": "2024-07-04T15:18:28.943Z"
      },
      {
        "duration": 6,
        "start_time": "2024-07-04T15:18:29.258Z"
      },
      {
        "duration": 5,
        "start_time": "2024-07-04T15:18:29.266Z"
      },
      {
        "duration": 5,
        "start_time": "2024-07-04T15:18:29.272Z"
      },
      {
        "duration": 6,
        "start_time": "2024-07-04T15:24:36.009Z"
      },
      {
        "duration": 406,
        "start_time": "2024-07-04T15:29:06.704Z"
      },
      {
        "duration": 67,
        "start_time": "2024-07-04T15:29:07.112Z"
      },
      {
        "duration": 21,
        "start_time": "2024-07-04T15:29:07.180Z"
      },
      {
        "duration": 16,
        "start_time": "2024-07-04T15:29:07.203Z"
      },
      {
        "duration": 13,
        "start_time": "2024-07-04T15:29:07.221Z"
      },
      {
        "duration": 13,
        "start_time": "2024-07-04T15:29:07.235Z"
      },
      {
        "duration": 14,
        "start_time": "2024-07-04T15:29:07.249Z"
      },
      {
        "duration": 40,
        "start_time": "2024-07-04T15:29:07.264Z"
      },
      {
        "duration": 7,
        "start_time": "2024-07-04T15:29:07.306Z"
      },
      {
        "duration": 5,
        "start_time": "2024-07-04T15:29:07.316Z"
      },
      {
        "duration": 10,
        "start_time": "2024-07-04T15:29:07.323Z"
      },
      {
        "duration": 10,
        "start_time": "2024-07-04T15:29:07.335Z"
      },
      {
        "duration": 4,
        "start_time": "2024-07-04T15:29:07.346Z"
      },
      {
        "duration": 11,
        "start_time": "2024-07-04T15:29:07.351Z"
      },
      {
        "duration": 38,
        "start_time": "2024-07-04T15:29:07.364Z"
      },
      {
        "duration": 958,
        "start_time": "2024-07-04T15:29:07.404Z"
      },
      {
        "duration": 6,
        "start_time": "2024-07-04T15:29:08.364Z"
      },
      {
        "duration": 155,
        "start_time": "2024-07-04T15:29:08.372Z"
      },
      {
        "duration": 6,
        "start_time": "2024-07-04T15:29:08.528Z"
      },
      {
        "duration": 154,
        "start_time": "2024-07-04T15:29:08.536Z"
      },
      {
        "duration": 12,
        "start_time": "2024-07-04T15:29:08.691Z"
      },
      {
        "duration": 258,
        "start_time": "2024-07-04T15:29:08.704Z"
      },
      {
        "duration": 4,
        "start_time": "2024-07-04T15:29:08.964Z"
      },
      {
        "duration": 5,
        "start_time": "2024-07-04T15:29:08.970Z"
      },
      {
        "duration": 24,
        "start_time": "2024-07-04T15:29:08.976Z"
      },
      {
        "duration": 14,
        "start_time": "2024-07-04T15:29:09.002Z"
      },
      {
        "duration": 4,
        "start_time": "2024-07-04T15:29:09.017Z"
      },
      {
        "duration": 273,
        "start_time": "2024-07-04T15:29:09.024Z"
      },
      {
        "duration": 29,
        "start_time": "2024-07-04T15:29:09.300Z"
      },
      {
        "duration": 18,
        "start_time": "2024-07-04T15:29:09.331Z"
      },
      {
        "duration": 24,
        "start_time": "2024-07-04T15:29:09.351Z"
      },
      {
        "duration": 39,
        "start_time": "2024-07-04T15:29:09.376Z"
      },
      {
        "duration": 395,
        "start_time": "2024-07-04T15:29:09.417Z"
      },
      {
        "duration": 282,
        "start_time": "2024-07-04T15:29:09.814Z"
      },
      {
        "duration": 30,
        "start_time": "2024-07-04T15:29:10.097Z"
      },
      {
        "duration": 16,
        "start_time": "2024-07-04T15:29:10.129Z"
      },
      {
        "duration": 14,
        "start_time": "2024-07-04T15:29:10.146Z"
      },
      {
        "duration": 44,
        "start_time": "2024-07-04T15:29:10.161Z"
      },
      {
        "duration": 290,
        "start_time": "2024-07-04T15:29:10.207Z"
      },
      {
        "duration": 6,
        "start_time": "2024-07-04T15:29:10.500Z"
      },
      {
        "duration": 6,
        "start_time": "2024-07-04T15:29:10.507Z"
      },
      {
        "duration": 6,
        "start_time": "2024-07-04T15:29:10.514Z"
      },
      {
        "duration": 448,
        "start_time": "2024-07-05T08:01:25.247Z"
      },
      {
        "duration": 197,
        "start_time": "2024-07-05T08:01:25.697Z"
      },
      {
        "duration": 26,
        "start_time": "2024-07-05T08:01:25.896Z"
      },
      {
        "duration": 23,
        "start_time": "2024-07-05T08:01:25.925Z"
      },
      {
        "duration": 19,
        "start_time": "2024-07-05T08:01:25.950Z"
      },
      {
        "duration": 20,
        "start_time": "2024-07-05T08:01:25.971Z"
      },
      {
        "duration": 16,
        "start_time": "2024-07-05T08:01:25.993Z"
      },
      {
        "duration": 5,
        "start_time": "2024-07-05T08:01:26.011Z"
      },
      {
        "duration": 16,
        "start_time": "2024-07-05T08:01:26.018Z"
      },
      {
        "duration": 7,
        "start_time": "2024-07-05T08:01:26.064Z"
      },
      {
        "duration": 14,
        "start_time": "2024-07-05T08:01:26.073Z"
      },
      {
        "duration": 8,
        "start_time": "2024-07-05T08:01:26.089Z"
      },
      {
        "duration": 10,
        "start_time": "2024-07-05T08:01:26.099Z"
      },
      {
        "duration": 14,
        "start_time": "2024-07-05T08:01:26.111Z"
      },
      {
        "duration": 9,
        "start_time": "2024-07-05T08:01:26.126Z"
      },
      {
        "duration": 1256,
        "start_time": "2024-07-05T08:01:26.136Z"
      },
      {
        "duration": 8,
        "start_time": "2024-07-05T08:01:27.394Z"
      },
      {
        "duration": 127,
        "start_time": "2024-07-05T08:01:27.403Z"
      },
      {
        "duration": 6,
        "start_time": "2024-07-05T08:01:27.531Z"
      },
      {
        "duration": 219,
        "start_time": "2024-07-05T08:01:27.539Z"
      },
      {
        "duration": 9,
        "start_time": "2024-07-05T08:01:27.760Z"
      },
      {
        "duration": 296,
        "start_time": "2024-07-05T08:01:27.772Z"
      },
      {
        "duration": 4,
        "start_time": "2024-07-05T08:01:28.070Z"
      },
      {
        "duration": 18,
        "start_time": "2024-07-05T08:01:28.076Z"
      },
      {
        "duration": 20,
        "start_time": "2024-07-05T08:01:28.096Z"
      },
      {
        "duration": 15,
        "start_time": "2024-07-05T08:01:28.118Z"
      },
      {
        "duration": 4,
        "start_time": "2024-07-05T08:01:28.134Z"
      },
      {
        "duration": 293,
        "start_time": "2024-07-05T08:01:28.141Z"
      },
      {
        "duration": 37,
        "start_time": "2024-07-05T08:01:28.436Z"
      },
      {
        "duration": 25,
        "start_time": "2024-07-05T08:01:28.475Z"
      },
      {
        "duration": 121,
        "start_time": "2024-07-05T08:01:28.503Z"
      },
      {
        "duration": 19,
        "start_time": "2024-07-05T08:01:28.626Z"
      },
      {
        "duration": 342,
        "start_time": "2024-07-05T08:01:28.664Z"
      },
      {
        "duration": 385,
        "start_time": "2024-07-05T08:01:29.008Z"
      },
      {
        "duration": 32,
        "start_time": "2024-07-05T08:01:29.395Z"
      },
      {
        "duration": 18,
        "start_time": "2024-07-05T08:01:29.429Z"
      },
      {
        "duration": 45,
        "start_time": "2024-07-05T08:01:29.449Z"
      },
      {
        "duration": 23,
        "start_time": "2024-07-05T08:01:29.496Z"
      },
      {
        "duration": 376,
        "start_time": "2024-07-05T08:01:29.521Z"
      },
      {
        "duration": 8,
        "start_time": "2024-07-05T08:01:29.899Z"
      },
      {
        "duration": 7,
        "start_time": "2024-07-05T08:01:29.909Z"
      },
      {
        "duration": 34,
        "start_time": "2024-07-05T08:01:29.917Z"
      },
      {
        "duration": 5,
        "start_time": "2024-07-05T08:09:32.036Z"
      },
      {
        "duration": 119,
        "start_time": "2024-07-05T08:21:38.587Z"
      },
      {
        "duration": 163,
        "start_time": "2024-07-05T08:27:44.404Z"
      },
      {
        "duration": 127,
        "start_time": "2024-07-05T08:31:57.655Z"
      },
      {
        "duration": 10,
        "start_time": "2024-07-05T08:34:19.149Z"
      },
      {
        "duration": 179,
        "start_time": "2024-07-05T08:44:40.559Z"
      },
      {
        "duration": 371,
        "start_time": "2024-07-05T08:46:37.237Z"
      },
      {
        "duration": 265,
        "start_time": "2024-07-05T08:47:54.376Z"
      },
      {
        "duration": 163,
        "start_time": "2024-07-05T08:49:11.587Z"
      },
      {
        "duration": 265,
        "start_time": "2024-07-05T08:49:47.232Z"
      },
      {
        "duration": 253,
        "start_time": "2024-07-05T08:50:31.030Z"
      },
      {
        "duration": 282,
        "start_time": "2024-07-05T08:56:12.976Z"
      },
      {
        "duration": 1358,
        "start_time": "2024-07-05T09:40:29.753Z"
      },
      {
        "duration": 72,
        "start_time": "2024-07-05T09:40:31.113Z"
      },
      {
        "duration": 25,
        "start_time": "2024-07-05T09:40:31.187Z"
      },
      {
        "duration": 43,
        "start_time": "2024-07-05T09:40:31.214Z"
      },
      {
        "duration": 151,
        "start_time": "2024-07-05T09:40:31.260Z"
      },
      {
        "duration": 118,
        "start_time": "2024-07-05T09:40:31.412Z"
      },
      {
        "duration": 42,
        "start_time": "2024-07-05T09:40:31.532Z"
      },
      {
        "duration": 37,
        "start_time": "2024-07-05T09:40:31.576Z"
      },
      {
        "duration": 21,
        "start_time": "2024-07-05T09:40:31.615Z"
      },
      {
        "duration": 51,
        "start_time": "2024-07-05T09:40:31.640Z"
      },
      {
        "duration": 34,
        "start_time": "2024-07-05T09:40:31.692Z"
      },
      {
        "duration": 61,
        "start_time": "2024-07-05T09:40:31.728Z"
      },
      {
        "duration": 31,
        "start_time": "2024-07-05T09:40:31.792Z"
      },
      {
        "duration": 45,
        "start_time": "2024-07-05T09:40:31.825Z"
      },
      {
        "duration": 43,
        "start_time": "2024-07-05T09:40:31.872Z"
      },
      {
        "duration": 26,
        "start_time": "2024-07-05T09:40:31.917Z"
      },
      {
        "duration": 240,
        "start_time": "2024-07-05T09:40:31.945Z"
      },
      {
        "duration": 7,
        "start_time": "2024-07-05T09:40:32.186Z"
      },
      {
        "duration": 167,
        "start_time": "2024-07-05T09:40:32.195Z"
      },
      {
        "duration": 9,
        "start_time": "2024-07-05T09:40:32.366Z"
      },
      {
        "duration": 79,
        "start_time": "2024-07-05T09:40:32.376Z"
      },
      {
        "duration": 248,
        "start_time": "2024-07-05T09:40:32.458Z"
      },
      {
        "duration": 8,
        "start_time": "2024-07-05T09:40:32.708Z"
      },
      {
        "duration": 310,
        "start_time": "2024-07-05T09:40:32.718Z"
      },
      {
        "duration": 6,
        "start_time": "2024-07-05T09:40:33.031Z"
      },
      {
        "duration": 12,
        "start_time": "2024-07-05T09:40:33.039Z"
      },
      {
        "duration": 21,
        "start_time": "2024-07-05T09:40:33.053Z"
      },
      {
        "duration": 24,
        "start_time": "2024-07-05T09:40:33.080Z"
      },
      {
        "duration": 12,
        "start_time": "2024-07-05T09:40:33.105Z"
      },
      {
        "duration": 384,
        "start_time": "2024-07-05T09:40:33.119Z"
      },
      {
        "duration": 43,
        "start_time": "2024-07-05T09:40:33.505Z"
      },
      {
        "duration": 38,
        "start_time": "2024-07-05T09:40:33.550Z"
      },
      {
        "duration": 28,
        "start_time": "2024-07-05T09:40:33.590Z"
      },
      {
        "duration": 46,
        "start_time": "2024-07-05T09:40:33.621Z"
      },
      {
        "duration": 457,
        "start_time": "2024-07-05T09:40:33.669Z"
      },
      {
        "duration": 400,
        "start_time": "2024-07-05T09:40:34.128Z"
      },
      {
        "duration": 20,
        "start_time": "2024-07-05T09:40:34.530Z"
      },
      {
        "duration": 54,
        "start_time": "2024-07-05T09:40:34.551Z"
      },
      {
        "duration": 25,
        "start_time": "2024-07-05T09:40:34.607Z"
      },
      {
        "duration": 55,
        "start_time": "2024-07-05T09:40:34.634Z"
      },
      {
        "duration": 522,
        "start_time": "2024-07-05T09:40:34.697Z"
      },
      {
        "duration": 12,
        "start_time": "2024-07-05T09:40:35.221Z"
      },
      {
        "duration": 10,
        "start_time": "2024-07-05T09:40:35.235Z"
      },
      {
        "duration": 29,
        "start_time": "2024-07-05T09:40:35.247Z"
      },
      {
        "duration": 1198,
        "start_time": "2024-07-05T09:45:59.628Z"
      },
      {
        "duration": 66,
        "start_time": "2024-07-05T09:46:00.828Z"
      },
      {
        "duration": 56,
        "start_time": "2024-07-05T09:46:00.896Z"
      },
      {
        "duration": 36,
        "start_time": "2024-07-05T09:46:00.954Z"
      },
      {
        "duration": 40,
        "start_time": "2024-07-05T09:46:00.991Z"
      },
      {
        "duration": 41,
        "start_time": "2024-07-05T09:46:01.032Z"
      },
      {
        "duration": 42,
        "start_time": "2024-07-05T09:46:01.075Z"
      },
      {
        "duration": 29,
        "start_time": "2024-07-05T09:46:01.119Z"
      },
      {
        "duration": 38,
        "start_time": "2024-07-05T09:46:01.150Z"
      },
      {
        "duration": 30,
        "start_time": "2024-07-05T09:46:01.190Z"
      },
      {
        "duration": 51,
        "start_time": "2024-07-05T09:46:01.222Z"
      },
      {
        "duration": 36,
        "start_time": "2024-07-05T09:46:01.274Z"
      },
      {
        "duration": 16,
        "start_time": "2024-07-05T09:46:01.312Z"
      },
      {
        "duration": 44,
        "start_time": "2024-07-05T09:46:01.329Z"
      },
      {
        "duration": 50,
        "start_time": "2024-07-05T09:46:01.375Z"
      },
      {
        "duration": 37,
        "start_time": "2024-07-05T09:46:01.427Z"
      },
      {
        "duration": 218,
        "start_time": "2024-07-05T09:46:01.466Z"
      },
      {
        "duration": 6,
        "start_time": "2024-07-05T09:46:01.686Z"
      },
      {
        "duration": 178,
        "start_time": "2024-07-05T09:46:01.694Z"
      },
      {
        "duration": 5,
        "start_time": "2024-07-05T09:46:01.874Z"
      },
      {
        "duration": 21,
        "start_time": "2024-07-05T09:46:01.881Z"
      },
      {
        "duration": 210,
        "start_time": "2024-07-05T09:46:01.904Z"
      },
      {
        "duration": 7,
        "start_time": "2024-07-05T09:46:02.116Z"
      },
      {
        "duration": 309,
        "start_time": "2024-07-05T09:46:02.125Z"
      },
      {
        "duration": 4,
        "start_time": "2024-07-05T09:46:02.436Z"
      },
      {
        "duration": 14,
        "start_time": "2024-07-05T09:46:02.442Z"
      },
      {
        "duration": 38,
        "start_time": "2024-07-05T09:46:02.458Z"
      },
      {
        "duration": 15,
        "start_time": "2024-07-05T09:46:02.500Z"
      },
      {
        "duration": 4,
        "start_time": "2024-07-05T09:46:02.517Z"
      },
      {
        "duration": 277,
        "start_time": "2024-07-05T09:46:02.523Z"
      },
      {
        "duration": 30,
        "start_time": "2024-07-05T09:46:02.802Z"
      },
      {
        "duration": 76,
        "start_time": "2024-07-05T09:46:02.834Z"
      },
      {
        "duration": 25,
        "start_time": "2024-07-05T09:46:02.912Z"
      },
      {
        "duration": 19,
        "start_time": "2024-07-05T09:46:02.939Z"
      },
      {
        "duration": 392,
        "start_time": "2024-07-05T09:46:02.959Z"
      },
      {
        "duration": 304,
        "start_time": "2024-07-05T09:46:03.353Z"
      },
      {
        "duration": 31,
        "start_time": "2024-07-05T09:46:03.659Z"
      },
      {
        "duration": 35,
        "start_time": "2024-07-05T09:46:03.692Z"
      },
      {
        "duration": 51,
        "start_time": "2024-07-05T09:46:03.728Z"
      },
      {
        "duration": 20,
        "start_time": "2024-07-05T09:46:03.781Z"
      },
      {
        "duration": 323,
        "start_time": "2024-07-05T09:46:03.802Z"
      },
      {
        "duration": 8,
        "start_time": "2024-07-05T09:46:04.127Z"
      },
      {
        "duration": 6,
        "start_time": "2024-07-05T09:46:04.137Z"
      },
      {
        "duration": 25,
        "start_time": "2024-07-05T09:46:04.144Z"
      },
      {
        "duration": 1190,
        "start_time": "2024-07-05T09:48:19.315Z"
      },
      {
        "duration": 71,
        "start_time": "2024-07-05T09:48:20.507Z"
      },
      {
        "duration": 25,
        "start_time": "2024-07-05T09:48:20.580Z"
      },
      {
        "duration": 19,
        "start_time": "2024-07-05T09:48:20.607Z"
      },
      {
        "duration": 21,
        "start_time": "2024-07-05T09:48:20.628Z"
      },
      {
        "duration": 27,
        "start_time": "2024-07-05T09:48:20.650Z"
      },
      {
        "duration": 16,
        "start_time": "2024-07-05T09:48:20.679Z"
      },
      {
        "duration": 6,
        "start_time": "2024-07-05T09:48:20.696Z"
      },
      {
        "duration": 8,
        "start_time": "2024-07-05T09:48:20.703Z"
      },
      {
        "duration": 8,
        "start_time": "2024-07-05T09:48:20.713Z"
      },
      {
        "duration": 6,
        "start_time": "2024-07-05T09:48:20.765Z"
      },
      {
        "duration": 23,
        "start_time": "2024-07-05T09:48:20.773Z"
      },
      {
        "duration": 6,
        "start_time": "2024-07-05T09:48:20.797Z"
      },
      {
        "duration": 23,
        "start_time": "2024-07-05T09:48:20.805Z"
      },
      {
        "duration": 48,
        "start_time": "2024-07-05T09:48:20.829Z"
      },
      {
        "duration": 6,
        "start_time": "2024-07-05T09:48:20.879Z"
      },
      {
        "duration": 178,
        "start_time": "2024-07-05T09:48:20.887Z"
      },
      {
        "duration": 6,
        "start_time": "2024-07-05T09:48:21.066Z"
      },
      {
        "duration": 138,
        "start_time": "2024-07-05T09:48:21.073Z"
      },
      {
        "duration": 5,
        "start_time": "2024-07-05T09:48:21.213Z"
      },
      {
        "duration": 11,
        "start_time": "2024-07-05T09:48:21.220Z"
      },
      {
        "duration": 205,
        "start_time": "2024-07-05T09:48:21.233Z"
      },
      {
        "duration": 7,
        "start_time": "2024-07-05T09:48:21.439Z"
      },
      {
        "duration": 310,
        "start_time": "2024-07-05T09:48:21.447Z"
      },
      {
        "duration": 8,
        "start_time": "2024-07-05T09:48:21.760Z"
      },
      {
        "duration": 7,
        "start_time": "2024-07-05T09:48:21.770Z"
      },
      {
        "duration": 9,
        "start_time": "2024-07-05T09:48:21.779Z"
      },
      {
        "duration": 19,
        "start_time": "2024-07-05T09:48:21.793Z"
      },
      {
        "duration": 5,
        "start_time": "2024-07-05T09:48:21.814Z"
      },
      {
        "duration": 367,
        "start_time": "2024-07-05T09:48:21.821Z"
      },
      {
        "duration": 30,
        "start_time": "2024-07-05T09:48:22.190Z"
      },
      {
        "duration": 43,
        "start_time": "2024-07-05T09:48:22.222Z"
      },
      {
        "duration": 24,
        "start_time": "2024-07-05T09:48:22.267Z"
      },
      {
        "duration": 18,
        "start_time": "2024-07-05T09:48:22.293Z"
      },
      {
        "duration": 409,
        "start_time": "2024-07-05T09:48:22.312Z"
      },
      {
        "duration": 304,
        "start_time": "2024-07-05T09:48:22.722Z"
      },
      {
        "duration": 18,
        "start_time": "2024-07-05T09:48:23.028Z"
      },
      {
        "duration": 40,
        "start_time": "2024-07-05T09:48:23.048Z"
      },
      {
        "duration": 28,
        "start_time": "2024-07-05T09:48:23.089Z"
      },
      {
        "duration": 19,
        "start_time": "2024-07-05T09:48:23.119Z"
      },
      {
        "duration": 329,
        "start_time": "2024-07-05T09:48:23.139Z"
      },
      {
        "duration": 7,
        "start_time": "2024-07-05T09:48:23.470Z"
      },
      {
        "duration": 20,
        "start_time": "2024-07-05T09:48:23.479Z"
      },
      {
        "duration": 39,
        "start_time": "2024-07-05T09:48:23.501Z"
      },
      {
        "duration": 1215,
        "start_time": "2024-07-05T09:53:09.497Z"
      },
      {
        "duration": 67,
        "start_time": "2024-07-05T09:53:10.714Z"
      },
      {
        "duration": 19,
        "start_time": "2024-07-05T09:53:10.782Z"
      },
      {
        "duration": 16,
        "start_time": "2024-07-05T09:53:10.803Z"
      },
      {
        "duration": 14,
        "start_time": "2024-07-05T09:53:10.820Z"
      },
      {
        "duration": 29,
        "start_time": "2024-07-05T09:53:10.836Z"
      },
      {
        "duration": 15,
        "start_time": "2024-07-05T09:53:10.867Z"
      },
      {
        "duration": 9,
        "start_time": "2024-07-05T09:53:10.883Z"
      },
      {
        "duration": 38,
        "start_time": "2024-07-05T09:53:10.893Z"
      },
      {
        "duration": 15,
        "start_time": "2024-07-05T09:53:10.934Z"
      },
      {
        "duration": 6,
        "start_time": "2024-07-05T09:53:10.951Z"
      },
      {
        "duration": 27,
        "start_time": "2024-07-05T09:53:10.959Z"
      },
      {
        "duration": 21,
        "start_time": "2024-07-05T09:53:10.987Z"
      },
      {
        "duration": 7,
        "start_time": "2024-07-05T09:53:11.010Z"
      },
      {
        "duration": 15,
        "start_time": "2024-07-05T09:53:11.019Z"
      },
      {
        "duration": 17,
        "start_time": "2024-07-05T09:53:11.035Z"
      },
      {
        "duration": 181,
        "start_time": "2024-07-05T09:53:11.054Z"
      },
      {
        "duration": 7,
        "start_time": "2024-07-05T09:53:11.236Z"
      },
      {
        "duration": 146,
        "start_time": "2024-07-05T09:53:11.245Z"
      },
      {
        "duration": 5,
        "start_time": "2024-07-05T09:53:11.393Z"
      },
      {
        "duration": 11,
        "start_time": "2024-07-05T09:53:11.399Z"
      },
      {
        "duration": 192,
        "start_time": "2024-07-05T09:53:11.412Z"
      },
      {
        "duration": 7,
        "start_time": "2024-07-05T09:53:11.606Z"
      },
      {
        "duration": 320,
        "start_time": "2024-07-05T09:53:11.614Z"
      },
      {
        "duration": 6,
        "start_time": "2024-07-05T09:53:11.936Z"
      },
      {
        "duration": 23,
        "start_time": "2024-07-05T09:53:11.943Z"
      },
      {
        "duration": 8,
        "start_time": "2024-07-05T09:53:11.968Z"
      },
      {
        "duration": 17,
        "start_time": "2024-07-05T09:53:11.979Z"
      },
      {
        "duration": 4,
        "start_time": "2024-07-05T09:53:11.998Z"
      },
      {
        "duration": 324,
        "start_time": "2024-07-05T09:53:12.004Z"
      },
      {
        "duration": 51,
        "start_time": "2024-07-05T09:53:12.329Z"
      },
      {
        "duration": 23,
        "start_time": "2024-07-05T09:53:12.382Z"
      },
      {
        "duration": 26,
        "start_time": "2024-07-05T09:53:12.407Z"
      },
      {
        "duration": 77,
        "start_time": "2024-07-05T09:53:12.435Z"
      },
      {
        "duration": 373,
        "start_time": "2024-07-05T09:53:12.514Z"
      },
      {
        "duration": 294,
        "start_time": "2024-07-05T09:53:12.888Z"
      },
      {
        "duration": 19,
        "start_time": "2024-07-05T09:53:13.184Z"
      },
      {
        "duration": 34,
        "start_time": "2024-07-05T09:53:13.205Z"
      },
      {
        "duration": 39,
        "start_time": "2024-07-05T09:53:13.240Z"
      },
      {
        "duration": 19,
        "start_time": "2024-07-05T09:53:13.281Z"
      },
      {
        "duration": 331,
        "start_time": "2024-07-05T09:53:13.302Z"
      },
      {
        "duration": 8,
        "start_time": "2024-07-05T09:53:13.635Z"
      },
      {
        "duration": 21,
        "start_time": "2024-07-05T09:53:13.645Z"
      },
      {
        "duration": 9,
        "start_time": "2024-07-05T09:53:13.668Z"
      },
      {
        "duration": 36,
        "start_time": "2024-07-05T10:02:26.723Z"
      },
      {
        "duration": 10,
        "start_time": "2024-07-05T10:05:29.109Z"
      },
      {
        "duration": 20,
        "start_time": "2024-07-05T10:05:58.586Z"
      },
      {
        "duration": 1262,
        "start_time": "2024-07-05T10:08:23.233Z"
      },
      {
        "duration": 68,
        "start_time": "2024-07-05T10:08:24.497Z"
      },
      {
        "duration": 36,
        "start_time": "2024-07-05T10:08:24.568Z"
      },
      {
        "duration": 18,
        "start_time": "2024-07-05T10:08:24.606Z"
      },
      {
        "duration": 18,
        "start_time": "2024-07-05T10:08:24.626Z"
      },
      {
        "duration": 36,
        "start_time": "2024-07-05T10:08:24.646Z"
      },
      {
        "duration": 18,
        "start_time": "2024-07-05T10:08:24.684Z"
      },
      {
        "duration": 5,
        "start_time": "2024-07-05T10:08:24.704Z"
      },
      {
        "duration": 15,
        "start_time": "2024-07-05T10:08:24.711Z"
      },
      {
        "duration": 19,
        "start_time": "2024-07-05T10:08:24.729Z"
      },
      {
        "duration": 21,
        "start_time": "2024-07-05T10:08:24.751Z"
      },
      {
        "duration": 20,
        "start_time": "2024-07-05T10:08:24.775Z"
      },
      {
        "duration": 6,
        "start_time": "2024-07-05T10:08:24.797Z"
      },
      {
        "duration": 6,
        "start_time": "2024-07-05T10:08:24.804Z"
      },
      {
        "duration": 11,
        "start_time": "2024-07-05T10:08:24.811Z"
      },
      {
        "duration": 10,
        "start_time": "2024-07-05T10:08:24.824Z"
      },
      {
        "duration": 204,
        "start_time": "2024-07-05T10:08:24.836Z"
      },
      {
        "duration": 8,
        "start_time": "2024-07-05T10:08:25.042Z"
      },
      {
        "duration": 140,
        "start_time": "2024-07-05T10:08:25.053Z"
      },
      {
        "duration": 7,
        "start_time": "2024-07-05T10:08:25.196Z"
      },
      {
        "duration": 20,
        "start_time": "2024-07-05T10:08:25.205Z"
      },
      {
        "duration": 211,
        "start_time": "2024-07-05T10:08:25.229Z"
      },
      {
        "duration": 9,
        "start_time": "2024-07-05T10:08:25.442Z"
      },
      {
        "duration": 349,
        "start_time": "2024-07-05T10:08:25.453Z"
      },
      {
        "duration": 6,
        "start_time": "2024-07-05T10:08:25.804Z"
      },
      {
        "duration": 11,
        "start_time": "2024-07-05T10:08:25.812Z"
      },
      {
        "duration": 15,
        "start_time": "2024-07-05T10:08:25.825Z"
      },
      {
        "duration": 39,
        "start_time": "2024-07-05T10:08:25.845Z"
      },
      {
        "duration": 5,
        "start_time": "2024-07-05T10:08:25.887Z"
      },
      {
        "duration": 334,
        "start_time": "2024-07-05T10:08:25.894Z"
      },
      {
        "duration": 39,
        "start_time": "2024-07-05T10:08:26.230Z"
      },
      {
        "duration": 44,
        "start_time": "2024-07-05T10:08:26.271Z"
      },
      {
        "duration": 63,
        "start_time": "2024-07-05T10:08:26.317Z"
      },
      {
        "duration": 19,
        "start_time": "2024-07-05T10:08:26.381Z"
      },
      {
        "duration": 423,
        "start_time": "2024-07-05T10:08:26.402Z"
      },
      {
        "duration": 360,
        "start_time": "2024-07-05T10:08:26.827Z"
      },
      {
        "duration": 19,
        "start_time": "2024-07-05T10:08:27.189Z"
      },
      {
        "duration": 79,
        "start_time": "2024-07-05T10:08:27.210Z"
      },
      {
        "duration": 33,
        "start_time": "2024-07-05T10:08:27.291Z"
      },
      {
        "duration": 45,
        "start_time": "2024-07-05T10:08:27.327Z"
      },
      {
        "duration": 342,
        "start_time": "2024-07-05T10:08:27.374Z"
      },
      {
        "duration": 8,
        "start_time": "2024-07-05T10:08:27.717Z"
      },
      {
        "duration": 8,
        "start_time": "2024-07-05T10:08:27.727Z"
      },
      {
        "duration": 30,
        "start_time": "2024-07-05T10:08:27.737Z"
      },
      {
        "duration": 8,
        "start_time": "2024-07-05T10:26:46.087Z"
      },
      {
        "duration": 9,
        "start_time": "2024-07-05T10:27:04.568Z"
      },
      {
        "duration": 1267,
        "start_time": "2024-07-05T10:42:22.174Z"
      },
      {
        "duration": 68,
        "start_time": "2024-07-05T10:42:23.443Z"
      },
      {
        "duration": 24,
        "start_time": "2024-07-05T10:42:23.514Z"
      },
      {
        "duration": 27,
        "start_time": "2024-07-05T10:42:23.539Z"
      },
      {
        "duration": 15,
        "start_time": "2024-07-05T10:42:23.567Z"
      },
      {
        "duration": 15,
        "start_time": "2024-07-05T10:42:23.584Z"
      },
      {
        "duration": 17,
        "start_time": "2024-07-05T10:42:23.601Z"
      },
      {
        "duration": 7,
        "start_time": "2024-07-05T10:42:23.620Z"
      },
      {
        "duration": 40,
        "start_time": "2024-07-05T10:42:23.628Z"
      },
      {
        "duration": 9,
        "start_time": "2024-07-05T10:42:23.672Z"
      },
      {
        "duration": 6,
        "start_time": "2024-07-05T10:42:23.683Z"
      },
      {
        "duration": 13,
        "start_time": "2024-07-05T10:42:23.690Z"
      },
      {
        "duration": 6,
        "start_time": "2024-07-05T10:42:23.705Z"
      },
      {
        "duration": 25,
        "start_time": "2024-07-05T10:42:23.713Z"
      },
      {
        "duration": 26,
        "start_time": "2024-07-05T10:42:23.739Z"
      },
      {
        "duration": 5,
        "start_time": "2024-07-05T10:42:23.767Z"
      },
      {
        "duration": 203,
        "start_time": "2024-07-05T10:42:23.774Z"
      },
      {
        "duration": 5,
        "start_time": "2024-07-05T10:42:23.979Z"
      },
      {
        "duration": 146,
        "start_time": "2024-07-05T10:42:23.986Z"
      },
      {
        "duration": 6,
        "start_time": "2024-07-05T10:42:24.133Z"
      },
      {
        "duration": 18,
        "start_time": "2024-07-05T10:42:24.142Z"
      },
      {
        "duration": 183,
        "start_time": "2024-07-05T10:42:24.165Z"
      },
      {
        "duration": 17,
        "start_time": "2024-07-05T10:42:24.350Z"
      },
      {
        "duration": 296,
        "start_time": "2024-07-05T10:42:24.369Z"
      },
      {
        "duration": 5,
        "start_time": "2024-07-05T10:42:24.666Z"
      },
      {
        "duration": 45,
        "start_time": "2024-07-05T10:42:24.673Z"
      },
      {
        "duration": 14,
        "start_time": "2024-07-05T10:42:24.719Z"
      },
      {
        "duration": 18,
        "start_time": "2024-07-05T10:42:24.737Z"
      },
      {
        "duration": 9,
        "start_time": "2024-07-05T10:42:24.757Z"
      },
      {
        "duration": 282,
        "start_time": "2024-07-05T10:42:24.768Z"
      },
      {
        "duration": 44,
        "start_time": "2024-07-05T10:42:25.053Z"
      },
      {
        "duration": 31,
        "start_time": "2024-07-05T10:42:25.099Z"
      },
      {
        "duration": 24,
        "start_time": "2024-07-05T10:42:25.132Z"
      },
      {
        "duration": 18,
        "start_time": "2024-07-05T10:42:25.164Z"
      },
      {
        "duration": 418,
        "start_time": "2024-07-05T10:42:25.184Z"
      },
      {
        "duration": 337,
        "start_time": "2024-07-05T10:42:25.604Z"
      },
      {
        "duration": 28,
        "start_time": "2024-07-05T10:42:25.943Z"
      },
      {
        "duration": 40,
        "start_time": "2024-07-05T10:42:25.973Z"
      },
      {
        "duration": 22,
        "start_time": "2024-07-05T10:42:26.015Z"
      },
      {
        "duration": 38,
        "start_time": "2024-07-05T10:42:26.039Z"
      },
      {
        "duration": 305,
        "start_time": "2024-07-05T10:42:26.079Z"
      },
      {
        "duration": 8,
        "start_time": "2024-07-05T10:42:26.386Z"
      },
      {
        "duration": 37,
        "start_time": "2024-07-05T10:42:26.395Z"
      },
      {
        "duration": 56,
        "start_time": "2024-07-05T10:42:26.433Z"
      },
      {
        "duration": 1288,
        "start_time": "2024-07-05T13:20:02.648Z"
      },
      {
        "duration": 74,
        "start_time": "2024-07-05T13:20:03.939Z"
      },
      {
        "duration": 21,
        "start_time": "2024-07-05T13:20:04.015Z"
      },
      {
        "duration": 21,
        "start_time": "2024-07-05T13:20:04.038Z"
      },
      {
        "duration": 28,
        "start_time": "2024-07-05T13:20:04.061Z"
      },
      {
        "duration": 20,
        "start_time": "2024-07-05T13:20:04.091Z"
      },
      {
        "duration": 16,
        "start_time": "2024-07-05T13:20:04.113Z"
      },
      {
        "duration": 21,
        "start_time": "2024-07-05T13:20:04.131Z"
      },
      {
        "duration": 10,
        "start_time": "2024-07-05T13:20:04.154Z"
      },
      {
        "duration": 25,
        "start_time": "2024-07-05T13:20:04.166Z"
      },
      {
        "duration": 7,
        "start_time": "2024-07-05T13:20:04.193Z"
      },
      {
        "duration": 21,
        "start_time": "2024-07-05T13:20:04.202Z"
      },
      {
        "duration": 30,
        "start_time": "2024-07-05T13:20:04.224Z"
      },
      {
        "duration": 11,
        "start_time": "2024-07-05T13:20:04.256Z"
      },
      {
        "duration": 18,
        "start_time": "2024-07-05T13:20:04.269Z"
      },
      {
        "duration": 16,
        "start_time": "2024-07-05T13:20:04.288Z"
      },
      {
        "duration": 192,
        "start_time": "2024-07-05T13:20:04.306Z"
      },
      {
        "duration": 6,
        "start_time": "2024-07-05T13:20:04.500Z"
      },
      {
        "duration": 153,
        "start_time": "2024-07-05T13:20:04.508Z"
      },
      {
        "duration": 7,
        "start_time": "2024-07-05T13:20:04.663Z"
      },
      {
        "duration": 10,
        "start_time": "2024-07-05T13:20:04.681Z"
      },
      {
        "duration": 203,
        "start_time": "2024-07-05T13:20:04.693Z"
      },
      {
        "duration": 7,
        "start_time": "2024-07-05T13:20:04.897Z"
      },
      {
        "duration": 302,
        "start_time": "2024-07-05T13:20:04.905Z"
      },
      {
        "duration": 5,
        "start_time": "2024-07-05T13:20:05.209Z"
      },
      {
        "duration": 28,
        "start_time": "2024-07-05T13:20:05.215Z"
      },
      {
        "duration": 9,
        "start_time": "2024-07-05T13:20:05.244Z"
      },
      {
        "duration": 15,
        "start_time": "2024-07-05T13:20:05.256Z"
      },
      {
        "duration": 12,
        "start_time": "2024-07-05T13:20:05.272Z"
      },
      {
        "duration": 283,
        "start_time": "2024-07-05T13:20:05.285Z"
      },
      {
        "duration": 38,
        "start_time": "2024-07-05T13:20:05.569Z"
      },
      {
        "duration": 19,
        "start_time": "2024-07-05T13:20:05.609Z"
      },
      {
        "duration": 25,
        "start_time": "2024-07-05T13:20:05.630Z"
      },
      {
        "duration": 42,
        "start_time": "2024-07-05T13:20:05.657Z"
      },
      {
        "duration": 440,
        "start_time": "2024-07-05T13:20:05.700Z"
      },
      {
        "duration": 332,
        "start_time": "2024-07-05T13:20:06.141Z"
      },
      {
        "duration": 29,
        "start_time": "2024-07-05T13:20:06.474Z"
      },
      {
        "duration": 32,
        "start_time": "2024-07-05T13:20:06.505Z"
      },
      {
        "duration": 20,
        "start_time": "2024-07-05T13:20:06.539Z"
      },
      {
        "duration": 20,
        "start_time": "2024-07-05T13:20:06.583Z"
      },
      {
        "duration": 335,
        "start_time": "2024-07-05T13:20:06.605Z"
      },
      {
        "duration": 8,
        "start_time": "2024-07-05T13:20:06.942Z"
      },
      {
        "duration": 6,
        "start_time": "2024-07-05T13:20:06.952Z"
      },
      {
        "duration": 28,
        "start_time": "2024-07-05T13:20:06.960Z"
      },
      {
        "duration": 1268,
        "start_time": "2024-07-05T14:00:08.409Z"
      },
      {
        "duration": 203,
        "start_time": "2024-07-05T14:00:09.678Z"
      },
      {
        "duration": 22,
        "start_time": "2024-07-05T14:00:09.883Z"
      },
      {
        "duration": 41,
        "start_time": "2024-07-05T14:00:09.907Z"
      },
      {
        "duration": 26,
        "start_time": "2024-07-05T14:00:09.950Z"
      },
      {
        "duration": 49,
        "start_time": "2024-07-05T14:00:09.978Z"
      },
      {
        "duration": 29,
        "start_time": "2024-07-05T14:00:10.029Z"
      },
      {
        "duration": 20,
        "start_time": "2024-07-05T14:00:10.059Z"
      },
      {
        "duration": 29,
        "start_time": "2024-07-05T14:00:10.080Z"
      },
      {
        "duration": 36,
        "start_time": "2024-07-05T14:00:10.111Z"
      },
      {
        "duration": 44,
        "start_time": "2024-07-05T14:00:10.149Z"
      },
      {
        "duration": 38,
        "start_time": "2024-07-05T14:00:10.195Z"
      },
      {
        "duration": 81,
        "start_time": "2024-07-05T14:00:10.235Z"
      },
      {
        "duration": 15,
        "start_time": "2024-07-05T14:00:10.317Z"
      },
      {
        "duration": 29,
        "start_time": "2024-07-05T14:00:10.333Z"
      },
      {
        "duration": 21,
        "start_time": "2024-07-05T14:00:10.364Z"
      },
      {
        "duration": 203,
        "start_time": "2024-07-05T14:00:10.387Z"
      },
      {
        "duration": 6,
        "start_time": "2024-07-05T14:00:10.591Z"
      },
      {
        "duration": 141,
        "start_time": "2024-07-05T14:00:10.598Z"
      },
      {
        "duration": 4,
        "start_time": "2024-07-05T14:00:10.741Z"
      },
      {
        "duration": 20,
        "start_time": "2024-07-05T14:00:10.746Z"
      },
      {
        "duration": 202,
        "start_time": "2024-07-05T14:00:10.767Z"
      },
      {
        "duration": 6,
        "start_time": "2024-07-05T14:00:10.970Z"
      },
      {
        "duration": 271,
        "start_time": "2024-07-05T14:00:10.978Z"
      },
      {
        "duration": 12,
        "start_time": "2024-07-05T14:00:11.251Z"
      },
      {
        "duration": 106,
        "start_time": "2024-07-05T14:00:11.265Z"
      },
      {
        "duration": 13,
        "start_time": "2024-07-05T14:00:11.373Z"
      },
      {
        "duration": 15,
        "start_time": "2024-07-05T14:00:11.390Z"
      },
      {
        "duration": 6,
        "start_time": "2024-07-05T14:00:11.407Z"
      },
      {
        "duration": 276,
        "start_time": "2024-07-05T14:00:11.415Z"
      },
      {
        "duration": 28,
        "start_time": "2024-07-05T14:00:11.693Z"
      },
      {
        "duration": 39,
        "start_time": "2024-07-05T14:00:11.723Z"
      },
      {
        "duration": 25,
        "start_time": "2024-07-05T14:00:11.763Z"
      },
      {
        "duration": 19,
        "start_time": "2024-07-05T14:00:11.790Z"
      },
      {
        "duration": 413,
        "start_time": "2024-07-05T14:00:11.810Z"
      },
      {
        "duration": 288,
        "start_time": "2024-07-05T14:00:12.225Z"
      },
      {
        "duration": 19,
        "start_time": "2024-07-05T14:00:12.515Z"
      },
      {
        "duration": 47,
        "start_time": "2024-07-05T14:00:12.535Z"
      },
      {
        "duration": 20,
        "start_time": "2024-07-05T14:00:12.583Z"
      },
      {
        "duration": 18,
        "start_time": "2024-07-05T14:00:12.604Z"
      },
      {
        "duration": 311,
        "start_time": "2024-07-05T14:00:12.624Z"
      },
      {
        "duration": 6,
        "start_time": "2024-07-05T14:00:12.937Z"
      },
      {
        "duration": 21,
        "start_time": "2024-07-05T14:00:12.945Z"
      },
      {
        "duration": 8,
        "start_time": "2024-07-05T14:00:12.967Z"
      }
    ],
    "kernelspec": {
      "display_name": "Python 3 (ipykernel)",
      "language": "python",
      "name": "python3"
    },
    "language_info": {
      "codemirror_mode": {
        "name": "ipython",
        "version": 3
      },
      "file_extension": ".py",
      "mimetype": "text/x-python",
      "name": "python",
      "nbconvert_exporter": "python",
      "pygments_lexer": "ipython3",
      "version": "3.9.5"
    },
    "toc": {
      "base_numbering": 1,
      "nav_menu": {},
      "number_sections": true,
      "sideBar": true,
      "skip_h1_title": true,
      "title_cell": "Table of Contents",
      "title_sidebar": "Contents",
      "toc_cell": false,
      "toc_position": {},
      "toc_section_display": true,
      "toc_window_display": false
    },
    "colab": {
      "provenance": []
    }
  },
  "nbformat": 4,
  "nbformat_minor": 5
}